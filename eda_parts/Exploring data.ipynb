{
 "cells": [
  {
   "cell_type": "code",
   "execution_count": 1,
   "id": "1fc5f330",
   "metadata": {},
   "outputs": [],
   "source": [
    "import pandas as pd\n",
    "import numpy as np\n",
    "pd.set_option('display.max_colwidth', None)\n",
    "pd.set_option('display.max_columns', None)"
   ]
  },
  {
   "cell_type": "code",
   "execution_count": 2,
   "id": "e43b1101",
   "metadata": {},
   "outputs": [],
   "source": [
    "listings = pd.read_csv('listings.csv')"
   ]
  },
  {
   "cell_type": "markdown",
   "id": "19e41fd3",
   "metadata": {},
   "source": [
    "# 1. Column analysis"
   ]
  },
  {
   "cell_type": "code",
   "execution_count": 3,
   "id": "43064525",
   "metadata": {
    "scrolled": true
   },
   "outputs": [
    {
     "name": "stdout",
     "output_type": "stream",
     "text": [
      "<class 'pandas.core.frame.DataFrame'>\n",
      "RangeIndex: 14667 entries, 0 to 14666\n",
      "Data columns (total 65 columns):\n",
      " #   Column                Non-Null Count  Dtype  \n",
      "---  ------                --------------  -----  \n",
      " 0   __type                14667 non-null  object \n",
      " 1   MlsNumber             14667 non-null  int64  \n",
      " 2   CategoryCode          14667 non-null  object \n",
      " 3   Lat                   14667 non-null  float64\n",
      " 4   Lng                   14667 non-null  float64\n",
      " 5   Address               14667 non-null  object \n",
      " 6   City                  14667 non-null  object \n",
      " 7   Quartier              11488 non-null  object \n",
      " 8   ShortCity             14667 non-null  object \n",
      " 9   PostalCode            14667 non-null  object \n",
      " 10  ShortDescription      0 non-null      float64\n",
      " 11  LongDescription       12922 non-null  object \n",
      " 12  PhotoText             14667 non-null  object \n",
      " 13  BuyPrice              14667 non-null  object \n",
      " 14  BuyPriceDesc          2811 non-null   object \n",
      " 15  LocationPrice         259 non-null    object \n",
      " 16  LocationPriceDesc     259 non-null    object \n",
      " 17  Category              14667 non-null  object \n",
      " 18  Construction          12237 non-null  object \n",
      " 19  OpenHouse             875 non-null    object \n",
      " 20  GenreCode             14667 non-null  object \n",
      " 21  CatgCode              14667 non-null  object \n",
      " 22  Utilisation           3306 non-null   object \n",
      " 23  RevenuEffectif        14667 non-null  int64  \n",
      " 24  RevenuBrutPotentiel   14667 non-null  int64  \n",
      " 25  WalkScore             14667 non-null  int64  \n",
      " 26  SuperficieTerrain     14667 non-null  int64  \n",
      " 27  NbPieces              14667 non-null  int64  \n",
      " 28  NbChambres            14667 non-null  int64  \n",
      " 29  NbSallesEaux          14667 non-null  int64  \n",
      " 30  NbSallesBains         14667 non-null  int64  \n",
      " 31  NbFoyerPoele          14667 non-null  int64  \n",
      " 32  NbEquipements         14667 non-null  int64  \n",
      " 33  NbGarages             14667 non-null  int64  \n",
      " 34  NbStationnements      14667 non-null  int64  \n",
      " 35  NbPiscines            14667 non-null  int64  \n",
      " 36  NbBordEaux            14667 non-null  int64  \n",
      " 37  NbAnimals             14667 non-null  int64  \n",
      " 38  NbCultures            14667 non-null  int64  \n",
      " 39  DiffusionWebUrl       14667 non-null  object \n",
      " 40  PhotoUrl              14667 non-null  object \n",
      " 41  PhotoPrintingUrl      14667 non-null  object \n",
      " 42  FinancialToolUrl      14667 non-null  object \n",
      " 43  PasserelleUrl         13926 non-null  object \n",
      " 44  CommunityUrl          14667 non-null  object \n",
      " 45  GoogleStreetViewUrl   14667 non-null  object \n",
      " 46  WalkScoreUrl          14667 non-null  object \n",
      " 47  VisiteVirtuelleUrl    2601 non-null   object \n",
      " 48  ShareThisUrl          14667 non-null  object \n",
      " 49  SummaryUrl            14667 non-null  object \n",
      " 50  PrintingPageUrl       14667 non-null  object \n",
      " 51  IsFavorite            14667 non-null  bool   \n",
      " 52  IsRemoved             14667 non-null  bool   \n",
      " 53  IsSubject             14667 non-null  bool   \n",
      " 54  IsStrictQueryMatch    14667 non-null  bool   \n",
      " 55  IsFavoriteDisplayed   14667 non-null  bool   \n",
      " 56  IsRemovedDisplayed    14667 non-null  bool   \n",
      " 57  IsNewPrice            14667 non-null  bool   \n",
      " 58  IsNew                 14667 non-null  bool   \n",
      " 59  PageTitle             14667 non-null  object \n",
      " 60  IsEmptyView           14667 non-null  bool   \n",
      " 61  Langue                0 non-null      float64\n",
      " 62  GoogleMapAddressLink  14667 non-null  object \n",
      " 63  IsMissingView         14667 non-null  bool   \n",
      " 64  IsInFavorite          14667 non-null  bool   \n",
      "dtypes: bool(11), float64(4), int64(17), object(33)\n",
      "memory usage: 6.2+ MB\n"
     ]
    }
   ],
   "source": [
    "listings.info()"
   ]
  },
  {
   "cell_type": "markdown",
   "id": "87676cee",
   "metadata": {},
   "source": [
    "## 1.1. Columns description\n",
    "- `__type` - ?\n",
    "- `MlsNumber` - probably id,\n",
    "- `CategoryCode` - 'COP', 'PPR', 'PCI', 'UNI', 'TER', 'FER'\n",
    "    COP: AP (Apartment), LS (Loft/Studio), MA (Condo/Loft, House) -- Townhouse\n",
    "    FER: FE (Farm)\n",
    "    PCI: C (Commercial), I (Industrial), VE (Bulk, block sale)\n",
    "    PPR: 2X (Duplex), 3X (Triplex), 4X (Quadruplex), 5X (Quintuplex), AU (Revenue Property)\n",
    "    TER: TE, TR (Land) \n",
    "    UNI: ME/MEM (Single family, 2 or more storeys), MM (Single family, mobile home), MPM (Single family, split level), PP (single family, bungalow)\n",
    "- `Lat` - latitude,\n",
    "- `Lng` - longitude,\n",
    "- `Adress`\n",
    "- `City` - 33 different cities\n",
    "- `Quartier` - 52 different districts\n",
    "- `ShortDescription` - column to drop, contains only NULLS\n",
    "- `LongDescription` - description od the property(in french or in english)\n",
    "- `BuyPrice` - buy price in dollars\n",
    "- `BuyPriceDesc` - '+GST/QST': - goods and services tax (GST) and the Québec sales tax (QST),\n",
    "    '/square foot', ' /square foot +GST/QST'\n",
    "- `LocationPrice` - maybe additional price for location,\n",
    "- `LocationPriceDesc` -  /month', ' /year', ' /month +GST/QST',\n",
    "       ' /year /square foot +GST/QST', ' /year +GST/QST,\n",
    "- `Category` - type of building, full category name,\n",
    "- `Construction` - year of construction,\n",
    "- `OpenHouse` - probably the open hours when you can come to see the house on sale,\n",
    "- `GenreCode` - ???,\n",
    "- `CatgCode` - duplicate of column `CategoryCode`,\n",
    "- `Utilisation` - mostly nan, other categories: 'Residential only', 'Commercial and residential',\n",
    "       'Industrial and offices', 'Residential and commercial',\n",
    "       'Commercial and office space', 'Commercial and industrial',\n",
    "       'Commercial only', 'Commercial or industrial (income)',\n",
    "       'Multi-family dwelling', 'Offices only', 'Industrial only',\n",
    "       'Other', 'Retirement home',\n",
    "       \n",
    "- `RevenuEffectif` - column to drop, contains only zeros,\n",
    "- `RevenueVrutPotentiel` - Gross potential income (GPI) refers to the total rental income a property can produce if all units were fully leased and rented at market rents with a zero vacancy rate,\n",
    "- `WalkScore` -\n",
    "    | Score  | Description |\n",
    "    |---|--:|\n",
    "    | 90–100\tWalker's Paradise  | Daily errands do not require a car. |\n",
    "    | 70–89\tVery Walkable | Most errands can be accomplished on foot. |\n",
    "    | 50–69\tSomewhat Walkable | Some errands can be accomplished on foot. |\n",
    "    | 25–49\tCar-Dependent | Most errands require a car. |\n",
    "    | 0–24\tCar-Dependent | Almost all errands require a car. |\n",
    "- `SuperficieTerrain` - column to drop, contains only zeros,\n",
    "- `NbPieces` - number of rooms,\n",
    "- `NbChambers` - number of bedrooms,\n",
    "- `NbSallesEaux` - number of bathrooms with shower,\n",
    "- `NbSallesBains` - number of bathrooms with bathtub,\n",
    "- `NbFoyerPoele` - number of fireplaces,\n",
    "- `NbEquipements` - column to drop, contains only zeros,\n",
    "- `NbGarages` - number of garages,\n",
    "- `NbStationnements` - number of parking lots,\n",
    "- `NbPiscines` - number  of pools,\n",
    "- `NbBordEaux` - ???,\n",
    "- `NbAnimals` - column to drop, contains only zeros,\n",
    "- `NbCultures` - ???,\n",
    "- `Language` - column to drop, contains only nulls,\n",
    "\n",
    "\n",
    "\n"
   ]
  },
  {
   "cell_type": "markdown",
   "id": "7bd3734c",
   "metadata": {},
   "source": [
    "### 1.1.1. City vs. ShortCity"
   ]
  },
  {
   "cell_type": "code",
   "execution_count": 4,
   "id": "6aa3c576",
   "metadata": {},
   "outputs": [
    {
     "name": "stdout",
     "output_type": "stream",
     "text": [
      "1172      Côte-des-Neiges/Notre-Dame-de-Grâce (Montréal)\n",
      "1173      Côte-des-Neiges/Notre-Dame-de-Grâce (Montréal)\n",
      "1174      Côte-des-Neiges/Notre-Dame-de-Grâce (Montréal)\n",
      "1175      Côte-des-Neiges/Notre-Dame-de-Grâce (Montréal)\n",
      "1176      Côte-des-Neiges/Notre-Dame-de-Grâce (Montréal)\n",
      "                              ...                       \n",
      "14426    Villeray/Saint-Michel/Parc-Extension (Montréal)\n",
      "14427    Villeray/Saint-Michel/Parc-Extension (Montréal)\n",
      "14428    Villeray/Saint-Michel/Parc-Extension (Montréal)\n",
      "14429    Villeray/Saint-Michel/Parc-Extension (Montréal)\n",
      "14430    Villeray/Saint-Michel/Parc-Extension (Montréal)\n",
      "Name: City, Length: 2385, dtype: object\n",
      "1172     Côte-des-Neiges/Notre-Dame-de-Grâce ...\n",
      "1173     Côte-des-Neiges/Notre-Dame-de-Grâce ...\n",
      "1174     Côte-des-Neiges/Notre-Dame-de-Grâce ...\n",
      "1175     Côte-des-Neiges/Notre-Dame-de-Grâce ...\n",
      "1176     Côte-des-Neiges/Notre-Dame-de-Grâce ...\n",
      "                          ...                   \n",
      "14426    Villeray/Saint-Michel/Parc-Extensio ...\n",
      "14427    Villeray/Saint-Michel/Parc-Extensio ...\n",
      "14428    Villeray/Saint-Michel/Parc-Extensio ...\n",
      "14429    Villeray/Saint-Michel/Parc-Extensio ...\n",
      "14430    Villeray/Saint-Michel/Parc-Extensio ...\n",
      "Name: ShortCity, Length: 2385, dtype: object\n"
     ]
    }
   ],
   "source": [
    "print(listings.City[listings.City != listings.ShortCity])\n",
    "print(listings.ShortCity[listings.City != listings.ShortCity])"
   ]
  },
  {
   "cell_type": "code",
   "execution_count": null,
   "id": "1be9b78c",
   "metadata": {},
   "outputs": [],
   "source": []
  }
 ],
 "metadata": {
  "kernelspec": {
   "display_name": "Python 3 (ipykernel)",
   "language": "python",
   "name": "python3"
  },
  "language_info": {
   "codemirror_mode": {
    "name": "ipython",
    "version": 3
   },
   "file_extension": ".py",
   "mimetype": "text/x-python",
   "name": "python",
   "nbconvert_exporter": "python",
   "pygments_lexer": "ipython3",
   "version": "3.9.7"
  }
 },
 "nbformat": 4,
 "nbformat_minor": 5
}
