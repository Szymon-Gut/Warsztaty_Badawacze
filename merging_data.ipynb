{
 "cells": [
  {
   "cell_type": "markdown",
   "metadata": {},
   "source": [
    "# Merging data"
   ]
  },
  {
   "cell_type": "markdown",
   "metadata": {},
   "source": [
    "Data that is going to be used in model creation is currently spread across datasets:\n",
    "- `listings_modified.csv` - main dataset, contains data about listings from cetris.ca;\n",
    "- `extra_data_modified.csv` - extra data about listings from above dataset;\n",
    "- `policeCoord.csv` & `firestations.csv` - locations of police stations and fire stations in Montréal\n",
    "- `montreal_hpi.csv`\n",
    "- `sociodemo_modified.csv` - Montréal sociodemographical data"
   ]
  },
  {
   "cell_type": "code",
   "execution_count": 99,
   "metadata": {},
   "outputs": [],
   "source": [
    "import pandas as pd\n",
    "import numpy as np\n",
    "import matplotlib.pyplot as plt\n",
    "import seaborn as sns\n",
    "\n",
    "import category_encoders as ce\n",
    "import textstat\n",
    "import spacy\n",
    "from spacy.language import Language\n",
    "from spacy_langdetect import LanguageDetector\n",
    "\n",
    "from sklearn.preprocessing import OneHotEncoder\n",
    "from sklearn.decomposition import PCA"
   ]
  },
  {
   "cell_type": "markdown",
   "metadata": {},
   "source": [
    "## 1. Preparing listings data"
   ]
  },
  {
   "cell_type": "code",
   "execution_count": 2,
   "metadata": {},
   "outputs": [],
   "source": [
    "listings = pd.read_csv('data\\\\listings_modified.csv')"
   ]
  },
  {
   "cell_type": "markdown",
   "metadata": {},
   "source": [
    "### 1.1. Dropping redundant columns\n",
    "\n",
    "(see EDA: `eda_merged.ipynb`)"
   ]
  },
  {
   "cell_type": "code",
   "execution_count": 3,
   "metadata": {},
   "outputs": [],
   "source": [
    "redundant_cols = [\n",
    "    '__type', 'ShortCity',\n",
    "    \n",
    "    'RevenuEffectif', 'ShortDescription', 'Langue', 'SuperficieTerrain',\n",
    "    'NbEquipements', 'NbAnimals', 'NbCultures', 'LocationPrice', 'LocationPriceDesc',\n",
    "    \n",
    "    'CatgCode', 'PhotoText', 'DiffusionWebUrl', 'PhotoUrl', 'PhotoPrintingUrl', \n",
    "    'FinancialToolUrl', 'PasserelleUrl', 'CommunityUrl', 'GoogleStreetViewUrl', \n",
    "    'WalkScoreUrl', 'ShareThisUrl', 'SummaryUrl', 'PrintingPageUrl', \n",
    "    'GoogleMapAddressLink', \n",
    "    \n",
    "    'IsFavorite', 'IsRemoved', 'IsSubject', 'IsStrictQueryMatch', 'IsFavoriteDisplayed',\n",
    "    'IsRemovedDisplayed', 'IsEmptyView', 'IsMissingView', 'IsInFavorite',\n",
    "\n",
    "    'IsNew', 'IsNewPrice'\n",
    "]\n",
    "listings.drop(redundant_cols,\n",
    "              axis=1,\n",
    "              inplace=True)"
   ]
  },
  {
   "cell_type": "markdown",
   "metadata": {},
   "source": [
    "### 1.2. Converting `VisiteVirtuelleUrl` & `OpenHouse` to boolean columns"
   ]
  },
  {
   "cell_type": "code",
   "execution_count": 4,
   "metadata": {},
   "outputs": [],
   "source": [
    "listings['OpenHouse'] = ~listings['OpenHouse'].isna()"
   ]
  },
  {
   "cell_type": "code",
   "execution_count": 5,
   "metadata": {},
   "outputs": [],
   "source": [
    "listings['VisiteVirtuelleUrl'] = ~listings['VisiteVirtuelleUrl'].isna()\n",
    "listings.rename({'VisiteVirtuelleUrl': 'IsVirtualTour', 'OpenHouse': 'IsOpenHouse'}, axis=1, inplace=True)"
   ]
  },
  {
   "cell_type": "code",
   "execution_count": 6,
   "outputs": [
    {
     "data": {
      "text/plain": "   MlsNumber CategoryCode        Lat        Lng  \\\n0    9027411          COP  45.556508 -73.633198   \n1    9030205          PPR  45.542062 -73.696868   \n2    9041238          PCI  45.573887 -73.649079   \n3    9048590          PPR  45.571040 -73.643413   \n4    9066959          COP  45.533876 -73.672649   \n\n                               Address                              City  \\\n0    8708, Av. André-Grasset, apt. 202  Ahuntsic-Cartierville (Montréal)   \n1           12064 - 12066, Rue Valmont  Ahuntsic-Cartierville (Montréal)   \n2           2326 - 2328, Rue Fleury E.  Ahuntsic-Cartierville (Montréal)   \n3            2283 - 2287, Rue Sauvé E.  Ahuntsic-Cartierville (Montréal)   \n4  2110, Rue Caroline-Béique, apt. 804  Ahuntsic-Cartierville (Montréal)   \n\n           Quartier PostalCode  \\\n0  Ahuntsic Central    H2M 2L4   \n1  Nouveau Bordeaux    H3M 2V5   \n2     Ahuntsic East    H2B 1K9   \n3     Ahuntsic East    H2B 1B4   \n4  Nouveau Bordeaux    H4N 3K2   \n\n                                     LongDescription  BuyPrice  ...  \\\n0  PRIX POUR VENTE RAPIDE. Superbe condo ensoleil...  187500.0  ...   \n1  Duplex à vendre à Ahuntsic près de la rivière,...  574900.0  ...   \n2  rare sur le marché! ideal pour dentiste ou med...  475000.0  ...   \n3  Excellent opportunity for builder/ contractor....  545000.0  ...   \n4  Beautiful condo built in 2011 still under guar...  200000.0  ...   \n\n  NbChambres NbSallesEaux  NbSallesBains  NbFoyerPoele NbGarages  \\\n0          1            0              1             0         0   \n1          4            0              1             0         0   \n2          0            0              0             0         0   \n3          2            0              1             0         0   \n4          1            0              1             0         0   \n\n  NbStationnements  NbPiscines  NbBordEaux  IsVirtualTour  \\\n0                1           0           0          False   \n1                1           0           0           True   \n2                1           0           0          False   \n3                0           0           0          False   \n4                0           0           0           True   \n\n                                           PageTitle  \n0  Condos for sale in Ahuntsic-Cartierville (Mont...  \n1  Duplexes for sale in Ahuntsic-Cartierville (Mo...  \n2  Commercial building for sale in Ahuntsic-Carti...  \n3  Triplexes for sale in Ahuntsic-Cartierville (M...  \n4  Condos for sale in Ahuntsic-Cartierville (Mont...  \n\n[5 rows x 29 columns]",
      "text/html": "<div>\n<style scoped>\n    .dataframe tbody tr th:only-of-type {\n        vertical-align: middle;\n    }\n\n    .dataframe tbody tr th {\n        vertical-align: top;\n    }\n\n    .dataframe thead th {\n        text-align: right;\n    }\n</style>\n<table border=\"1\" class=\"dataframe\">\n  <thead>\n    <tr style=\"text-align: right;\">\n      <th></th>\n      <th>MlsNumber</th>\n      <th>CategoryCode</th>\n      <th>Lat</th>\n      <th>Lng</th>\n      <th>Address</th>\n      <th>City</th>\n      <th>Quartier</th>\n      <th>PostalCode</th>\n      <th>LongDescription</th>\n      <th>BuyPrice</th>\n      <th>...</th>\n      <th>NbChambres</th>\n      <th>NbSallesEaux</th>\n      <th>NbSallesBains</th>\n      <th>NbFoyerPoele</th>\n      <th>NbGarages</th>\n      <th>NbStationnements</th>\n      <th>NbPiscines</th>\n      <th>NbBordEaux</th>\n      <th>IsVirtualTour</th>\n      <th>PageTitle</th>\n    </tr>\n  </thead>\n  <tbody>\n    <tr>\n      <th>0</th>\n      <td>9027411</td>\n      <td>COP</td>\n      <td>45.556508</td>\n      <td>-73.633198</td>\n      <td>8708, Av. André-Grasset, apt. 202</td>\n      <td>Ahuntsic-Cartierville (Montréal)</td>\n      <td>Ahuntsic Central</td>\n      <td>H2M 2L4</td>\n      <td>PRIX POUR VENTE RAPIDE. Superbe condo ensoleil...</td>\n      <td>187500.0</td>\n      <td>...</td>\n      <td>1</td>\n      <td>0</td>\n      <td>1</td>\n      <td>0</td>\n      <td>0</td>\n      <td>1</td>\n      <td>0</td>\n      <td>0</td>\n      <td>False</td>\n      <td>Condos for sale in Ahuntsic-Cartierville (Mont...</td>\n    </tr>\n    <tr>\n      <th>1</th>\n      <td>9030205</td>\n      <td>PPR</td>\n      <td>45.542062</td>\n      <td>-73.696868</td>\n      <td>12064 - 12066, Rue Valmont</td>\n      <td>Ahuntsic-Cartierville (Montréal)</td>\n      <td>Nouveau Bordeaux</td>\n      <td>H3M 2V5</td>\n      <td>Duplex à vendre à Ahuntsic près de la rivière,...</td>\n      <td>574900.0</td>\n      <td>...</td>\n      <td>4</td>\n      <td>0</td>\n      <td>1</td>\n      <td>0</td>\n      <td>0</td>\n      <td>1</td>\n      <td>0</td>\n      <td>0</td>\n      <td>True</td>\n      <td>Duplexes for sale in Ahuntsic-Cartierville (Mo...</td>\n    </tr>\n    <tr>\n      <th>2</th>\n      <td>9041238</td>\n      <td>PCI</td>\n      <td>45.573887</td>\n      <td>-73.649079</td>\n      <td>2326 - 2328, Rue Fleury E.</td>\n      <td>Ahuntsic-Cartierville (Montréal)</td>\n      <td>Ahuntsic East</td>\n      <td>H2B 1K9</td>\n      <td>rare sur le marché! ideal pour dentiste ou med...</td>\n      <td>475000.0</td>\n      <td>...</td>\n      <td>0</td>\n      <td>0</td>\n      <td>0</td>\n      <td>0</td>\n      <td>0</td>\n      <td>1</td>\n      <td>0</td>\n      <td>0</td>\n      <td>False</td>\n      <td>Commercial building for sale in Ahuntsic-Carti...</td>\n    </tr>\n    <tr>\n      <th>3</th>\n      <td>9048590</td>\n      <td>PPR</td>\n      <td>45.571040</td>\n      <td>-73.643413</td>\n      <td>2283 - 2287, Rue Sauvé E.</td>\n      <td>Ahuntsic-Cartierville (Montréal)</td>\n      <td>Ahuntsic East</td>\n      <td>H2B 1B4</td>\n      <td>Excellent opportunity for builder/ contractor....</td>\n      <td>545000.0</td>\n      <td>...</td>\n      <td>2</td>\n      <td>0</td>\n      <td>1</td>\n      <td>0</td>\n      <td>0</td>\n      <td>0</td>\n      <td>0</td>\n      <td>0</td>\n      <td>False</td>\n      <td>Triplexes for sale in Ahuntsic-Cartierville (M...</td>\n    </tr>\n    <tr>\n      <th>4</th>\n      <td>9066959</td>\n      <td>COP</td>\n      <td>45.533876</td>\n      <td>-73.672649</td>\n      <td>2110, Rue Caroline-Béique, apt. 804</td>\n      <td>Ahuntsic-Cartierville (Montréal)</td>\n      <td>Nouveau Bordeaux</td>\n      <td>H4N 3K2</td>\n      <td>Beautiful condo built in 2011 still under guar...</td>\n      <td>200000.0</td>\n      <td>...</td>\n      <td>1</td>\n      <td>0</td>\n      <td>1</td>\n      <td>0</td>\n      <td>0</td>\n      <td>0</td>\n      <td>0</td>\n      <td>0</td>\n      <td>True</td>\n      <td>Condos for sale in Ahuntsic-Cartierville (Mont...</td>\n    </tr>\n  </tbody>\n</table>\n<p>5 rows × 29 columns</p>\n</div>"
     },
     "execution_count": 6,
     "metadata": {},
     "output_type": "execute_result"
    }
   ],
   "source": [
    "listings.head()"
   ],
   "metadata": {
    "collapsed": false,
    "pycharm": {
     "name": "#%%\n"
    }
   }
  },
  {
   "cell_type": "markdown",
   "metadata": {},
   "source": [
    "### 1.3. `Utilisation`"
   ]
  },
  {
   "cell_type": "markdown",
   "metadata": {},
   "source": [
    "Connect \"Commercial and residential\"  and \"Residential and commercial\" into one"
   ]
  },
  {
   "cell_type": "code",
   "execution_count": 7,
   "metadata": {},
   "outputs": [
    {
     "data": {
      "text/plain": "Residential only                     2299\nCommercial only                       392\nResidential and commercial            255\nCommercial and office space           139\nCommercial and residential            124\nCommercial and industrial              22\nIndustrial and offices                 19\nIndustrial only                        15\nOffices only                           14\nOther                                  14\nMulti-family dwelling                   5\nCommercial or industrial (income)       4\nRetirement home                         4\nName: Utilisation, dtype: int64"
     },
     "execution_count": 7,
     "metadata": {},
     "output_type": "execute_result"
    }
   ],
   "source": [
    "listings['Utilisation'].value_counts()"
   ]
  },
  {
   "cell_type": "code",
   "execution_count": 8,
   "metadata": {},
   "outputs": [],
   "source": [
    "listings.loc[\n",
    "    listings['Utilisation'] == 'Residential and commercial', \n",
    "    'Utilisation'\n",
    "] = 'Commercial and residential'"
   ]
  },
  {
   "cell_type": "markdown",
   "source": [
    "Replace NaN values with 'No information'"
   ],
   "metadata": {
    "collapsed": false,
    "pycharm": {
     "name": "#%% md\n"
    }
   }
  },
  {
   "cell_type": "code",
   "execution_count": 70,
   "outputs": [],
   "source": [
    "listings['Utilisation'].fillna('No information', inplace=True)"
   ],
   "metadata": {
    "collapsed": false,
    "pycharm": {
     "name": "#%%\n"
    }
   }
  },
  {
   "cell_type": "markdown",
   "metadata": {},
   "source": [
    "### 1.4. `BuyPriceDesc`"
   ]
  },
  {
   "cell_type": "code",
   "execution_count": 9,
   "metadata": {},
   "outputs": [
    {
     "data": {
      "text/plain": " /square foot    20\nName: BuyPriceDesc, dtype: int64"
     },
     "execution_count": 9,
     "metadata": {},
     "output_type": "execute_result"
    }
   ],
   "source": [
    "listings['BuyPriceDesc'].value_counts()"
   ]
  },
  {
   "cell_type": "code",
   "execution_count": 10,
   "metadata": {},
   "outputs": [
    {
     "data": {
      "text/plain": "count    1.464700e+04\nmean     5.204339e+05\nstd      5.965235e+05\nmin      9.480320e+03\n25%      2.590000e+05\n50%      3.790000e+05\n75%      5.599000e+05\nmax      1.388000e+07\nName: BuyPrice, dtype: float64"
     },
     "execution_count": 10,
     "metadata": {},
     "output_type": "execute_result"
    }
   ],
   "source": [
    "listings.loc[listings['BuyPriceDesc'].isna(), 'BuyPrice'].describe()"
   ]
  },
  {
   "cell_type": "code",
   "execution_count": 11,
   "metadata": {},
   "outputs": [
    {
     "data": {
      "text/plain": "count    2.000000e+01\nmean     8.246817e+04\nstd      2.718385e+05\nmin      3.130000e+00\n25%      6.725000e+01\n50%      1.556900e+02\n75%      1.580800e+02\nmax      1.126332e+06\nName: BuyPrice, dtype: float64"
     },
     "execution_count": 11,
     "metadata": {},
     "output_type": "execute_result"
    }
   ],
   "source": [
    "listings.loc[listings['BuyPriceDesc'] == ' /square foot', 'BuyPrice'].describe()"
   ]
  },
  {
   "cell_type": "markdown",
   "source": [
    "It seems that records with NA in column `BuyPriceDesc` have given total price."
   ],
   "metadata": {
    "collapsed": false,
    "pycharm": {
     "name": "#%% md\n"
    }
   }
  },
  {
   "cell_type": "markdown",
   "metadata": {},
   "source": [
    "### 1.5. Renaming columns with French names to English"
   ]
  },
  {
   "cell_type": "code",
   "execution_count": 12,
   "metadata": {},
   "outputs": [],
   "source": [
    "listings.rename({\n",
    "    'Quartier': 'District',\n",
    "    'RevenuBrutPotentiel': 'GrossPotentialIncome',\n",
    "    'NbPieces': 'NumberOfRooms',\n",
    "    'NbChambres': 'NumberOfBedrooms',\n",
    "    'NbSallesEaux': 'NumberOfBathroomsWithShower',\n",
    "    'NbSallesBains': 'NumberOfBathroomsWithBathtub',\n",
    "    'NbFoyerPoele': 'NumberOfFireplaces',\n",
    "    'NbGarages': 'NumberOfGarages',\n",
    "    'NbStationnements': 'NumberOfParkingLots',\n",
    "    'NbPiscines': 'NumberOfPools',\n",
    "    'NbBordEaux': 'NbBordEaux',\n",
    "}, axis=1, inplace=True)"
   ]
  },
  {
   "cell_type": "code",
   "execution_count": 13,
   "metadata": {},
   "outputs": [
    {
     "name": "stdout",
     "output_type": "stream",
     "text": [
      "<class 'pandas.core.frame.DataFrame'>\n",
      "RangeIndex: 14667 entries, 0 to 14666\n",
      "Data columns (total 29 columns):\n",
      " #   Column                        Non-Null Count  Dtype  \n",
      "---  ------                        --------------  -----  \n",
      " 0   MlsNumber                     14667 non-null  int64  \n",
      " 1   CategoryCode                  14667 non-null  object \n",
      " 2   Lat                           14667 non-null  float64\n",
      " 3   Lng                           14667 non-null  float64\n",
      " 4   Address                       14667 non-null  object \n",
      " 5   City                          14667 non-null  object \n",
      " 6   District                      11488 non-null  object \n",
      " 7   PostalCode                    14667 non-null  object \n",
      " 8   LongDescription               12922 non-null  object \n",
      " 9   BuyPrice                      14667 non-null  float64\n",
      " 10  BuyPriceDesc                  20 non-null     object \n",
      " 11  Category                      14667 non-null  object \n",
      " 12  Construction                  14667 non-null  int64  \n",
      " 13  IsOpenHouse                   14667 non-null  bool   \n",
      " 14  GenreCode                     14667 non-null  object \n",
      " 15  Utilisation                   3306 non-null   object \n",
      " 16  GrossPotentialIncome          14667 non-null  int64  \n",
      " 17  WalkScore                     14667 non-null  int64  \n",
      " 18  NumberOfRooms                 14667 non-null  int64  \n",
      " 19  NumberOfBedrooms              14667 non-null  int64  \n",
      " 20  NumberOfBathroomsWithShower   14667 non-null  int64  \n",
      " 21  NumberOfBathroomsWithBathtub  14667 non-null  int64  \n",
      " 22  NumberOfFireplaces            14667 non-null  int64  \n",
      " 23  NumberOfGarages               14667 non-null  int64  \n",
      " 24  NumberOfParkingLots           14667 non-null  int64  \n",
      " 25  NumberOfPools                 14667 non-null  int64  \n",
      " 26  NbBordEaux                    14667 non-null  int64  \n",
      " 27  IsVirtualTour                 14667 non-null  bool   \n",
      " 28  PageTitle                     14667 non-null  object \n",
      "dtypes: bool(2), float64(3), int64(13), object(11)\n",
      "memory usage: 3.0+ MB\n"
     ]
    }
   ],
   "source": [
    "listings.info()"
   ]
  },
  {
   "cell_type": "markdown",
   "metadata": {},
   "source": [
    "### 1.6. Columns with location data"
   ]
  },
  {
   "cell_type": "markdown",
   "metadata": {},
   "source": [
    "#### `Address`"
   ]
  },
  {
   "cell_type": "code",
   "execution_count": 14,
   "metadata": {},
   "outputs": [
    {
     "data": {
      "text/plain": "Boul. Gouin O.                         13\nRue Lakeview                            3\n50e Avenue (R.-d.-P.)                   3\nBoul. Beaconsfield                      3\n59e Avenue                              3\n                                       ..\n4374 - 4380, Rue Notre-Dame O.          1\n705, Boul. Georges-Vanier, apt. 101     1\n1085, Rue Smith, apt. 1205              1\n3601, Rue St-Jacques, apt. 412          1\n409, Av. Clarke                         1\nName: Address, Length: 14623, dtype: int64"
     },
     "execution_count": 14,
     "metadata": {},
     "output_type": "execute_result"
    }
   ],
   "source": [
    "listings['Address'].value_counts()"
   ]
  },
  {
   "cell_type": "markdown",
   "metadata": {},
   "source": [
    "`Address` column is quite specific and probably not that useful since there are `Lat` and `Lng` columns (?)"
   ]
  },
  {
   "cell_type": "markdown",
   "metadata": {},
   "source": [
    "#### `City`"
   ]
  },
  {
   "cell_type": "code",
   "execution_count": 15,
   "metadata": {},
   "outputs": [
    {
     "name": "stdout",
     "output_type": "stream",
     "text": [
      "33\n"
     ]
    },
    {
     "data": {
      "text/plain": "Ville-Marie (Montréal)                                 2087\nMercier/Hochelaga-Maisonneuve (Montréal)               1124\nRivière-des-Prairies/Pointe-aux-Trembles (Montréal)     920\nLe Plateau-Mont-Royal (Montréal)                        871\nLe Sud-Ouest (Montréal)                                 816\nCôte-des-Neiges/Notre-Dame-de-Grâce (Montréal)          736\nRosemont/La Petite-Patrie (Montréal)                    730\nVilleray/Saint-Michel/Parc-Extension (Montréal)         729\nSaint-Laurent (Montréal)                                704\nAhuntsic-Cartierville (Montréal)                        696\nVerdun/Île-des-Soeurs (Montréal)                        677\nPierrefonds-Roxboro (Montréal)                          511\nLaSalle (Montréal)                                      470\nMontréal-Nord (Montréal)                                433\nLachine (Montréal)                                      361\nDollard-Des Ormeaux                                     333\nCôte-Saint-Luc                                          278\nAnjou (Montréal)                                        256\nSaint-Léonard (Montréal)                                248\nWestmount                                               236\nMont-Royal                                              212\nL'Île-Bizard/Sainte-Geneviève (Montréal)                212\nPointe-Claire                                           177\nOutremont (Montréal)                                    158\nBeaconsfield                                            156\nDorval                                                  129\nKirkland                                                124\nHampstead                                                64\nBaie-d'Urfé                                              64\nMontréal-Est                                             57\nMontréal-Ouest                                           35\nSainte-Anne-de-Bellevue                                  35\nSenneville                                               28\nName: City, dtype: int64"
     },
     "execution_count": 15,
     "metadata": {},
     "output_type": "execute_result"
    }
   ],
   "source": [
    "print(len(listings['City'].unique()))\n",
    "listings['City'].value_counts()"
   ]
  },
  {
   "cell_type": "markdown",
   "metadata": {},
   "source": [
    "This column will be useful later to merge this data frame with sociodemographical data."
   ]
  },
  {
   "cell_type": "markdown",
   "metadata": {},
   "source": [
    "Removing \"(Montréal)\" from the end of some records' values (also will be useful later):"
   ]
  },
  {
   "cell_type": "code",
   "execution_count": 16,
   "metadata": {},
   "outputs": [],
   "source": [
    "listings['City'] = listings['City'].apply(\n",
    "    lambda city: city[:-11] \n",
    "                 if city.endswith('(Montréal)') \n",
    "                 else city\n",
    ")"
   ]
  },
  {
   "cell_type": "markdown",
   "metadata": {},
   "source": [
    "#### `Quartier`"
   ]
  },
  {
   "cell_type": "code",
   "execution_count": 17,
   "metadata": {},
   "outputs": [
    {
     "name": "stdout",
     "output_type": "stream",
     "text": [
      "52\n"
     ]
    },
    {
     "data": {
      "text/plain": "Central                           1244\nCentral West                       831\nLe Plateau-Mont-Royal              735\nMercier                            591\nRivière-des-Prairies               504\nHochelaga-Maisonneuve              499\nÎle-des-Soeurs                     442\nRosemont                           431\nSaint-Henri/Petite Bourgogne       428\nPointe-aux-Trembles                416\nCôte-des-Neiges                    400\nVilleray                           342\nEast                               336\nNotre-Dame-de-Grâce                336\nSaint-Michel                       302\nLa Petite-Patrie                   299\nOld Montréal                       251\nVerdun                             235\nSaint-Paul/Émard                   228\nNouveau Bordeaux                   192\nPierrefonds/Central East           176\nL'Île-Bizard                       163\nPointe-Saint-Charles               160\nWest                               146\nAhuntsic West                      143\nMile-End                           136\nAhuntsic Central                   131\nPierrefonds/Central West           121\nSouth East                         119\nPierrefonds/West                   103\nSouth West                         101\nCartierville                        96\nCentral East                        86\nParc-Extension                      85\nAhuntsic East                       79\nPierrefonds/East                    70\nBois de Saraguay                    55\nNorth                               55\nSherwood (North West)               51\nSaint-Pierre                        49\nSainte-Geneviève                    49\nRoxboro                             41\nNorth West                          37\nCentral South                       35\nNew Rosemont                        34\nBeaurepaire (South West)            29\nNorth East                          26\nTimberlea                           22\nSouth                               19\nBeacon Hill (North East)            15\nForest Gardens (Central North)      14\nName: District, dtype: int64"
     },
     "execution_count": 17,
     "metadata": {},
     "output_type": "execute_result"
    }
   ],
   "source": [
    "print(len(listings['District'].unique()))\n",
    "listings['District'].value_counts()"
   ]
  },
  {
   "cell_type": "markdown",
   "metadata": {},
   "source": [
    "#### `PostalCode`"
   ]
  },
  {
   "cell_type": "code",
   "execution_count": 18,
   "metadata": {},
   "outputs": [
    {
     "name": "stdout",
     "output_type": "stream",
     "text": [
      "7996\n"
     ]
    },
    {
     "data": {
      "text/plain": "H3B 3C3    61\nH3C 1W4    57\nH3G 2M5    52\nH1V 2L1    45\nH3G 2H5    45\n           ..\nH9C 1E2     1\nH9E 1G1     1\nH9C 2H4     1\nH9H 2M7     1\nH3Y 3C3     1\nName: PostalCode, Length: 7996, dtype: int64"
     },
     "execution_count": 18,
     "metadata": {},
     "output_type": "execute_result"
    }
   ],
   "source": [
    "print(len(listings['PostalCode'].unique()))\n",
    "listings['PostalCode'].value_counts()"
   ]
  },
  {
   "cell_type": "markdown",
   "metadata": {
    "pycharm": {
     "name": "#%% md\n"
    }
   },
   "source": [
    "We have decided to drop `Address` and `PostalCode` columns as they are too specific. Columns related with location, which remained are `Lat`, `Lng`, `City` and `District`. During model fitting we will check whether all these columns are needed."
   ]
  },
  {
   "cell_type": "code",
   "execution_count": 19,
   "outputs": [],
   "source": [
    "listings.drop(columns=['Address', 'PostalCode'], inplace=True)"
   ],
   "metadata": {
    "collapsed": false,
    "pycharm": {
     "name": "#%%\n"
    }
   }
  },
  {
   "cell_type": "code",
   "execution_count": 20,
   "outputs": [
    {
     "data": {
      "text/plain": "   MlsNumber CategoryCode        Lat        Lng                   City  \\\n0    9027411          COP  45.556508 -73.633198  Ahuntsic-Cartierville   \n1    9030205          PPR  45.542062 -73.696868  Ahuntsic-Cartierville   \n2    9041238          PCI  45.573887 -73.649079  Ahuntsic-Cartierville   \n3    9048590          PPR  45.571040 -73.643413  Ahuntsic-Cartierville   \n4    9066959          COP  45.533876 -73.672649  Ahuntsic-Cartierville   \n\n           District                                    LongDescription  \\\n0  Ahuntsic Central  PRIX POUR VENTE RAPIDE. Superbe condo ensoleil...   \n1  Nouveau Bordeaux  Duplex à vendre à Ahuntsic près de la rivière,...   \n2     Ahuntsic East  rare sur le marché! ideal pour dentiste ou med...   \n3     Ahuntsic East  Excellent opportunity for builder/ contractor....   \n4  Nouveau Bordeaux  Beautiful condo built in 2011 still under guar...   \n\n   BuyPrice BuyPriceDesc                         Category  ...  \\\n0  187500.0          NaN  Condo/Loft, Apartment, Detached  ...   \n1  574900.0          NaN                 Duplex, Detached  ...   \n2  475000.0          NaN                       Commercial  ...   \n3  545000.0          NaN                Triplex, Detached  ...   \n4  200000.0          NaN  Condo/Loft, Apartment, Detached  ...   \n\n   NumberOfBedrooms  NumberOfBathroomsWithShower NumberOfBathroomsWithBathtub  \\\n0                 1                            0                            1   \n1                 4                            0                            1   \n2                 0                            0                            0   \n3                 2                            0                            1   \n4                 1                            0                            1   \n\n  NumberOfFireplaces  NumberOfGarages  NumberOfParkingLots  NumberOfPools  \\\n0                  0                0                    1              0   \n1                  0                0                    1              0   \n2                  0                0                    1              0   \n3                  0                0                    0              0   \n4                  0                0                    0              0   \n\n   NbBordEaux  IsVirtualTour  \\\n0           0          False   \n1           0           True   \n2           0          False   \n3           0          False   \n4           0           True   \n\n                                           PageTitle  \n0  Condos for sale in Ahuntsic-Cartierville (Mont...  \n1  Duplexes for sale in Ahuntsic-Cartierville (Mo...  \n2  Commercial building for sale in Ahuntsic-Carti...  \n3  Triplexes for sale in Ahuntsic-Cartierville (M...  \n4  Condos for sale in Ahuntsic-Cartierville (Mont...  \n\n[5 rows x 27 columns]",
      "text/html": "<div>\n<style scoped>\n    .dataframe tbody tr th:only-of-type {\n        vertical-align: middle;\n    }\n\n    .dataframe tbody tr th {\n        vertical-align: top;\n    }\n\n    .dataframe thead th {\n        text-align: right;\n    }\n</style>\n<table border=\"1\" class=\"dataframe\">\n  <thead>\n    <tr style=\"text-align: right;\">\n      <th></th>\n      <th>MlsNumber</th>\n      <th>CategoryCode</th>\n      <th>Lat</th>\n      <th>Lng</th>\n      <th>City</th>\n      <th>District</th>\n      <th>LongDescription</th>\n      <th>BuyPrice</th>\n      <th>BuyPriceDesc</th>\n      <th>Category</th>\n      <th>...</th>\n      <th>NumberOfBedrooms</th>\n      <th>NumberOfBathroomsWithShower</th>\n      <th>NumberOfBathroomsWithBathtub</th>\n      <th>NumberOfFireplaces</th>\n      <th>NumberOfGarages</th>\n      <th>NumberOfParkingLots</th>\n      <th>NumberOfPools</th>\n      <th>NbBordEaux</th>\n      <th>IsVirtualTour</th>\n      <th>PageTitle</th>\n    </tr>\n  </thead>\n  <tbody>\n    <tr>\n      <th>0</th>\n      <td>9027411</td>\n      <td>COP</td>\n      <td>45.556508</td>\n      <td>-73.633198</td>\n      <td>Ahuntsic-Cartierville</td>\n      <td>Ahuntsic Central</td>\n      <td>PRIX POUR VENTE RAPIDE. Superbe condo ensoleil...</td>\n      <td>187500.0</td>\n      <td>NaN</td>\n      <td>Condo/Loft, Apartment, Detached</td>\n      <td>...</td>\n      <td>1</td>\n      <td>0</td>\n      <td>1</td>\n      <td>0</td>\n      <td>0</td>\n      <td>1</td>\n      <td>0</td>\n      <td>0</td>\n      <td>False</td>\n      <td>Condos for sale in Ahuntsic-Cartierville (Mont...</td>\n    </tr>\n    <tr>\n      <th>1</th>\n      <td>9030205</td>\n      <td>PPR</td>\n      <td>45.542062</td>\n      <td>-73.696868</td>\n      <td>Ahuntsic-Cartierville</td>\n      <td>Nouveau Bordeaux</td>\n      <td>Duplex à vendre à Ahuntsic près de la rivière,...</td>\n      <td>574900.0</td>\n      <td>NaN</td>\n      <td>Duplex, Detached</td>\n      <td>...</td>\n      <td>4</td>\n      <td>0</td>\n      <td>1</td>\n      <td>0</td>\n      <td>0</td>\n      <td>1</td>\n      <td>0</td>\n      <td>0</td>\n      <td>True</td>\n      <td>Duplexes for sale in Ahuntsic-Cartierville (Mo...</td>\n    </tr>\n    <tr>\n      <th>2</th>\n      <td>9041238</td>\n      <td>PCI</td>\n      <td>45.573887</td>\n      <td>-73.649079</td>\n      <td>Ahuntsic-Cartierville</td>\n      <td>Ahuntsic East</td>\n      <td>rare sur le marché! ideal pour dentiste ou med...</td>\n      <td>475000.0</td>\n      <td>NaN</td>\n      <td>Commercial</td>\n      <td>...</td>\n      <td>0</td>\n      <td>0</td>\n      <td>0</td>\n      <td>0</td>\n      <td>0</td>\n      <td>1</td>\n      <td>0</td>\n      <td>0</td>\n      <td>False</td>\n      <td>Commercial building for sale in Ahuntsic-Carti...</td>\n    </tr>\n    <tr>\n      <th>3</th>\n      <td>9048590</td>\n      <td>PPR</td>\n      <td>45.571040</td>\n      <td>-73.643413</td>\n      <td>Ahuntsic-Cartierville</td>\n      <td>Ahuntsic East</td>\n      <td>Excellent opportunity for builder/ contractor....</td>\n      <td>545000.0</td>\n      <td>NaN</td>\n      <td>Triplex, Detached</td>\n      <td>...</td>\n      <td>2</td>\n      <td>0</td>\n      <td>1</td>\n      <td>0</td>\n      <td>0</td>\n      <td>0</td>\n      <td>0</td>\n      <td>0</td>\n      <td>False</td>\n      <td>Triplexes for sale in Ahuntsic-Cartierville (M...</td>\n    </tr>\n    <tr>\n      <th>4</th>\n      <td>9066959</td>\n      <td>COP</td>\n      <td>45.533876</td>\n      <td>-73.672649</td>\n      <td>Ahuntsic-Cartierville</td>\n      <td>Nouveau Bordeaux</td>\n      <td>Beautiful condo built in 2011 still under guar...</td>\n      <td>200000.0</td>\n      <td>NaN</td>\n      <td>Condo/Loft, Apartment, Detached</td>\n      <td>...</td>\n      <td>1</td>\n      <td>0</td>\n      <td>1</td>\n      <td>0</td>\n      <td>0</td>\n      <td>0</td>\n      <td>0</td>\n      <td>0</td>\n      <td>True</td>\n      <td>Condos for sale in Ahuntsic-Cartierville (Mont...</td>\n    </tr>\n  </tbody>\n</table>\n<p>5 rows × 27 columns</p>\n</div>"
     },
     "execution_count": 20,
     "metadata": {},
     "output_type": "execute_result"
    }
   ],
   "source": [
    "listings.head()"
   ],
   "metadata": {
    "collapsed": false,
    "pycharm": {
     "name": "#%%\n"
    }
   }
  },
  {
   "cell_type": "markdown",
   "metadata": {},
   "source": [
    "### 1.7. Other columns"
   ]
  },
  {
   "cell_type": "markdown",
   "source": [
    "#### 1.7.1 `LongDescription`\n",
    "From this column we will keep the following data:\n",
    "1. Description length,\n",
    "2. Description language."
   ],
   "metadata": {
    "collapsed": false,
    "pycharm": {
     "name": "#%% md\n"
    }
   }
  },
  {
   "cell_type": "code",
   "execution_count": 21,
   "metadata": {},
   "outputs": [
    {
     "data": {
      "text/plain": "0    PRIX POUR VENTE RAPIDE. Superbe condo ensoleil...\n1    Duplex à vendre à Ahuntsic près de la rivière,...\n2    rare sur le marché! ideal pour dentiste ou med...\n3    Excellent opportunity for builder/ contractor....\n4    Beautiful condo built in 2011 still under guar...\n5    One bedroom condo in a sought out area of Ahun...\n6    Grand duplex avec garage dans un secteur très ...\n7    Hard to imagine a more inspiring space than th...\n8    You want to become a Florist  !!! So this busi...\n9    Great Deal !!! . 4plex for sale in the heart o...\nName: LongDescription, dtype: object"
     },
     "execution_count": 21,
     "metadata": {},
     "output_type": "execute_result"
    }
   ],
   "source": [
    "listings['LongDescription'].head(n=10)"
   ]
  },
  {
   "cell_type": "code",
   "execution_count": 22,
   "outputs": [],
   "source": [
    "def get_lang_detector(nlp, name):\n",
    "    return LanguageDetector()\n",
    "\n",
    "nlp = spacy.load('en_core_web_sm')\n",
    "Language.factory(\"language_detector\", func=get_lang_detector)\n",
    "nlp.add_pipe('language_detector', last=True)\n",
    "\n",
    "listings['DescriptionLanguage'] = listings['LongDescription'].apply(lambda text: nlp(str(text))._.language['language'])"
   ],
   "metadata": {
    "collapsed": false,
    "pycharm": {
     "name": "#%%\n"
    }
   }
  },
  {
   "cell_type": "code",
   "execution_count": 23,
   "outputs": [],
   "source": [
    "rare_languages = listings['DescriptionLanguage'].unique()[listings['DescriptionLanguage'].value_counts() < 10]\n",
    "listings['DescriptionLanguage'] = listings['DescriptionLanguage'].apply(lambda lang: 'OTHER' if lang in rare_languages else lang)"
   ],
   "metadata": {
    "collapsed": false,
    "pycharm": {
     "name": "#%%\n"
    }
   }
  },
  {
   "cell_type": "code",
   "execution_count": 24,
   "outputs": [
    {
     "data": {
      "text/plain": "array(['fr', 'en', 'tl', 'de', 'it', 'OTHER'], dtype=object)"
     },
     "execution_count": 24,
     "metadata": {},
     "output_type": "execute_result"
    }
   ],
   "source": [
    "listings['DescriptionLanguage'].unique()"
   ],
   "metadata": {
    "collapsed": false,
    "pycharm": {
     "name": "#%%\n"
    }
   }
  },
  {
   "cell_type": "markdown",
   "source": [
    "Languages occurring less than 10 times will be classified as other."
   ],
   "metadata": {
    "collapsed": false,
    "pycharm": {
     "name": "#%% md\n"
    }
   }
  },
  {
   "cell_type": "code",
   "execution_count": 25,
   "outputs": [],
   "source": [
    "listings['DescriptionLength'] = listings['LongDescription'].apply(lambda text: len(str(text)))"
   ],
   "metadata": {
    "collapsed": false,
    "pycharm": {
     "name": "#%%\n"
    }
   }
  },
  {
   "cell_type": "code",
   "execution_count": 26,
   "outputs": [],
   "source": [
    "listings.drop(columns=['LongDescription'], inplace=True)"
   ],
   "metadata": {
    "collapsed": false,
    "pycharm": {
     "name": "#%%\n"
    }
   }
  },
  {
   "cell_type": "code",
   "execution_count": 27,
   "outputs": [
    {
     "data": {
      "text/plain": "   MlsNumber CategoryCode        Lat        Lng                   City  \\\n0    9027411          COP  45.556508 -73.633198  Ahuntsic-Cartierville   \n1    9030205          PPR  45.542062 -73.696868  Ahuntsic-Cartierville   \n2    9041238          PCI  45.573887 -73.649079  Ahuntsic-Cartierville   \n3    9048590          PPR  45.571040 -73.643413  Ahuntsic-Cartierville   \n4    9066959          COP  45.533876 -73.672649  Ahuntsic-Cartierville   \n\n           District  BuyPrice BuyPriceDesc                         Category  \\\n0  Ahuntsic Central  187500.0          NaN  Condo/Loft, Apartment, Detached   \n1  Nouveau Bordeaux  574900.0          NaN                 Duplex, Detached   \n2     Ahuntsic East  475000.0          NaN                       Commercial   \n3     Ahuntsic East  545000.0          NaN                Triplex, Detached   \n4  Nouveau Bordeaux  200000.0          NaN  Condo/Loft, Apartment, Detached   \n\n   Construction  ...  NumberOfBathroomsWithBathtub NumberOfFireplaces  \\\n0          1988  ...                             1                  0   \n1          1955  ...                             1                  0   \n2          1959  ...                             0                  0   \n3          1956  ...                             1                  0   \n4          2011  ...                             1                  0   \n\n  NumberOfGarages  NumberOfParkingLots  NumberOfPools  NbBordEaux  \\\n0               0                    1              0           0   \n1               0                    1              0           0   \n2               0                    1              0           0   \n3               0                    0              0           0   \n4               0                    0              0           0   \n\n   IsVirtualTour                                          PageTitle  \\\n0          False  Condos for sale in Ahuntsic-Cartierville (Mont...   \n1           True  Duplexes for sale in Ahuntsic-Cartierville (Mo...   \n2          False  Commercial building for sale in Ahuntsic-Carti...   \n3          False  Triplexes for sale in Ahuntsic-Cartierville (M...   \n4           True  Condos for sale in Ahuntsic-Cartierville (Mont...   \n\n   DescriptionLanguage  DescriptionLength  \n0                   fr                348  \n1                   fr                347  \n2                   fr                349  \n3                   en                127  \n4                   en                285  \n\n[5 rows x 28 columns]",
      "text/html": "<div>\n<style scoped>\n    .dataframe tbody tr th:only-of-type {\n        vertical-align: middle;\n    }\n\n    .dataframe tbody tr th {\n        vertical-align: top;\n    }\n\n    .dataframe thead th {\n        text-align: right;\n    }\n</style>\n<table border=\"1\" class=\"dataframe\">\n  <thead>\n    <tr style=\"text-align: right;\">\n      <th></th>\n      <th>MlsNumber</th>\n      <th>CategoryCode</th>\n      <th>Lat</th>\n      <th>Lng</th>\n      <th>City</th>\n      <th>District</th>\n      <th>BuyPrice</th>\n      <th>BuyPriceDesc</th>\n      <th>Category</th>\n      <th>Construction</th>\n      <th>...</th>\n      <th>NumberOfBathroomsWithBathtub</th>\n      <th>NumberOfFireplaces</th>\n      <th>NumberOfGarages</th>\n      <th>NumberOfParkingLots</th>\n      <th>NumberOfPools</th>\n      <th>NbBordEaux</th>\n      <th>IsVirtualTour</th>\n      <th>PageTitle</th>\n      <th>DescriptionLanguage</th>\n      <th>DescriptionLength</th>\n    </tr>\n  </thead>\n  <tbody>\n    <tr>\n      <th>0</th>\n      <td>9027411</td>\n      <td>COP</td>\n      <td>45.556508</td>\n      <td>-73.633198</td>\n      <td>Ahuntsic-Cartierville</td>\n      <td>Ahuntsic Central</td>\n      <td>187500.0</td>\n      <td>NaN</td>\n      <td>Condo/Loft, Apartment, Detached</td>\n      <td>1988</td>\n      <td>...</td>\n      <td>1</td>\n      <td>0</td>\n      <td>0</td>\n      <td>1</td>\n      <td>0</td>\n      <td>0</td>\n      <td>False</td>\n      <td>Condos for sale in Ahuntsic-Cartierville (Mont...</td>\n      <td>fr</td>\n      <td>348</td>\n    </tr>\n    <tr>\n      <th>1</th>\n      <td>9030205</td>\n      <td>PPR</td>\n      <td>45.542062</td>\n      <td>-73.696868</td>\n      <td>Ahuntsic-Cartierville</td>\n      <td>Nouveau Bordeaux</td>\n      <td>574900.0</td>\n      <td>NaN</td>\n      <td>Duplex, Detached</td>\n      <td>1955</td>\n      <td>...</td>\n      <td>1</td>\n      <td>0</td>\n      <td>0</td>\n      <td>1</td>\n      <td>0</td>\n      <td>0</td>\n      <td>True</td>\n      <td>Duplexes for sale in Ahuntsic-Cartierville (Mo...</td>\n      <td>fr</td>\n      <td>347</td>\n    </tr>\n    <tr>\n      <th>2</th>\n      <td>9041238</td>\n      <td>PCI</td>\n      <td>45.573887</td>\n      <td>-73.649079</td>\n      <td>Ahuntsic-Cartierville</td>\n      <td>Ahuntsic East</td>\n      <td>475000.0</td>\n      <td>NaN</td>\n      <td>Commercial</td>\n      <td>1959</td>\n      <td>...</td>\n      <td>0</td>\n      <td>0</td>\n      <td>0</td>\n      <td>1</td>\n      <td>0</td>\n      <td>0</td>\n      <td>False</td>\n      <td>Commercial building for sale in Ahuntsic-Carti...</td>\n      <td>fr</td>\n      <td>349</td>\n    </tr>\n    <tr>\n      <th>3</th>\n      <td>9048590</td>\n      <td>PPR</td>\n      <td>45.571040</td>\n      <td>-73.643413</td>\n      <td>Ahuntsic-Cartierville</td>\n      <td>Ahuntsic East</td>\n      <td>545000.0</td>\n      <td>NaN</td>\n      <td>Triplex, Detached</td>\n      <td>1956</td>\n      <td>...</td>\n      <td>1</td>\n      <td>0</td>\n      <td>0</td>\n      <td>0</td>\n      <td>0</td>\n      <td>0</td>\n      <td>False</td>\n      <td>Triplexes for sale in Ahuntsic-Cartierville (M...</td>\n      <td>en</td>\n      <td>127</td>\n    </tr>\n    <tr>\n      <th>4</th>\n      <td>9066959</td>\n      <td>COP</td>\n      <td>45.533876</td>\n      <td>-73.672649</td>\n      <td>Ahuntsic-Cartierville</td>\n      <td>Nouveau Bordeaux</td>\n      <td>200000.0</td>\n      <td>NaN</td>\n      <td>Condo/Loft, Apartment, Detached</td>\n      <td>2011</td>\n      <td>...</td>\n      <td>1</td>\n      <td>0</td>\n      <td>0</td>\n      <td>0</td>\n      <td>0</td>\n      <td>0</td>\n      <td>True</td>\n      <td>Condos for sale in Ahuntsic-Cartierville (Mont...</td>\n      <td>en</td>\n      <td>285</td>\n    </tr>\n  </tbody>\n</table>\n<p>5 rows × 28 columns</p>\n</div>"
     },
     "execution_count": 27,
     "metadata": {},
     "output_type": "execute_result"
    }
   ],
   "source": [
    "listings.head()"
   ],
   "metadata": {
    "collapsed": false,
    "pycharm": {
     "name": "#%%\n"
    }
   }
  },
  {
   "cell_type": "markdown",
   "source": [
    "Similar information but more generalised about category is contained in CategoryCode, so we will drop column `Category`."
   ],
   "metadata": {
    "collapsed": false,
    "pycharm": {
     "name": "#%% md\n"
    }
   }
  },
  {
   "cell_type": "code",
   "execution_count": 28,
   "metadata": {},
   "outputs": [
    {
     "data": {
      "text/plain": "Condo/Loft, Apartment, Detached                                      3338\nCondo/Loft, Apartment, Attached                                      2255\nCondo/Loft, Apartment, Semi-detached                                 1385\nSingle Family, Two or more storey, Detached                          1344\nSingle Family, Bungalow, Detached                                     647\n                                                                     ... \nRevenue Property, Attached, 11 units                                    1\nRevenue Property, Attached, 5 plex on 2 streets (Boyer & Mentana)       1\nLot, 4,661 sqft                                                         1\nRevenue Property, Detached, 8 Appartments                               1\nLot, 7,003 sqft                                                         1\nName: Category, Length: 408, dtype: int64"
     },
     "execution_count": 28,
     "metadata": {},
     "output_type": "execute_result"
    }
   ],
   "source": [
    "listings['Category'].value_counts()"
   ]
  },
  {
   "cell_type": "code",
   "execution_count": 29,
   "metadata": {},
   "outputs": [
    {
     "data": {
      "text/plain": "COP    7698\nUNI    3522\nPPR    2587\nPCI     719\nTER     140\nFER       1\nName: CategoryCode, dtype: int64"
     },
     "execution_count": 29,
     "metadata": {},
     "output_type": "execute_result"
    }
   ],
   "source": [
    "listings['CategoryCode'].value_counts()"
   ]
  },
  {
   "cell_type": "code",
   "execution_count": 23,
   "metadata": {},
   "outputs": [
    {
     "data": {
      "text/plain": [
       "331"
      ]
     },
     "execution_count": 23,
     "metadata": {},
     "output_type": "execute_result"
    }
   ],
   "source": [
    "all_categories = set()\n",
    "listings['Category'].apply(lambda s: all_categories.update(s.split(', ')))\n",
    "len(all_categories)"
   ]
  },
  {
   "cell_type": "markdown",
   "source": [
    "Column `PageTitle` will be dropped, because it contains mainly address and building category, which we have in other columns."
   ],
   "metadata": {
    "collapsed": false,
    "pycharm": {
     "name": "#%% md\n"
    }
   }
  },
  {
   "cell_type": "code",
   "execution_count": 24,
   "metadata": {},
   "outputs": [
    {
     "data": {
      "text/plain": [
       "Condos for sale in Mercier/Hochelaga-Maisonneuve (Montréal), Montréal (Island) – 2540, Av. Bilaudeau, 17659544 | Centris                                  1\n",
       "Condos for sale in Montréal-Nord (Montréal), Montréal (Island) – 3681, Boul. Henri-Bourassa E., apt. 302, 15086430 | Centris                              1\n",
       "Condos for sale in Ville-Marie (Montréal), Montréal (Island) – 2020, Rue Falardeau, apt. 101, 28792616 | Centris                                          1\n",
       "Houses for sale in Lachine (Montréal), Montréal (Island) – 325, Tsse Louis-Basile-Pigeon, 28901276 | Centris                                              1\n",
       "Commercial building for sale in Verdun/Île-des-Soeurs (Montréal), Montréal (Island) – 3135, Rue Wellington, 28572456 | Centris                            1\n",
       "                                                                                                                                                         ..\n",
       "Condos for sale in Ville-Marie (Montréal), Montréal (Island) – 651, Rue de la Montagne, apt. 102, 12948616 | Centris                                      1\n",
       "Condos for sale in Rivière-des-Prairies/Pointe-aux-Trembles (Montréal), Montréal (Island) – 1145, Boul. du Tricentenaire, apt. 302, 23255862 | Centris    1\n",
       "Condos for sale in Le Sud-Ouest (Montréal), Montréal (Island) – 5500, Rue Hadley, 22497859 | Centris                                                      1\n",
       "Condos for sale in Ville-Marie (Montréal), Montréal (Island) – 415, Rue St-Gabriel, apt. 403, 21245079 | Centris                                          1\n",
       "Condos for sale in Rosemont/La Petite-Patrie (Montréal), Montréal (Island) – 6860, 25e Avenue, apt. 2, 9495101 | Centris                                  1\n",
       "Name: PageTitle, Length: 14667, dtype: int64"
      ]
     },
     "execution_count": 24,
     "metadata": {},
     "output_type": "execute_result"
    }
   ],
   "source": [
    "listings['PageTitle'].value_counts()"
   ]
  },
  {
   "cell_type": "code",
   "execution_count": 30,
   "outputs": [],
   "source": [
    "listings.drop(columns=['PageTitle', 'Category'], inplace=True)"
   ],
   "metadata": {
    "collapsed": false,
    "pycharm": {
     "name": "#%%\n"
    }
   }
  },
  {
   "cell_type": "code",
   "execution_count": 31,
   "outputs": [
    {
     "data": {
      "text/plain": "   MlsNumber CategoryCode        Lat        Lng                   City  \\\n0    9027411          COP  45.556508 -73.633198  Ahuntsic-Cartierville   \n1    9030205          PPR  45.542062 -73.696868  Ahuntsic-Cartierville   \n2    9041238          PCI  45.573887 -73.649079  Ahuntsic-Cartierville   \n3    9048590          PPR  45.571040 -73.643413  Ahuntsic-Cartierville   \n4    9066959          COP  45.533876 -73.672649  Ahuntsic-Cartierville   \n\n           District  BuyPrice BuyPriceDesc  Construction  IsOpenHouse  ...  \\\n0  Ahuntsic Central  187500.0          NaN          1988         True  ...   \n1  Nouveau Bordeaux  574900.0          NaN          1955        False  ...   \n2     Ahuntsic East  475000.0          NaN          1959        False  ...   \n3     Ahuntsic East  545000.0          NaN          1956        False  ...   \n4  Nouveau Bordeaux  200000.0          NaN          2011        False  ...   \n\n  NumberOfBathroomsWithShower NumberOfBathroomsWithBathtub  \\\n0                           0                            1   \n1                           0                            1   \n2                           0                            0   \n3                           0                            1   \n4                           0                            1   \n\n   NumberOfFireplaces  NumberOfGarages  NumberOfParkingLots  NumberOfPools  \\\n0                   0                0                    1              0   \n1                   0                0                    1              0   \n2                   0                0                    1              0   \n3                   0                0                    0              0   \n4                   0                0                    0              0   \n\n   NbBordEaux  IsVirtualTour  DescriptionLanguage  DescriptionLength  \n0           0          False                   fr                348  \n1           0           True                   fr                347  \n2           0          False                   fr                349  \n3           0          False                   en                127  \n4           0           True                   en                285  \n\n[5 rows x 26 columns]",
      "text/html": "<div>\n<style scoped>\n    .dataframe tbody tr th:only-of-type {\n        vertical-align: middle;\n    }\n\n    .dataframe tbody tr th {\n        vertical-align: top;\n    }\n\n    .dataframe thead th {\n        text-align: right;\n    }\n</style>\n<table border=\"1\" class=\"dataframe\">\n  <thead>\n    <tr style=\"text-align: right;\">\n      <th></th>\n      <th>MlsNumber</th>\n      <th>CategoryCode</th>\n      <th>Lat</th>\n      <th>Lng</th>\n      <th>City</th>\n      <th>District</th>\n      <th>BuyPrice</th>\n      <th>BuyPriceDesc</th>\n      <th>Construction</th>\n      <th>IsOpenHouse</th>\n      <th>...</th>\n      <th>NumberOfBathroomsWithShower</th>\n      <th>NumberOfBathroomsWithBathtub</th>\n      <th>NumberOfFireplaces</th>\n      <th>NumberOfGarages</th>\n      <th>NumberOfParkingLots</th>\n      <th>NumberOfPools</th>\n      <th>NbBordEaux</th>\n      <th>IsVirtualTour</th>\n      <th>DescriptionLanguage</th>\n      <th>DescriptionLength</th>\n    </tr>\n  </thead>\n  <tbody>\n    <tr>\n      <th>0</th>\n      <td>9027411</td>\n      <td>COP</td>\n      <td>45.556508</td>\n      <td>-73.633198</td>\n      <td>Ahuntsic-Cartierville</td>\n      <td>Ahuntsic Central</td>\n      <td>187500.0</td>\n      <td>NaN</td>\n      <td>1988</td>\n      <td>True</td>\n      <td>...</td>\n      <td>0</td>\n      <td>1</td>\n      <td>0</td>\n      <td>0</td>\n      <td>1</td>\n      <td>0</td>\n      <td>0</td>\n      <td>False</td>\n      <td>fr</td>\n      <td>348</td>\n    </tr>\n    <tr>\n      <th>1</th>\n      <td>9030205</td>\n      <td>PPR</td>\n      <td>45.542062</td>\n      <td>-73.696868</td>\n      <td>Ahuntsic-Cartierville</td>\n      <td>Nouveau Bordeaux</td>\n      <td>574900.0</td>\n      <td>NaN</td>\n      <td>1955</td>\n      <td>False</td>\n      <td>...</td>\n      <td>0</td>\n      <td>1</td>\n      <td>0</td>\n      <td>0</td>\n      <td>1</td>\n      <td>0</td>\n      <td>0</td>\n      <td>True</td>\n      <td>fr</td>\n      <td>347</td>\n    </tr>\n    <tr>\n      <th>2</th>\n      <td>9041238</td>\n      <td>PCI</td>\n      <td>45.573887</td>\n      <td>-73.649079</td>\n      <td>Ahuntsic-Cartierville</td>\n      <td>Ahuntsic East</td>\n      <td>475000.0</td>\n      <td>NaN</td>\n      <td>1959</td>\n      <td>False</td>\n      <td>...</td>\n      <td>0</td>\n      <td>0</td>\n      <td>0</td>\n      <td>0</td>\n      <td>1</td>\n      <td>0</td>\n      <td>0</td>\n      <td>False</td>\n      <td>fr</td>\n      <td>349</td>\n    </tr>\n    <tr>\n      <th>3</th>\n      <td>9048590</td>\n      <td>PPR</td>\n      <td>45.571040</td>\n      <td>-73.643413</td>\n      <td>Ahuntsic-Cartierville</td>\n      <td>Ahuntsic East</td>\n      <td>545000.0</td>\n      <td>NaN</td>\n      <td>1956</td>\n      <td>False</td>\n      <td>...</td>\n      <td>0</td>\n      <td>1</td>\n      <td>0</td>\n      <td>0</td>\n      <td>0</td>\n      <td>0</td>\n      <td>0</td>\n      <td>False</td>\n      <td>en</td>\n      <td>127</td>\n    </tr>\n    <tr>\n      <th>4</th>\n      <td>9066959</td>\n      <td>COP</td>\n      <td>45.533876</td>\n      <td>-73.672649</td>\n      <td>Ahuntsic-Cartierville</td>\n      <td>Nouveau Bordeaux</td>\n      <td>200000.0</td>\n      <td>NaN</td>\n      <td>2011</td>\n      <td>False</td>\n      <td>...</td>\n      <td>0</td>\n      <td>1</td>\n      <td>0</td>\n      <td>0</td>\n      <td>0</td>\n      <td>0</td>\n      <td>0</td>\n      <td>True</td>\n      <td>en</td>\n      <td>285</td>\n    </tr>\n  </tbody>\n</table>\n<p>5 rows × 26 columns</p>\n</div>"
     },
     "execution_count": 31,
     "metadata": {},
     "output_type": "execute_result"
    }
   ],
   "source": [
    "listings.head()"
   ],
   "metadata": {
    "collapsed": false,
    "pycharm": {
     "name": "#%%\n"
    }
   }
  },
  {
   "cell_type": "markdown",
   "metadata": {},
   "source": [
    "## 2. Merging data frames"
   ]
  },
  {
   "cell_type": "markdown",
   "metadata": {},
   "source": [
    "### 2.1. `extra_data_modified.csv`"
   ]
  },
  {
   "cell_type": "code",
   "execution_count": 32,
   "metadata": {},
   "outputs": [],
   "source": [
    "extra_data = pd.read_csv('data/extra_data_modified.csv')"
   ]
  },
  {
   "cell_type": "code",
   "execution_count": 42,
   "outputs": [
    {
     "name": "stdout",
     "output_type": "stream",
     "text": [
      "variable  MlsNumber  var_0  var_1  var_10  var_100  var_101  var_102  var_103  \\\n",
      "0           8459190      0      0       0        0        0        0        0   \n",
      "1           8529438      0      0       0        0        0        0        0   \n",
      "2           8529809      0      0       0        0        0        0        0   \n",
      "3           8539583      0      0       0        0        0        0        0   \n",
      "4           8559001      0      0       0        0        0        0        0   \n",
      "\n",
      "variable  var_104  var_105  ...  var_90  var_91  var_92  var_93  var_94  \\\n",
      "0               0        0  ...       0       0       0       0       0   \n",
      "1               0        0  ...       0       0       0       0       0   \n",
      "2               0        0  ...       0       0       0       0       0   \n",
      "3               0        0  ...       0       0       0       0       0   \n",
      "4               0        0  ...       0       0       0       0       0   \n",
      "\n",
      "variable  var_95  var_96  var_97  var_98  var_99  \n",
      "0              0       0       0       0       0  \n",
      "1              0       0       0       0       0  \n",
      "2              0       0       0       0       0  \n",
      "3              0       0       0       0       0  \n",
      "4              0       0       0       0       0  \n",
      "\n",
      "[5 rows x 280 columns]\n",
      "[{'fairview shopping center', 'cote vertu shoping center ', 'shoping center', 'cinema and shopping center', 'shopping center cinema', 'shopping centre', 'shopping center', 'st charles shopping center', 'shopping centers', 'domaine shopping centre'}, {\"centre d'achat et cin�ma\", \"magasins centre d'achats\", 'centre achat', \"centres d'achats\", \"ctre d'achats\", \"centre d'achat forest\", 'centre dachat galeries d', \"centred'achat ymca\", 'centres d`achats', \"centre d'achat\"}, {'grocery store b106', 'grocery stores', 'grocery stores and shops', 'grocery store', 'metro grocery store', 'procery ptores'}, {'pharmacie.', 'pharmacies', 'pharmacie', 'pharmacie et saq', 'pharmacie ', 'pharmacy'}, {'water front', 'water front marina', 'near water front', 'near waterfront', 'waterfront'}, {'centres commerciau', 'centre commerciaux', 'centres commerciaux', 'services et centres commerciaux ', 'centre commerciale'}, {'airport downton', 'downtown', 'airport  downtown', 'heart of downtown', 'down town'}, {'restos boutiques ', 'boutiques', 'boutique hotels ', 'restos boutiques', 'boutiques '}, {'futur train de banlieue', 'pres du futur train banlieue gare lacordaire', 'pres du future train banlieue amt', 'pres du futur train banlieue amt', 'pres du futur train banlieue'}, {'maisonneuve market', 'march� maisonneuve ', 'maisonneuve park', 'march� maisonneuve', 'parc maisonneuve'}, {'�picerie m�tro', '�picerie', 'epicerie', '�piceries', 'epiecerie'}, {'centre sportif cepsum', 'centre sportif complet', 'centre sportif �pic', 'centre sportif'}, {'march� jean talon', 'marche atwater', 'march� central', 'march� atwater '}, {\"galeries d'anjou\", \"galerie d'anjou\", \"les galeries d'anjou mall\", \"gal. d'anjou\"}, {'arenas', 'arena', 'marina', 'ar�na'}, {'shops angus.', 'shops', 'shopping ', 'shopping'}, {'german school', 'german school avh', 'private german school', 'avh german school '}, {'promenade ontario', 'promenade fleury', 'promenade masson', 'promenade fleury '}, {'rue mt royal', 'parc du mont royal', 'mont royal', 'mt royal'}, {'garderies', 'cpe garderies', 'garderie', 'garderies*c�gep'}, {'town pool', 'pool', 'pools'}, {'centre ville..', 'a 5 minutes du centre ville', 'centre ville'}, {'parte nature', 'parc nature', 'park   green area'}, {'old port of montreal', 'old port of montral', 'old montreal'}, {'mcgill university', 'college & university ', 'university'}, {'public pool', 'pulbic pool', 'public pool and arena'}, {'restaurants', 'pharmacy restaurants', 'the best restaurants'}, {'walk to new westmount recreation centre', 'westmount recreation centre', 'westmount recreation centre   arena   pool'}, {' bibliotheque', 'blibioth�que', 'biblioth�que'}, {'distance marche place versailles', 'place versailles', \"gallerie d'anjou & place versaille\"}, {'easy access to hwy 20', 'easy access to highway 40 & 20', 'easy access to main roads'}, {'restos boutique place des arts m�tro', 'restos boutiques  bar', 'restos boutiques bar '}, {'well situated... near all services', 'near all services', 'all essential services'}, {'waterside', 'traversier', 'wather side'}, {'bientot train de banlieu', 'parc r�gional futur train de banlieue', 'future gare de train de banlieue'}, {'lake st.louis', 'lake st louis', 'lac st louis'}, {'jardin bonatique', 'face au jardin botanique', 'jardin botanique'}, {'parcs', 'park', 'parc'}, {'commercial centers', 'commercial center', 'commercial centerùs'}, {'�cole primaire', '�coles primaires', '�cole secondaire'}, {'supermarket', 'supermarch�', 'supermarch�s'}, {'riviere', 'rivi�re', 'river'}, {'tennis courts', 'tennis court', 'synagogues tennis courts.'}, {'face au parc lafontaine', 'parc la fontaine', 'parc lafontaine'}, {'highway 40', 'highway 13  15', 'highway'}, {'restos ', 'restos', 'saq et restos.'}, {'resto', 'metro ', 'metro'}, {'mountain.', 'mountain', 'montreal casino'}, {'cafés', 'caf�'}, {'vieux montr�al', 'fleuve et quai du vieux montr�al'}, {'airport', 'vieux port'}, {'centre aquatique', 'notre dame basilique'}, {'canal lachine and all services', 'canal lachine   march� atwater   nordelec'}, {'�cole de musique', '�cole des adultes.'}, {'shoping center and movie theater', 'shopping center and cinema'}, {'other', 'water'}, {'ar�na+piscines public interieur', 'piscine public'}, {'benny sports centre', 'aquadome sports center'}, {'autoroute 20 13 720', 'autoroute 40'}, {'atwater market lachine canal', 'atwater market and lachine canal'}, {'lachine canal and atwater market', 'lachine canal atwater market', 'lachine canal'}, {'clinic', 'medical clinic'}, {'clsc', 'costco'}, {'daycare', 'day care'}, {'summer festivals', 'festivals'}, {'museum', 'museums'}, {'bombardier', 'bonne garderie'}, {'pont mercier', 'commerces'}, {'angrignon mall', 'angrignon metro'}, {'monkland village', 'monkland'}, {'church & synagogue', 'synagogue'}, {'parc bellerive', 'bell centre'}, {'m�tro   station lasalle', 'trin station'}, {'public transport', 'public transportation'}, {'bi�dome', 'biod�me'}, {'.picerie distance de marche', '�piceries fines services'}, {'coll�ge mont st louis', 'coll�ge priv� regina assumpta et mont saint louis'}, {'groceries', 'resto et �piceries'}, {'pont de la 25', 'pont a 25'}, {'m�tro ', 'm�tro'}, {'m�tro monk', 'm�tro frontenac'}, {'m�tro charlevoix', 'm�tro square victoria'}, {'hospital', 'shopping mall'}, {'sherbrooke metro station', 'honoré beaugrand metro station'}, {'near downton and mc gill university', 'new mcgill university health centre'}, {'high school', 'school'}, {\"place versailles+galeries d'anjou distance marche\", \"centre commercial les galeries d'anjou\"}, {'train', 'bus & train'}, {'drugstore', 'stores', 'bus & stores'}, {'tunnel hippolyte', 'tunnel lh lafontaine'}, {'� 2 pas du fleuve', 'fleuve'}, {'other   stores', 'th�atres'}, {'carrefour angrignon', 'carrefour angrinion'}, {'rue st denis', 'tennis'}, {\"baie d'urf� yacht club\", 'yacht club'}, {'plusieurs services', 'pharmacie & autres services.'}, {'other   stanislas school', 'stanislas college'}, {'commuter train', 'commuter train marina tennis'}, {'community centre', 'civic centre'}, {'ice arena', 'canal'}, {'tout', 'courts'}, {'etc.', 'etc...'}, {'cin�ma', 'cin�ma beaubien'}, {'m�tro berri', 'metro beaubien'}, {'all services: restaurant', 'services and retail'}, {'jean talon market', 'atwater market'}, {'bus', 'autobus'}, {'library', 'library arena pool'}, {'r�no d�p�t et autres.', 'r�no d�p�t'}, {'steps from all services', 'de multiples services'}, {'banks', 'bars'}, {'bank', 'banque'}, {'centre claude robillard', 'claude robillard sports club'}, {'centres commerciaux et restos', 'commercial street'}, {'plusieurs commerces', 'autres commerces.'}, {\"centres d'achat (galeries d'anjou et place versail\", \"centre d'achat le boulevard\"}, {'boutiques and restaurants', 'shops and restaurants'}, {\"marche de l'ouest\", \"march� de l'ouest\"}, {'dorval airport', 'other   airport'}, {\"yul trudeau int'l airport\", 'international airport'}, {'old port', 'montr�al old port'}, {'mount royal park', 'regional park'}, {'tous les commerces de mont royal', 'tous les services rue mont royal'}, {'cntre commercial le boulevard', 'centre du commerce mondial '}, {\"centre d'achat iga caisse populaire pharmacie\", 'centre commercial clinique pharmacie'}, {'public access to lake', 'public market'}, {'griffintown', 'china town'}, {'fairview mall', 'fairview shopping mall'}, {'italian church', 'church'}, {'laurier street', 'laurier'}, {'pr�s nouveau train pr�vu d�c.2014', 'pr�s nouvelle station train d�c 2014'}, {'malls', 'mall'}, {'park & mall', 'park and mall'}, {'monk blvd (shops)'}, {\"bord de l'eau\"}, {'ste catherine'}, {'jarry park'}, {'all the amenities are close by'}, {'place des arts'}, {'quartier des spectacles'}, {'rivi�re des prairies'}, {'parc hopital magasins �coles.'}, {'aquadome'}, {'mile ex'}, {'grands magasins'}, {'mlsnumber'}, {'universit� mcgill'}, {'gascogne maxi jean coutu banque'}, {'cegep bois de boulogne'}, {'all less than 10 minutes by car'}, {'backs onto sunnyside park!'}, {'�cluse de ste anne'}, {'centre ville de montreal'}, {'ointe claire village and beaconsfield yacht club'}, {'autobus 104 105 138 356 420'}, {'subway: berri'}, {'caisse'}, {'secondaire et c�gep'}, {'victoria bridge'}, {'plateau'}, {'german school alexander von humbolt'}, {'bixi'}, {'saq'}, {'restaurants et bistros'}, {'iga'}, {'bicycle path'}, {'swim. pool of cégep du v.m'}, {'olympic stadium'}, {'place ville marie'}, {'clsc;cavendish mall;public library;community cente'}, {'tennis yacht club  arboretum curling'}, {'facing park'}, {'centre j c mal�part'}, {'jean drapeau park'}, {\"ste.anne's village & boardwalk\"}, {'commerces de wellington'}, {'ymca'}, {'�picerie loblaws angus'}, {'acc�s autoroutes'}, {'hw 13 & 40'}, {'casino & ile ste helene'}, {'pauline julien theatre'}, {'verdun auditorium'}, {'parc promenade bellerive'}, {'canoe and sailing clubs'}, {'station metro beaudry'}, {'golf'}, {'grocery store pharmacy restaurants shopping center'}, {'loblaws'}, {'m�tro de verdun !!!!!!'}, {'in the heart of mileend'}, {'gorgeous park along the water'}, {'to everything! '}, {'a�roport dorval'}, {'religious organization'}, {'royal west academy'}, {'club acuatique'}, {'grand place'}, {'trudeau airport yul'}, {'rue masson'}, {'shops et \"caf�s terrasses\"'}, {'wellington plaza'}, {'multi m�dia city'}, {'bcp de commodit�s de la rue jean talon'}, {'two steps from mcgill and downtown'}, {'congregation'}, {'clinique'}, {'jean coutu'}, {'interior access to les bains scandinaves'}, {'groceries and businesses'}, {'services'}, {'arena mccon'}, {'rockland center'}, {'port de montr�al   mus�es  restaurants  boutiques'}, {'� 5 min aut.20'}, {'alpine skiing'}, {'cegep'}, {'dogs park'}, {'3min from verdun metro'}, {'mosque'}, {'all within walking distance.'}, {'shopping eglise synagogue'}, {'mcgill u and concordia u'}, {'college cegep'}, {'civic center'}, {'m�tro honor� beaugrand'}, {'curling'}, {'jacques cartier bridge'}, {'henri bourassa metro'}, {'elementary school'}, {'place chaumond.'}, {'hotel de ville'}, {'adonis supermarket and sami fruit'}, {'walk score 100'}, {\"centre d'achat angrignon\"}, {'skate rink of old port'}, {'future beach'}, {'jardin botanique stade shop angus'}, {'other   a few steps from monkland ave.'}, {'quality schools and avh german school'}, {'métro jarry'}, {'primary and secondary schools'}, {'morgan arboretum'}, {'stations de m�tro langelier et cadillac'}, {'gym'}, {'parc roger rousseau'}, {'grocery pharmacy clinics bank saq hairsalon'}, {'skating ring'}, {'fire & police department'}, {'bois de liesse park'}, {'snowdon metro.'}, {'outremont'}, {'occupation double'}, {'train de banlieu � venir'}, {'seniors residence'}, {'lake'}, {'access to highway 20'}, {'grocery'}, {'ferry'}, {'shop angus + �picerie 5 minutes'}, {'boutiques et commerces branch�s'}, {'march� adonis'}, {'pr�s uqam radio canada'}, {\"centre d'achat �piceries ar�na biblioth�que etc...\"}, {'coll�ge st jean vianney'}, {\"galeries et halles d'anjou\"}, {'livingarea'}, {'radisson subway place versailles mall loblaw'}, {'centre leonardo da vinci'}, {'vanier college'}, {'fleuve st laurent.'}, {'cross country skiing'}, {'piscine'}, {'woodlands'}, {'kuper acadany'}, {\"galerie d'anjou et centre commercial\"}, {'parc molson'}, {'magasin �picerie'}, {'beaurepaire village'}, {'m�tro langelier'}, {'bistros..'}]\n"
     ]
    }
   ],
   "source": [
    "from itertools import combinations\n",
    "from collections import Counter\n",
    "import difflib\n",
    "import Levenshtein\n",
    "\n",
    "threshold = 0.6\n",
    "minGroupSize = 1\n",
    "stripJunk = str.maketrans(\"\",\"\",\"- \")\n",
    "\n",
    "\n",
    "columns_lower = [c.lower().replace('-', ' ').replace(',', ' ').replace('/', ' ') for c in extra_data.columns]\n",
    "\n",
    "def getRatio(a, b):\n",
    "    a = a.lower().translate(stripJunk)\n",
    "    b = b.lower().translate(stripJunk)\n",
    "    return np.max([difflib.SequenceMatcher(isjunk=None, a=a, b=b).ratio(), Levenshtein.ratio(a, b)])\n",
    "\n",
    "data = columns_lower\n",
    "paired = {c:{c} for c in data}\n",
    "count = 0\n",
    "for a, b in combinations(data,2):\n",
    "    if getRatio(a,b) < threshold:\n",
    "        count += 1\n",
    "        continue\n",
    "    else:\n",
    "        paired[a].add(b)\n",
    "        paired[b].add(a)\n",
    "\n",
    "groups = []\n",
    "ungrouped = set(data)\n",
    "while ungrouped:\n",
    "    bestGroup = {}\n",
    "    for city in ungrouped:\n",
    "        g = paired[city] & ungrouped\n",
    "        for c in g.copy():\n",
    "            g &= paired[c]\n",
    "        if len(g) > len(bestGroup):\n",
    "            bestGroup = g\n",
    "    if len(bestGroup) < minGroupSize : break  # to terminate grouping early change minGroupSize to 3\n",
    "    ungrouped -= bestGroup\n",
    "    groups.append(bestGroup)\n",
    "\n",
    "new_variable_aliases = {}\n",
    "for i, g in enumerate(groups):\n",
    "    for column in g:\n",
    "        new_variable_aliases[column] = f'var_{i}'\n",
    "\n",
    "df_living_area = extra_data.loc[:, ['MlsNumber', 'LivingArea']]\n",
    "df_other_cols = extra_data.drop(columns=['LivingArea'])\n",
    "df = df_other_cols.melt(id_vars=['MlsNumber'])\n",
    "df['variable'] = df['variable'].apply(lambda x: new_variable_aliases[x.lower().replace('-', ' ').replace(',', ' ').replace('/', ' ')])\n",
    "df = df.groupby(by=['MlsNumber', 'variable']).max().reset_index()\n",
    "df = df.pivot(index=['MlsNumber'], columns='variable', values='value').reset_index()\n",
    "\n",
    "print(df.head())\n",
    "print(groups)"
   ],
   "metadata": {
    "collapsed": false,
    "pycharm": {
     "name": "#%%\n"
    }
   }
  },
  {
   "cell_type": "code",
   "execution_count": 43,
   "outputs": [
    {
     "data": {
      "text/plain": "9016"
     },
     "execution_count": 43,
     "metadata": {},
     "output_type": "execute_result"
    }
   ],
   "source": [
    "extra_data_final = pd.merge(df, df_living_area, on='MlsNumber', how='left')\n",
    "len(extra_data_final)"
   ],
   "metadata": {
    "collapsed": false,
    "pycharm": {
     "name": "#%%\n"
    }
   }
  },
  {
   "cell_type": "code",
   "execution_count": 73,
   "metadata": {},
   "outputs": [],
   "source": [
    "final_df = pd.merge(listings, extra_data_final, on='MlsNumber', how='left')"
   ]
  },
  {
   "cell_type": "code",
   "execution_count": 74,
   "outputs": [
    {
     "name": "stdout",
     "output_type": "stream",
     "text": [
      "<class 'pandas.core.frame.DataFrame'>\n",
      "Int64Index: 14672 entries, 0 to 14671\n",
      "Columns: 306 entries, MlsNumber to LivingArea\n",
      "dtypes: bool(2), float64(283), int64(14), object(7)\n",
      "memory usage: 34.2+ MB\n"
     ]
    }
   ],
   "source": [
    "final_df.info()"
   ],
   "metadata": {
    "collapsed": false,
    "pycharm": {
     "name": "#%%\n"
    }
   }
  },
  {
   "cell_type": "code",
   "execution_count": 75,
   "metadata": {},
   "outputs": [
    {
     "data": {
      "text/plain": "505     NaN\n519     NaN\n714     NaN\n2717    NaN\n5583    NaN\n6398    NaN\n6534    NaN\n6739    NaN\n9158    NaN\n10237   NaN\n10251   NaN\n10279   NaN\n10365   NaN\n10368   NaN\n10381   NaN\n10402   NaN\n10596   NaN\n10617   NaN\n10634   NaN\n14065   NaN\nName: LivingArea, dtype: float64"
     },
     "execution_count": 75,
     "metadata": {},
     "output_type": "execute_result"
    }
   ],
   "source": [
    "final_df.loc[final_df['BuyPriceDesc'] == ' /square foot', 'LivingArea']"
   ]
  },
  {
   "cell_type": "code",
   "execution_count": 76,
   "outputs": [],
   "source": [
    "final_df = final_df.loc[final_df['BuyPriceDesc'] != ' /square foot',]\n",
    "final_df.drop(columns=['BuyPriceDesc'], inplace=True)"
   ],
   "metadata": {
    "collapsed": false,
    "pycharm": {
     "name": "#%%\n"
    }
   }
  },
  {
   "cell_type": "markdown",
   "metadata": {
    "pycharm": {
     "name": "#%% md\n"
    }
   },
   "source": [
    "Probably the best option will be to remove these observations because theirs livingArea is not given and drop column `BuyPriceDescription`"
   ]
  },
  {
   "cell_type": "markdown",
   "metadata": {},
   "source": [
    "### 2.2. `policeCoord.csv` & `firestations.csv`"
   ]
  },
  {
   "cell_type": "code",
   "execution_count": 77,
   "metadata": {},
   "outputs": [],
   "source": [
    "police_coord = pd.read_csv('data/policeCoord.csv').rename({'long': 'lng'}, axis=1)\n",
    "firestations_coord = pd.read_csv('data/firestations.csv')"
   ]
  },
  {
   "cell_type": "code",
   "execution_count": 78,
   "metadata": {},
   "outputs": [
    {
     "data": {
      "text/plain": "         lng        lat\n0 -73.542094  45.583362\n1 -73.617431  45.577735\n2 -73.545913  45.556857\n3 -73.701026  45.528533\n4 -73.593463  45.585063",
      "text/html": "<div>\n<style scoped>\n    .dataframe tbody tr th:only-of-type {\n        vertical-align: middle;\n    }\n\n    .dataframe tbody tr th {\n        vertical-align: top;\n    }\n\n    .dataframe thead th {\n        text-align: right;\n    }\n</style>\n<table border=\"1\" class=\"dataframe\">\n  <thead>\n    <tr style=\"text-align: right;\">\n      <th></th>\n      <th>lng</th>\n      <th>lat</th>\n    </tr>\n  </thead>\n  <tbody>\n    <tr>\n      <th>0</th>\n      <td>-73.542094</td>\n      <td>45.583362</td>\n    </tr>\n    <tr>\n      <th>1</th>\n      <td>-73.617431</td>\n      <td>45.577735</td>\n    </tr>\n    <tr>\n      <th>2</th>\n      <td>-73.545913</td>\n      <td>45.556857</td>\n    </tr>\n    <tr>\n      <th>3</th>\n      <td>-73.701026</td>\n      <td>45.528533</td>\n    </tr>\n    <tr>\n      <th>4</th>\n      <td>-73.593463</td>\n      <td>45.585063</td>\n    </tr>\n  </tbody>\n</table>\n</div>"
     },
     "execution_count": 78,
     "metadata": {},
     "output_type": "execute_result"
    }
   ],
   "source": [
    "police_coord.head()"
   ]
  },
  {
   "cell_type": "code",
   "execution_count": 79,
   "metadata": {},
   "outputs": [
    {
     "data": {
      "text/plain": "                    address        lat        lng\n0      550 Blvd. St. Pierre  45.502644 -73.559248\n1       230 Blvd.Chèvremont  45.493473 -73.876561\n2   13795 Blvd. Pierrefonds  45.493300 -73.849787\n3  13 rue Centre Commercial  45.509543 -73.806234\n4              10 Sunnydale  45.493874 -73.806822",
      "text/html": "<div>\n<style scoped>\n    .dataframe tbody tr th:only-of-type {\n        vertical-align: middle;\n    }\n\n    .dataframe tbody tr th {\n        vertical-align: top;\n    }\n\n    .dataframe thead th {\n        text-align: right;\n    }\n</style>\n<table border=\"1\" class=\"dataframe\">\n  <thead>\n    <tr style=\"text-align: right;\">\n      <th></th>\n      <th>address</th>\n      <th>lat</th>\n      <th>lng</th>\n    </tr>\n  </thead>\n  <tbody>\n    <tr>\n      <th>0</th>\n      <td>550 Blvd. St. Pierre</td>\n      <td>45.502644</td>\n      <td>-73.559248</td>\n    </tr>\n    <tr>\n      <th>1</th>\n      <td>230 Blvd.Chèvremont</td>\n      <td>45.493473</td>\n      <td>-73.876561</td>\n    </tr>\n    <tr>\n      <th>2</th>\n      <td>13795 Blvd. Pierrefonds</td>\n      <td>45.493300</td>\n      <td>-73.849787</td>\n    </tr>\n    <tr>\n      <th>3</th>\n      <td>13 rue Centre Commercial</td>\n      <td>45.509543</td>\n      <td>-73.806234</td>\n    </tr>\n    <tr>\n      <th>4</th>\n      <td>10 Sunnydale</td>\n      <td>45.493874</td>\n      <td>-73.806822</td>\n    </tr>\n  </tbody>\n</table>\n</div>"
     },
     "execution_count": 79,
     "metadata": {},
     "output_type": "execute_result"
    }
   ],
   "source": [
    "firestations_coord.head()"
   ]
  },
  {
   "cell_type": "markdown",
   "metadata": {},
   "source": [
    "Adding distances to the closest fire station and police station to the merged data frame:"
   ]
  },
  {
   "cell_type": "code",
   "execution_count": 80,
   "metadata": {},
   "outputs": [],
   "source": [
    "def get_distance_to_closest_building(lat: float, lng: float, \n",
    "                                     buildings: pd.DataFrame) -> float:\n",
    "    \"\"\"\n",
    "    Returns distance (in kilometres) from the building at latitude lat and\n",
    "    longitude lng to the closest building from data frame passed as \n",
    "    buildings parameter\n",
    "    \"\"\"\n",
    "    buildings['distance'] = buildings.apply(\n",
    "        lambda row: np.sqrt(\n",
    "            (row['lat'] - lat)**2 + \n",
    "            (row['lng'] - lng)**2), \n",
    "        axis=1)\n",
    "    return np.min(buildings['distance']) * 111  # *111 to convert degrees to km"
   ]
  },
  {
   "cell_type": "code",
   "execution_count": 81,
   "metadata": {},
   "outputs": [],
   "source": [
    "final_df['DistanceToFireStation'] = final_df.apply(\n",
    "    lambda row: get_distance_to_closest_building(\n",
    "        row['Lat'], row['Lng'], firestations_coord), axis=1)\n",
    "final_df['DistanceToPoliceStation'] = final_df.apply(\n",
    "    lambda row: get_distance_to_closest_building(\n",
    "        row['Lat'], row['Lng'], police_coord),\n",
    "    axis=1)"
   ]
  },
  {
   "cell_type": "code",
   "execution_count": 82,
   "outputs": [
    {
     "data": {
      "text/plain": "   MlsNumber CategoryCode        Lat        Lng                   City  \\\n0    9027411          COP  45.556508 -73.633198  Ahuntsic-Cartierville   \n1    9030205          PPR  45.542062 -73.696868  Ahuntsic-Cartierville   \n2    9041238          PCI  45.573887 -73.649079  Ahuntsic-Cartierville   \n3    9048590          PPR  45.571040 -73.643413  Ahuntsic-Cartierville   \n4    9066959          COP  45.533876 -73.672649  Ahuntsic-Cartierville   \n\n           District  BuyPrice  Construction  IsOpenHouse GenreCode  ...  \\\n0  Ahuntsic Central  187500.0          1988         True        AP  ...   \n1  Nouveau Bordeaux  574900.0          1955        False        2X  ...   \n2     Ahuntsic East  475000.0          1959        False         C  ...   \n3     Ahuntsic East  545000.0          1956        False        3X  ...   \n4  Nouveau Bordeaux  200000.0          2011        False        AP  ...   \n\n  var_93  var_94  var_95  var_96  var_97  var_98  var_99  LivingArea  \\\n0    NaN     NaN     NaN     NaN     NaN     NaN     NaN         NaN   \n1    0.0     0.0     0.0     0.0     0.0     0.0     0.0         NaN   \n2    0.0     0.0     0.0     0.0     0.0     0.0     0.0         NaN   \n3    NaN     NaN     NaN     NaN     NaN     NaN     NaN         NaN   \n4    0.0     0.0     0.0     0.0     1.0     0.0     0.0       66.89   \n\n   DistanceToFireStation  DistanceToPoliceStation  \n0               1.344480                 2.138863  \n1               1.145066                 1.571043  \n2               0.648593                 0.775819  \n3               1.065887                 1.165100  \n4               2.405775                 3.175101  \n\n[5 rows x 307 columns]",
      "text/html": "<div>\n<style scoped>\n    .dataframe tbody tr th:only-of-type {\n        vertical-align: middle;\n    }\n\n    .dataframe tbody tr th {\n        vertical-align: top;\n    }\n\n    .dataframe thead th {\n        text-align: right;\n    }\n</style>\n<table border=\"1\" class=\"dataframe\">\n  <thead>\n    <tr style=\"text-align: right;\">\n      <th></th>\n      <th>MlsNumber</th>\n      <th>CategoryCode</th>\n      <th>Lat</th>\n      <th>Lng</th>\n      <th>City</th>\n      <th>District</th>\n      <th>BuyPrice</th>\n      <th>Construction</th>\n      <th>IsOpenHouse</th>\n      <th>GenreCode</th>\n      <th>...</th>\n      <th>var_93</th>\n      <th>var_94</th>\n      <th>var_95</th>\n      <th>var_96</th>\n      <th>var_97</th>\n      <th>var_98</th>\n      <th>var_99</th>\n      <th>LivingArea</th>\n      <th>DistanceToFireStation</th>\n      <th>DistanceToPoliceStation</th>\n    </tr>\n  </thead>\n  <tbody>\n    <tr>\n      <th>0</th>\n      <td>9027411</td>\n      <td>COP</td>\n      <td>45.556508</td>\n      <td>-73.633198</td>\n      <td>Ahuntsic-Cartierville</td>\n      <td>Ahuntsic Central</td>\n      <td>187500.0</td>\n      <td>1988</td>\n      <td>True</td>\n      <td>AP</td>\n      <td>...</td>\n      <td>NaN</td>\n      <td>NaN</td>\n      <td>NaN</td>\n      <td>NaN</td>\n      <td>NaN</td>\n      <td>NaN</td>\n      <td>NaN</td>\n      <td>NaN</td>\n      <td>1.344480</td>\n      <td>2.138863</td>\n    </tr>\n    <tr>\n      <th>1</th>\n      <td>9030205</td>\n      <td>PPR</td>\n      <td>45.542062</td>\n      <td>-73.696868</td>\n      <td>Ahuntsic-Cartierville</td>\n      <td>Nouveau Bordeaux</td>\n      <td>574900.0</td>\n      <td>1955</td>\n      <td>False</td>\n      <td>2X</td>\n      <td>...</td>\n      <td>0.0</td>\n      <td>0.0</td>\n      <td>0.0</td>\n      <td>0.0</td>\n      <td>0.0</td>\n      <td>0.0</td>\n      <td>0.0</td>\n      <td>NaN</td>\n      <td>1.145066</td>\n      <td>1.571043</td>\n    </tr>\n    <tr>\n      <th>2</th>\n      <td>9041238</td>\n      <td>PCI</td>\n      <td>45.573887</td>\n      <td>-73.649079</td>\n      <td>Ahuntsic-Cartierville</td>\n      <td>Ahuntsic East</td>\n      <td>475000.0</td>\n      <td>1959</td>\n      <td>False</td>\n      <td>C</td>\n      <td>...</td>\n      <td>0.0</td>\n      <td>0.0</td>\n      <td>0.0</td>\n      <td>0.0</td>\n      <td>0.0</td>\n      <td>0.0</td>\n      <td>0.0</td>\n      <td>NaN</td>\n      <td>0.648593</td>\n      <td>0.775819</td>\n    </tr>\n    <tr>\n      <th>3</th>\n      <td>9048590</td>\n      <td>PPR</td>\n      <td>45.571040</td>\n      <td>-73.643413</td>\n      <td>Ahuntsic-Cartierville</td>\n      <td>Ahuntsic East</td>\n      <td>545000.0</td>\n      <td>1956</td>\n      <td>False</td>\n      <td>3X</td>\n      <td>...</td>\n      <td>NaN</td>\n      <td>NaN</td>\n      <td>NaN</td>\n      <td>NaN</td>\n      <td>NaN</td>\n      <td>NaN</td>\n      <td>NaN</td>\n      <td>NaN</td>\n      <td>1.065887</td>\n      <td>1.165100</td>\n    </tr>\n    <tr>\n      <th>4</th>\n      <td>9066959</td>\n      <td>COP</td>\n      <td>45.533876</td>\n      <td>-73.672649</td>\n      <td>Ahuntsic-Cartierville</td>\n      <td>Nouveau Bordeaux</td>\n      <td>200000.0</td>\n      <td>2011</td>\n      <td>False</td>\n      <td>AP</td>\n      <td>...</td>\n      <td>0.0</td>\n      <td>0.0</td>\n      <td>0.0</td>\n      <td>0.0</td>\n      <td>1.0</td>\n      <td>0.0</td>\n      <td>0.0</td>\n      <td>66.89</td>\n      <td>2.405775</td>\n      <td>3.175101</td>\n    </tr>\n  </tbody>\n</table>\n<p>5 rows × 307 columns</p>\n</div>"
     },
     "execution_count": 82,
     "metadata": {},
     "output_type": "execute_result"
    }
   ],
   "source": [
    "final_df.head()"
   ],
   "metadata": {
    "collapsed": false,
    "pycharm": {
     "name": "#%%\n"
    }
   }
  },
  {
   "cell_type": "markdown",
   "metadata": {},
   "source": [
    "### 2.3. `montreal_hpi`\n",
    "We won't add this to our data frame, because it is not related to single records."
   ]
  },
  {
   "cell_type": "code",
   "execution_count": 83,
   "metadata": {},
   "outputs": [],
   "source": [
    "montreal_hpi = pd.read_csv('data/montreal_hpi.csv')"
   ]
  },
  {
   "cell_type": "markdown",
   "metadata": {},
   "source": [
    "All columns in this data frame have extremely strong correlation with each other"
   ]
  },
  {
   "cell_type": "code",
   "execution_count": 84,
   "metadata": {},
   "outputs": [
    {
     "data": {
      "text/plain": "       Date  Composite_HPI  Single_Family_HPI  One_Storey_HPI  Two_Storey_HPI  \\\n0  Jan 2005          100.0              100.0           100.0           100.0   \n1  Feb 2005          101.3              101.3           101.6           100.9   \n2  Mar 2005          102.4              102.6           103.1           102.0   \n3  Apr 2005          103.2              103.4           104.1           102.5   \n4  May 2005          103.6              103.9           104.7           102.8   \n\n   Townhouse_HPI  Apartment_HPI  Composite_Benchmark  Single_Family_Benchmark  \\\n0          100.0          100.0               192200                   200200   \n1          104.8          100.9               194700                   202800   \n2          104.6          101.4               196800                   205400   \n3          105.7          102.1               198400                   207000   \n4          104.9          102.4               199100                   208000   \n\n   One_Storey_Benchmark  Two_Storey_Benchmark  Townhouse_Benchmark  \\\n0                165400                245400               178600   \n1                168100                247600               187200   \n2                170600                250300               186800   \n3                172200                251500               188800   \n4                173200                252300               187400   \n\n   Apartment_Benchmark  \n0               163300  \n1               164800  \n2               165600  \n3               166800  \n4               167300  ",
      "text/html": "<div>\n<style scoped>\n    .dataframe tbody tr th:only-of-type {\n        vertical-align: middle;\n    }\n\n    .dataframe tbody tr th {\n        vertical-align: top;\n    }\n\n    .dataframe thead th {\n        text-align: right;\n    }\n</style>\n<table border=\"1\" class=\"dataframe\">\n  <thead>\n    <tr style=\"text-align: right;\">\n      <th></th>\n      <th>Date</th>\n      <th>Composite_HPI</th>\n      <th>Single_Family_HPI</th>\n      <th>One_Storey_HPI</th>\n      <th>Two_Storey_HPI</th>\n      <th>Townhouse_HPI</th>\n      <th>Apartment_HPI</th>\n      <th>Composite_Benchmark</th>\n      <th>Single_Family_Benchmark</th>\n      <th>One_Storey_Benchmark</th>\n      <th>Two_Storey_Benchmark</th>\n      <th>Townhouse_Benchmark</th>\n      <th>Apartment_Benchmark</th>\n    </tr>\n  </thead>\n  <tbody>\n    <tr>\n      <th>0</th>\n      <td>Jan 2005</td>\n      <td>100.0</td>\n      <td>100.0</td>\n      <td>100.0</td>\n      <td>100.0</td>\n      <td>100.0</td>\n      <td>100.0</td>\n      <td>192200</td>\n      <td>200200</td>\n      <td>165400</td>\n      <td>245400</td>\n      <td>178600</td>\n      <td>163300</td>\n    </tr>\n    <tr>\n      <th>1</th>\n      <td>Feb 2005</td>\n      <td>101.3</td>\n      <td>101.3</td>\n      <td>101.6</td>\n      <td>100.9</td>\n      <td>104.8</td>\n      <td>100.9</td>\n      <td>194700</td>\n      <td>202800</td>\n      <td>168100</td>\n      <td>247600</td>\n      <td>187200</td>\n      <td>164800</td>\n    </tr>\n    <tr>\n      <th>2</th>\n      <td>Mar 2005</td>\n      <td>102.4</td>\n      <td>102.6</td>\n      <td>103.1</td>\n      <td>102.0</td>\n      <td>104.6</td>\n      <td>101.4</td>\n      <td>196800</td>\n      <td>205400</td>\n      <td>170600</td>\n      <td>250300</td>\n      <td>186800</td>\n      <td>165600</td>\n    </tr>\n    <tr>\n      <th>3</th>\n      <td>Apr 2005</td>\n      <td>103.2</td>\n      <td>103.4</td>\n      <td>104.1</td>\n      <td>102.5</td>\n      <td>105.7</td>\n      <td>102.1</td>\n      <td>198400</td>\n      <td>207000</td>\n      <td>172200</td>\n      <td>251500</td>\n      <td>188800</td>\n      <td>166800</td>\n    </tr>\n    <tr>\n      <th>4</th>\n      <td>May 2005</td>\n      <td>103.6</td>\n      <td>103.9</td>\n      <td>104.7</td>\n      <td>102.8</td>\n      <td>104.9</td>\n      <td>102.4</td>\n      <td>199100</td>\n      <td>208000</td>\n      <td>173200</td>\n      <td>252300</td>\n      <td>187400</td>\n      <td>167300</td>\n    </tr>\n  </tbody>\n</table>\n</div>"
     },
     "execution_count": 84,
     "metadata": {},
     "output_type": "execute_result"
    }
   ],
   "source": [
    "montreal_hpi.head()"
   ]
  },
  {
   "cell_type": "markdown",
   "metadata": {},
   "source": [
    "### 2.4. `sociodemo_modified.csv`"
   ]
  },
  {
   "cell_type": "code",
   "execution_count": 85,
   "metadata": {},
   "outputs": [],
   "source": [
    "sociodemo = pd.read_csv('data/sociodemo_modified.csv')"
   ]
  },
  {
   "cell_type": "code",
   "execution_count": 86,
   "metadata": {},
   "outputs": [
    {
     "data": {
      "text/plain": "                                     Municipality  Population  Variation  \\\n0                           Ahuntsic-Cartierville      126891          2   \n1                                           Anjou       41928          3   \n2                                     Baie-d'Urfé        3850         -1   \n3                                    Beaconsfield       19505          2   \n4  Côte-des-Neiges/Notre-Dame-de-Grâce (Montréal)      165031          0   \n\n   Density  avgAge  below15  below24  below44  below64  below65  ...  \\\n0     5256      41       16       11       29       26       18  ...   \n1     3064      43       16       10       24       28       22  ...   \n2      639      43       18       14       16       32       20  ...   \n3     1772      40       19       15       18       32       16  ...   \n4     7699      38       16       14       33       23       14  ...   \n\n   University  College  Secondary  Apprentice  No  NonImmigrant  Immigrant  \\\n0          36       16         20          10  18            60         40   \n1          24       15         23          15  23            71         29   \n2          57       13         18           3   9            70         30   \n3          51       18         18           5   8            76         24   \n4          48       15         20           6  11            47         53   \n\n   french  English  Others  \n0      64       10      26  \n1      76        8      16  \n2      19       72       9  \n3      21       73       6  \n4      32       39      29  \n\n[5 rows x 55 columns]",
      "text/html": "<div>\n<style scoped>\n    .dataframe tbody tr th:only-of-type {\n        vertical-align: middle;\n    }\n\n    .dataframe tbody tr th {\n        vertical-align: top;\n    }\n\n    .dataframe thead th {\n        text-align: right;\n    }\n</style>\n<table border=\"1\" class=\"dataframe\">\n  <thead>\n    <tr style=\"text-align: right;\">\n      <th></th>\n      <th>Municipality</th>\n      <th>Population</th>\n      <th>Variation</th>\n      <th>Density</th>\n      <th>avgAge</th>\n      <th>below15</th>\n      <th>below24</th>\n      <th>below44</th>\n      <th>below64</th>\n      <th>below65</th>\n      <th>...</th>\n      <th>University</th>\n      <th>College</th>\n      <th>Secondary</th>\n      <th>Apprentice</th>\n      <th>No</th>\n      <th>NonImmigrant</th>\n      <th>Immigrant</th>\n      <th>french</th>\n      <th>English</th>\n      <th>Others</th>\n    </tr>\n  </thead>\n  <tbody>\n    <tr>\n      <th>0</th>\n      <td>Ahuntsic-Cartierville</td>\n      <td>126891</td>\n      <td>2</td>\n      <td>5256</td>\n      <td>41</td>\n      <td>16</td>\n      <td>11</td>\n      <td>29</td>\n      <td>26</td>\n      <td>18</td>\n      <td>...</td>\n      <td>36</td>\n      <td>16</td>\n      <td>20</td>\n      <td>10</td>\n      <td>18</td>\n      <td>60</td>\n      <td>40</td>\n      <td>64</td>\n      <td>10</td>\n      <td>26</td>\n    </tr>\n    <tr>\n      <th>1</th>\n      <td>Anjou</td>\n      <td>41928</td>\n      <td>3</td>\n      <td>3064</td>\n      <td>43</td>\n      <td>16</td>\n      <td>10</td>\n      <td>24</td>\n      <td>28</td>\n      <td>22</td>\n      <td>...</td>\n      <td>24</td>\n      <td>15</td>\n      <td>23</td>\n      <td>15</td>\n      <td>23</td>\n      <td>71</td>\n      <td>29</td>\n      <td>76</td>\n      <td>8</td>\n      <td>16</td>\n    </tr>\n    <tr>\n      <th>2</th>\n      <td>Baie-d'Urfé</td>\n      <td>3850</td>\n      <td>-1</td>\n      <td>639</td>\n      <td>43</td>\n      <td>18</td>\n      <td>14</td>\n      <td>16</td>\n      <td>32</td>\n      <td>20</td>\n      <td>...</td>\n      <td>57</td>\n      <td>13</td>\n      <td>18</td>\n      <td>3</td>\n      <td>9</td>\n      <td>70</td>\n      <td>30</td>\n      <td>19</td>\n      <td>72</td>\n      <td>9</td>\n    </tr>\n    <tr>\n      <th>3</th>\n      <td>Beaconsfield</td>\n      <td>19505</td>\n      <td>2</td>\n      <td>1772</td>\n      <td>40</td>\n      <td>19</td>\n      <td>15</td>\n      <td>18</td>\n      <td>32</td>\n      <td>16</td>\n      <td>...</td>\n      <td>51</td>\n      <td>18</td>\n      <td>18</td>\n      <td>5</td>\n      <td>8</td>\n      <td>76</td>\n      <td>24</td>\n      <td>21</td>\n      <td>73</td>\n      <td>6</td>\n    </tr>\n    <tr>\n      <th>4</th>\n      <td>Côte-des-Neiges/Notre-Dame-de-Grâce (Montréal)</td>\n      <td>165031</td>\n      <td>0</td>\n      <td>7699</td>\n      <td>38</td>\n      <td>16</td>\n      <td>14</td>\n      <td>33</td>\n      <td>23</td>\n      <td>14</td>\n      <td>...</td>\n      <td>48</td>\n      <td>15</td>\n      <td>20</td>\n      <td>6</td>\n      <td>11</td>\n      <td>47</td>\n      <td>53</td>\n      <td>32</td>\n      <td>39</td>\n      <td>29</td>\n    </tr>\n  </tbody>\n</table>\n<p>5 rows × 55 columns</p>\n</div>"
     },
     "execution_count": 86,
     "metadata": {},
     "output_type": "execute_result"
    }
   ],
   "source": [
    "sociodemo.head()"
   ]
  },
  {
   "cell_type": "markdown",
   "metadata": {},
   "source": [
    "Reducing number of columns:"
   ]
  },
  {
   "cell_type": "code",
   "execution_count": 41,
   "metadata": {},
   "outputs": [],
   "source": [
    "# to niżej skopiowałem z edy z tym ze zmieniłem troche zeby zostawic kolumne Municipality bo będzie potrzebna przy merge'owaniu"
   ]
  },
  {
   "cell_type": "code",
   "execution_count": 87,
   "metadata": {},
   "outputs": [],
   "source": [
    "# Get correlation matrix \n",
    "corr = sociodemo.corr()\n",
    "\n",
    "# Create a mask for values above 90% \n",
    "# But also below 100% since it variables correlated with the same one\n",
    "mask = (sociodemo.corr() > 0.9) & (sociodemo.corr() < 1.0)\n",
    "high_corr = corr[mask]\n",
    "\n",
    "# Create a new column mask using any() and ~\n",
    "col_to_filter_out = ~high_corr[mask].any()\n",
    "\n",
    "# Leave Municipality column\n",
    "cols_to_leave = list(high_corr.columns[col_to_filter_out])\n",
    "cols_to_leave.insert(0, 'Municipality')\n",
    "\n",
    "# Apply new mask\n",
    "sociodemo = sociodemo[cols_to_leave]"
   ]
  },
  {
   "cell_type": "markdown",
   "metadata": {},
   "source": [
    "Removing \"(Montréal)\" from the end of `Municipality` values:"
   ]
  },
  {
   "cell_type": "code",
   "execution_count": 88,
   "metadata": {},
   "outputs": [],
   "source": [
    "sociodemo['Municipality'] = sociodemo['Municipality'].apply(\n",
    "    lambda city: city[:-11] \n",
    "                 if city.endswith('(Montréal)') \n",
    "                 else city\n",
    ")"
   ]
  },
  {
   "cell_type": "code",
   "execution_count": 89,
   "metadata": {},
   "outputs": [
    {
     "data": {
      "text/plain": "array(['Ahuntsic-Cartierville', 'Anjou', \"Baie-d'Urfé\", 'Beaconsfield',\n       'Côte-Saint-Luc', 'Côte-des-Neiges/Notre-Dame-de-Grâce',\n       'Dollard-Des Ormeaux', 'Dorval', 'Hampstead', 'Kirkland',\n       \"L'Île-Bizard/Sainte-Geneviève\", 'LaSalle', 'Lachine',\n       'Le Plateau-Mont-Royal', 'Le Sud-Ouest',\n       'Mercier/Hochelaga-Maisonneuve', 'Mont-Royal', 'Montréal-Est',\n       'Montréal-Nord', 'Montréal-Ouest', 'Outremont',\n       'Pierrefonds-Roxboro', 'Pointe-Claire',\n       'Rivière-des-Prairies/Pointe-aux-Trembles',\n       'Rosemont/La Petite-Patrie', 'Saint-Laurent', 'Saint-Léonard',\n       'Sainte-Anne-de-Bellevue', 'Senneville', 'Verdun/Île-des-Soeurs',\n       'Ville-Marie', 'Villeray/Saint-Michel/Parc-Extension', 'Westmount'],\n      dtype=object)"
     },
     "execution_count": 89,
     "metadata": {},
     "output_type": "execute_result"
    }
   ],
   "source": [
    "np.sort(sociodemo['Municipality'].unique())"
   ]
  },
  {
   "cell_type": "code",
   "execution_count": 90,
   "metadata": {},
   "outputs": [
    {
     "data": {
      "text/plain": "array(['Ahuntsic-Cartierville', 'Anjou', \"Baie-d'Urfé\", 'Beaconsfield',\n       'Côte-Saint-Luc', 'Côte-des-Neiges/Notre-Dame-de-Grâce',\n       'Dollard-Des Ormeaux', 'Dorval', 'Hampstead', 'Kirkland',\n       \"L'Île-Bizard/Sainte-Geneviève\", 'LaSalle', 'Lachine',\n       'Le Plateau-Mont-Royal', 'Le Sud-Ouest',\n       'Mercier/Hochelaga-Maisonneuve', 'Mont-Royal', 'Montréal-Est',\n       'Montréal-Nord', 'Montréal-Ouest', 'Outremont',\n       'Pierrefonds-Roxboro', 'Pointe-Claire',\n       'Rivière-des-Prairies/Pointe-aux-Trembles',\n       'Rosemont/La Petite-Patrie', 'Saint-Laurent', 'Saint-Léonard',\n       'Sainte-Anne-de-Bellevue', 'Senneville', 'Verdun/Île-des-Soeurs',\n       'Ville-Marie', 'Villeray/Saint-Michel/Parc-Extension', 'Westmount'],\n      dtype=object)"
     },
     "execution_count": 90,
     "metadata": {},
     "output_type": "execute_result"
    }
   ],
   "source": [
    "np.sort(final_df['City'].unique())"
   ]
  },
  {
   "cell_type": "markdown",
   "metadata": {},
   "source": [
    "Merging both data frames:"
   ]
  },
  {
   "cell_type": "code",
   "execution_count": 91,
   "metadata": {},
   "outputs": [],
   "source": [
    "final_df = pd.merge(final_df, sociodemo, left_on='City', right_on='Municipality')"
   ]
  },
  {
   "cell_type": "markdown",
   "source": [
    "'MlsNumber' is no longer impotant so we drop it."
   ],
   "metadata": {
    "collapsed": false,
    "pycharm": {
     "name": "#%% md\n"
    }
   }
  },
  {
   "cell_type": "code",
   "execution_count": 132,
   "outputs": [],
   "source": [
    "final_df.drop(columns=['MlsNumber', 'Municipality'], inplace=True)"
   ],
   "metadata": {
    "collapsed": false,
    "pycharm": {
     "name": "#%%\n"
    }
   }
  },
  {
   "cell_type": "code",
   "execution_count": 133,
   "outputs": [
    {
     "data": {
      "text/plain": "      CategoryCode        Lat        Lng                   City  \\\n0              COP  45.556508 -73.633198  Ahuntsic-Cartierville   \n1              PPR  45.542062 -73.696868  Ahuntsic-Cartierville   \n2              PCI  45.573887 -73.649079  Ahuntsic-Cartierville   \n3              PPR  45.571040 -73.643413  Ahuntsic-Cartierville   \n4              COP  45.533876 -73.672649  Ahuntsic-Cartierville   \n...            ...        ...        ...                    ...   \n14647          COP  45.481498 -73.591471              Westmount   \n14648          UNI  45.479493 -73.600415              Westmount   \n14649          COP  45.488253 -73.587413              Westmount   \n14650          UNI  45.487523 -73.608672              Westmount   \n14651          UNI  45.487576 -73.595324              Westmount   \n\n               District    BuyPrice  Construction  IsOpenHouse GenreCode  \\\n0      Ahuntsic Central   187500.00          1988         True        AP   \n1      Nouveau Bordeaux   574900.00          1955        False        2X   \n2         Ahuntsic East   475000.00          1959        False         C   \n3         Ahuntsic East   545000.00          1956        False        3X   \n4      Nouveau Bordeaux   200000.00          2011        False        AP   \n...                 ...         ...           ...          ...       ...   \n14647               NaN   661013.26          1986        False        AP   \n14648               NaN  1295000.00          1909         True        ME   \n14649               NaN  1450000.00          1989        False        AP   \n14650               NaN  2268000.00          1914        False        ME   \n14651               NaN  1950000.00          1939        False        ME   \n\n                      Utilisation  ...  belowBach  College  Secondary  \\\n0                  No information  ...          6       16         20   \n1                Residential only  ...          6       16         20   \n2      Commercial and residential  ...          6       16         20   \n3                Residential only  ...          6       16         20   \n4                  No information  ...          6       16         20   \n...                           ...  ...        ...      ...        ...   \n14647              No information  ...          7       10         15   \n14648              No information  ...          7       10         15   \n14649              No information  ...          7       10         15   \n14650              No information  ...          7       10         15   \n14651              No information  ...          7       10         15   \n\n       Apprentice  No  NonImmigrant  Immigrant  french  English  Others  \n0              10  18            60         40      64       10      26  \n1              10  18            60         40      64       10      26  \n2              10  18            60         40      64       10      26  \n3              10  18            60         40      64       10      26  \n4              10  18            60         40      64       10      26  \n...           ...  ..           ...        ...     ...      ...     ...  \n14647           3   6            67         33      19       72       9  \n14648           3   6            67         33      19       72       9  \n14649           3   6            67         33      19       72       9  \n14650           3   6            67         33      19       72       9  \n14651           3   6            67         33      19       72       9  \n\n[14652 rows x 342 columns]",
      "text/html": "<div>\n<style scoped>\n    .dataframe tbody tr th:only-of-type {\n        vertical-align: middle;\n    }\n\n    .dataframe tbody tr th {\n        vertical-align: top;\n    }\n\n    .dataframe thead th {\n        text-align: right;\n    }\n</style>\n<table border=\"1\" class=\"dataframe\">\n  <thead>\n    <tr style=\"text-align: right;\">\n      <th></th>\n      <th>CategoryCode</th>\n      <th>Lat</th>\n      <th>Lng</th>\n      <th>City</th>\n      <th>District</th>\n      <th>BuyPrice</th>\n      <th>Construction</th>\n      <th>IsOpenHouse</th>\n      <th>GenreCode</th>\n      <th>Utilisation</th>\n      <th>...</th>\n      <th>belowBach</th>\n      <th>College</th>\n      <th>Secondary</th>\n      <th>Apprentice</th>\n      <th>No</th>\n      <th>NonImmigrant</th>\n      <th>Immigrant</th>\n      <th>french</th>\n      <th>English</th>\n      <th>Others</th>\n    </tr>\n  </thead>\n  <tbody>\n    <tr>\n      <th>0</th>\n      <td>COP</td>\n      <td>45.556508</td>\n      <td>-73.633198</td>\n      <td>Ahuntsic-Cartierville</td>\n      <td>Ahuntsic Central</td>\n      <td>187500.00</td>\n      <td>1988</td>\n      <td>True</td>\n      <td>AP</td>\n      <td>No information</td>\n      <td>...</td>\n      <td>6</td>\n      <td>16</td>\n      <td>20</td>\n      <td>10</td>\n      <td>18</td>\n      <td>60</td>\n      <td>40</td>\n      <td>64</td>\n      <td>10</td>\n      <td>26</td>\n    </tr>\n    <tr>\n      <th>1</th>\n      <td>PPR</td>\n      <td>45.542062</td>\n      <td>-73.696868</td>\n      <td>Ahuntsic-Cartierville</td>\n      <td>Nouveau Bordeaux</td>\n      <td>574900.00</td>\n      <td>1955</td>\n      <td>False</td>\n      <td>2X</td>\n      <td>Residential only</td>\n      <td>...</td>\n      <td>6</td>\n      <td>16</td>\n      <td>20</td>\n      <td>10</td>\n      <td>18</td>\n      <td>60</td>\n      <td>40</td>\n      <td>64</td>\n      <td>10</td>\n      <td>26</td>\n    </tr>\n    <tr>\n      <th>2</th>\n      <td>PCI</td>\n      <td>45.573887</td>\n      <td>-73.649079</td>\n      <td>Ahuntsic-Cartierville</td>\n      <td>Ahuntsic East</td>\n      <td>475000.00</td>\n      <td>1959</td>\n      <td>False</td>\n      <td>C</td>\n      <td>Commercial and residential</td>\n      <td>...</td>\n      <td>6</td>\n      <td>16</td>\n      <td>20</td>\n      <td>10</td>\n      <td>18</td>\n      <td>60</td>\n      <td>40</td>\n      <td>64</td>\n      <td>10</td>\n      <td>26</td>\n    </tr>\n    <tr>\n      <th>3</th>\n      <td>PPR</td>\n      <td>45.571040</td>\n      <td>-73.643413</td>\n      <td>Ahuntsic-Cartierville</td>\n      <td>Ahuntsic East</td>\n      <td>545000.00</td>\n      <td>1956</td>\n      <td>False</td>\n      <td>3X</td>\n      <td>Residential only</td>\n      <td>...</td>\n      <td>6</td>\n      <td>16</td>\n      <td>20</td>\n      <td>10</td>\n      <td>18</td>\n      <td>60</td>\n      <td>40</td>\n      <td>64</td>\n      <td>10</td>\n      <td>26</td>\n    </tr>\n    <tr>\n      <th>4</th>\n      <td>COP</td>\n      <td>45.533876</td>\n      <td>-73.672649</td>\n      <td>Ahuntsic-Cartierville</td>\n      <td>Nouveau Bordeaux</td>\n      <td>200000.00</td>\n      <td>2011</td>\n      <td>False</td>\n      <td>AP</td>\n      <td>No information</td>\n      <td>...</td>\n      <td>6</td>\n      <td>16</td>\n      <td>20</td>\n      <td>10</td>\n      <td>18</td>\n      <td>60</td>\n      <td>40</td>\n      <td>64</td>\n      <td>10</td>\n      <td>26</td>\n    </tr>\n    <tr>\n      <th>...</th>\n      <td>...</td>\n      <td>...</td>\n      <td>...</td>\n      <td>...</td>\n      <td>...</td>\n      <td>...</td>\n      <td>...</td>\n      <td>...</td>\n      <td>...</td>\n      <td>...</td>\n      <td>...</td>\n      <td>...</td>\n      <td>...</td>\n      <td>...</td>\n      <td>...</td>\n      <td>...</td>\n      <td>...</td>\n      <td>...</td>\n      <td>...</td>\n      <td>...</td>\n      <td>...</td>\n    </tr>\n    <tr>\n      <th>14647</th>\n      <td>COP</td>\n      <td>45.481498</td>\n      <td>-73.591471</td>\n      <td>Westmount</td>\n      <td>NaN</td>\n      <td>661013.26</td>\n      <td>1986</td>\n      <td>False</td>\n      <td>AP</td>\n      <td>No information</td>\n      <td>...</td>\n      <td>7</td>\n      <td>10</td>\n      <td>15</td>\n      <td>3</td>\n      <td>6</td>\n      <td>67</td>\n      <td>33</td>\n      <td>19</td>\n      <td>72</td>\n      <td>9</td>\n    </tr>\n    <tr>\n      <th>14648</th>\n      <td>UNI</td>\n      <td>45.479493</td>\n      <td>-73.600415</td>\n      <td>Westmount</td>\n      <td>NaN</td>\n      <td>1295000.00</td>\n      <td>1909</td>\n      <td>True</td>\n      <td>ME</td>\n      <td>No information</td>\n      <td>...</td>\n      <td>7</td>\n      <td>10</td>\n      <td>15</td>\n      <td>3</td>\n      <td>6</td>\n      <td>67</td>\n      <td>33</td>\n      <td>19</td>\n      <td>72</td>\n      <td>9</td>\n    </tr>\n    <tr>\n      <th>14649</th>\n      <td>COP</td>\n      <td>45.488253</td>\n      <td>-73.587413</td>\n      <td>Westmount</td>\n      <td>NaN</td>\n      <td>1450000.00</td>\n      <td>1989</td>\n      <td>False</td>\n      <td>AP</td>\n      <td>No information</td>\n      <td>...</td>\n      <td>7</td>\n      <td>10</td>\n      <td>15</td>\n      <td>3</td>\n      <td>6</td>\n      <td>67</td>\n      <td>33</td>\n      <td>19</td>\n      <td>72</td>\n      <td>9</td>\n    </tr>\n    <tr>\n      <th>14650</th>\n      <td>UNI</td>\n      <td>45.487523</td>\n      <td>-73.608672</td>\n      <td>Westmount</td>\n      <td>NaN</td>\n      <td>2268000.00</td>\n      <td>1914</td>\n      <td>False</td>\n      <td>ME</td>\n      <td>No information</td>\n      <td>...</td>\n      <td>7</td>\n      <td>10</td>\n      <td>15</td>\n      <td>3</td>\n      <td>6</td>\n      <td>67</td>\n      <td>33</td>\n      <td>19</td>\n      <td>72</td>\n      <td>9</td>\n    </tr>\n    <tr>\n      <th>14651</th>\n      <td>UNI</td>\n      <td>45.487576</td>\n      <td>-73.595324</td>\n      <td>Westmount</td>\n      <td>NaN</td>\n      <td>1950000.00</td>\n      <td>1939</td>\n      <td>False</td>\n      <td>ME</td>\n      <td>No information</td>\n      <td>...</td>\n      <td>7</td>\n      <td>10</td>\n      <td>15</td>\n      <td>3</td>\n      <td>6</td>\n      <td>67</td>\n      <td>33</td>\n      <td>19</td>\n      <td>72</td>\n      <td>9</td>\n    </tr>\n  </tbody>\n</table>\n<p>14652 rows × 342 columns</p>\n</div>"
     },
     "execution_count": 133,
     "metadata": {},
     "output_type": "execute_result"
    }
   ],
   "source": [
    "final_df"
   ],
   "metadata": {
    "collapsed": false,
    "pycharm": {
     "name": "#%%\n"
    }
   }
  },
  {
   "cell_type": "markdown",
   "source": [
    "## 3. Encoding categorical colums"
   ],
   "metadata": {
    "collapsed": false,
    "pycharm": {
     "name": "#%% md\n"
    }
   }
  },
  {
   "cell_type": "code",
   "execution_count": 134,
   "outputs": [
    {
     "data": {
      "text/plain": "       CategoryCode_1  CategoryCode_2  CategoryCode_3  CategoryCode_4  \\\n0                   1               0               0               0   \n1                   0               1               0               0   \n2                   0               0               1               0   \n3                   0               1               0               0   \n4                   1               0               0               0   \n...               ...             ...             ...             ...   \n14647               1               0               0               0   \n14648               0               0               0               1   \n14649               1               0               0               0   \n14650               0               0               0               1   \n14651               0               0               0               1   \n\n       CategoryCode_5  CategoryCode_6        Lat        Lng  City_1  City_2  \\\n0                   0               0  45.556508 -73.633198       1       0   \n1                   0               0  45.542062 -73.696868       1       0   \n2                   0               0  45.573887 -73.649079       1       0   \n3                   0               0  45.571040 -73.643413       1       0   \n4                   0               0  45.533876 -73.672649       1       0   \n...               ...             ...        ...        ...     ...     ...   \n14647               0               0  45.481498 -73.591471       0       0   \n14648               0               0  45.479493 -73.600415       0       0   \n14649               0               0  45.488253 -73.587413       0       0   \n14650               0               0  45.487523 -73.608672       0       0   \n14651               0               0  45.487576 -73.595324       0       0   \n\n       ...  belowBach  College  Secondary  Apprentice  No  NonImmigrant  \\\n0      ...          6       16         20          10  18            60   \n1      ...          6       16         20          10  18            60   \n2      ...          6       16         20          10  18            60   \n3      ...          6       16         20          10  18            60   \n4      ...          6       16         20          10  18            60   \n...    ...        ...      ...        ...         ...  ..           ...   \n14647  ...          7       10         15           3   6            67   \n14648  ...          7       10         15           3   6            67   \n14649  ...          7       10         15           3   6            67   \n14650  ...          7       10         15           3   6            67   \n14651  ...          7       10         15           3   6            67   \n\n       Immigrant  french  English  Others  \n0             40      64       10      26  \n1             40      64       10      26  \n2             40      64       10      26  \n3             40      64       10      26  \n4             40      64       10      26  \n...          ...     ...      ...     ...  \n14647         33      19       72       9  \n14648         33      19       72       9  \n14649         33      19       72       9  \n14650         33      19       72       9  \n14651         33      19       72       9  \n\n[14652 rows x 465 columns]",
      "text/html": "<div>\n<style scoped>\n    .dataframe tbody tr th:only-of-type {\n        vertical-align: middle;\n    }\n\n    .dataframe tbody tr th {\n        vertical-align: top;\n    }\n\n    .dataframe thead th {\n        text-align: right;\n    }\n</style>\n<table border=\"1\" class=\"dataframe\">\n  <thead>\n    <tr style=\"text-align: right;\">\n      <th></th>\n      <th>CategoryCode_1</th>\n      <th>CategoryCode_2</th>\n      <th>CategoryCode_3</th>\n      <th>CategoryCode_4</th>\n      <th>CategoryCode_5</th>\n      <th>CategoryCode_6</th>\n      <th>Lat</th>\n      <th>Lng</th>\n      <th>City_1</th>\n      <th>City_2</th>\n      <th>...</th>\n      <th>belowBach</th>\n      <th>College</th>\n      <th>Secondary</th>\n      <th>Apprentice</th>\n      <th>No</th>\n      <th>NonImmigrant</th>\n      <th>Immigrant</th>\n      <th>french</th>\n      <th>English</th>\n      <th>Others</th>\n    </tr>\n  </thead>\n  <tbody>\n    <tr>\n      <th>0</th>\n      <td>1</td>\n      <td>0</td>\n      <td>0</td>\n      <td>0</td>\n      <td>0</td>\n      <td>0</td>\n      <td>45.556508</td>\n      <td>-73.633198</td>\n      <td>1</td>\n      <td>0</td>\n      <td>...</td>\n      <td>6</td>\n      <td>16</td>\n      <td>20</td>\n      <td>10</td>\n      <td>18</td>\n      <td>60</td>\n      <td>40</td>\n      <td>64</td>\n      <td>10</td>\n      <td>26</td>\n    </tr>\n    <tr>\n      <th>1</th>\n      <td>0</td>\n      <td>1</td>\n      <td>0</td>\n      <td>0</td>\n      <td>0</td>\n      <td>0</td>\n      <td>45.542062</td>\n      <td>-73.696868</td>\n      <td>1</td>\n      <td>0</td>\n      <td>...</td>\n      <td>6</td>\n      <td>16</td>\n      <td>20</td>\n      <td>10</td>\n      <td>18</td>\n      <td>60</td>\n      <td>40</td>\n      <td>64</td>\n      <td>10</td>\n      <td>26</td>\n    </tr>\n    <tr>\n      <th>2</th>\n      <td>0</td>\n      <td>0</td>\n      <td>1</td>\n      <td>0</td>\n      <td>0</td>\n      <td>0</td>\n      <td>45.573887</td>\n      <td>-73.649079</td>\n      <td>1</td>\n      <td>0</td>\n      <td>...</td>\n      <td>6</td>\n      <td>16</td>\n      <td>20</td>\n      <td>10</td>\n      <td>18</td>\n      <td>60</td>\n      <td>40</td>\n      <td>64</td>\n      <td>10</td>\n      <td>26</td>\n    </tr>\n    <tr>\n      <th>3</th>\n      <td>0</td>\n      <td>1</td>\n      <td>0</td>\n      <td>0</td>\n      <td>0</td>\n      <td>0</td>\n      <td>45.571040</td>\n      <td>-73.643413</td>\n      <td>1</td>\n      <td>0</td>\n      <td>...</td>\n      <td>6</td>\n      <td>16</td>\n      <td>20</td>\n      <td>10</td>\n      <td>18</td>\n      <td>60</td>\n      <td>40</td>\n      <td>64</td>\n      <td>10</td>\n      <td>26</td>\n    </tr>\n    <tr>\n      <th>4</th>\n      <td>1</td>\n      <td>0</td>\n      <td>0</td>\n      <td>0</td>\n      <td>0</td>\n      <td>0</td>\n      <td>45.533876</td>\n      <td>-73.672649</td>\n      <td>1</td>\n      <td>0</td>\n      <td>...</td>\n      <td>6</td>\n      <td>16</td>\n      <td>20</td>\n      <td>10</td>\n      <td>18</td>\n      <td>60</td>\n      <td>40</td>\n      <td>64</td>\n      <td>10</td>\n      <td>26</td>\n    </tr>\n    <tr>\n      <th>...</th>\n      <td>...</td>\n      <td>...</td>\n      <td>...</td>\n      <td>...</td>\n      <td>...</td>\n      <td>...</td>\n      <td>...</td>\n      <td>...</td>\n      <td>...</td>\n      <td>...</td>\n      <td>...</td>\n      <td>...</td>\n      <td>...</td>\n      <td>...</td>\n      <td>...</td>\n      <td>...</td>\n      <td>...</td>\n      <td>...</td>\n      <td>...</td>\n      <td>...</td>\n      <td>...</td>\n    </tr>\n    <tr>\n      <th>14647</th>\n      <td>1</td>\n      <td>0</td>\n      <td>0</td>\n      <td>0</td>\n      <td>0</td>\n      <td>0</td>\n      <td>45.481498</td>\n      <td>-73.591471</td>\n      <td>0</td>\n      <td>0</td>\n      <td>...</td>\n      <td>7</td>\n      <td>10</td>\n      <td>15</td>\n      <td>3</td>\n      <td>6</td>\n      <td>67</td>\n      <td>33</td>\n      <td>19</td>\n      <td>72</td>\n      <td>9</td>\n    </tr>\n    <tr>\n      <th>14648</th>\n      <td>0</td>\n      <td>0</td>\n      <td>0</td>\n      <td>1</td>\n      <td>0</td>\n      <td>0</td>\n      <td>45.479493</td>\n      <td>-73.600415</td>\n      <td>0</td>\n      <td>0</td>\n      <td>...</td>\n      <td>7</td>\n      <td>10</td>\n      <td>15</td>\n      <td>3</td>\n      <td>6</td>\n      <td>67</td>\n      <td>33</td>\n      <td>19</td>\n      <td>72</td>\n      <td>9</td>\n    </tr>\n    <tr>\n      <th>14649</th>\n      <td>1</td>\n      <td>0</td>\n      <td>0</td>\n      <td>0</td>\n      <td>0</td>\n      <td>0</td>\n      <td>45.488253</td>\n      <td>-73.587413</td>\n      <td>0</td>\n      <td>0</td>\n      <td>...</td>\n      <td>7</td>\n      <td>10</td>\n      <td>15</td>\n      <td>3</td>\n      <td>6</td>\n      <td>67</td>\n      <td>33</td>\n      <td>19</td>\n      <td>72</td>\n      <td>9</td>\n    </tr>\n    <tr>\n      <th>14650</th>\n      <td>0</td>\n      <td>0</td>\n      <td>0</td>\n      <td>1</td>\n      <td>0</td>\n      <td>0</td>\n      <td>45.487523</td>\n      <td>-73.608672</td>\n      <td>0</td>\n      <td>0</td>\n      <td>...</td>\n      <td>7</td>\n      <td>10</td>\n      <td>15</td>\n      <td>3</td>\n      <td>6</td>\n      <td>67</td>\n      <td>33</td>\n      <td>19</td>\n      <td>72</td>\n      <td>9</td>\n    </tr>\n    <tr>\n      <th>14651</th>\n      <td>0</td>\n      <td>0</td>\n      <td>0</td>\n      <td>1</td>\n      <td>0</td>\n      <td>0</td>\n      <td>45.487576</td>\n      <td>-73.595324</td>\n      <td>0</td>\n      <td>0</td>\n      <td>...</td>\n      <td>7</td>\n      <td>10</td>\n      <td>15</td>\n      <td>3</td>\n      <td>6</td>\n      <td>67</td>\n      <td>33</td>\n      <td>19</td>\n      <td>72</td>\n      <td>9</td>\n    </tr>\n  </tbody>\n</table>\n<p>14652 rows × 465 columns</p>\n</div>"
     },
     "execution_count": 134,
     "metadata": {},
     "output_type": "execute_result"
    }
   ],
   "source": [
    "oh = ce.OneHotEncoder(cols=['CategoryCode', 'City', 'District', 'Utilisation', 'DescriptionLanguage', 'GenreCode'])\n",
    "final_df_encoded = oh.fit_transform(final_df)\n",
    "final_df_encoded"
   ],
   "metadata": {
    "collapsed": false,
    "pycharm": {
     "name": "#%%\n"
    }
   }
  },
  {
   "cell_type": "markdown",
   "source": [
    "## 4. Create two dataframes\n",
    "Because extra_data was not given for approximately 1/3 of records. We will save all records without extra data and records that had matching extra data.\n",
    "We will also drop column living area column because of lacks in data."
   ],
   "metadata": {
    "collapsed": false,
    "pycharm": {
     "name": "#%% md\n"
    }
   }
  },
  {
   "cell_type": "code",
   "execution_count": 142,
   "outputs": [],
   "source": [
    "#final_df_encoded.drop(columns=['LivingArea'], inplace=True)\n",
    "final_df_no_extra_data = pd.merge(final_df_encoded.iloc[:, 0:147], final_df_encoded.iloc[:,426:], left_index=True, right_index=True)\n",
    "final_df_with_extra_data = final_df_encoded.loc[~final_df_encoded['var_0'].isna(), :]"
   ],
   "metadata": {
    "collapsed": false,
    "pycharm": {
     "name": "#%%\n"
    }
   }
  },
  {
   "cell_type": "markdown",
   "source": [
    "## 5. PCA\n",
    "We will use PCA to show that in the future we can use PCA to reduce dimensionality"
   ],
   "metadata": {
    "collapsed": false,
    "pycharm": {
     "name": "#%% md\n"
    }
   }
  },
  {
   "cell_type": "code",
   "execution_count": 148,
   "outputs": [
    {
     "name": "stdout",
     "output_type": "stream",
     "text": [
      "[9.97888201e-01 2.09082834e-03 2.09239950e-05 3.62093312e-08\n",
      " 3.37283428e-09 2.68259887e-09 1.34737234e-09 9.98494282e-10\n",
      " 7.90637246e-10 4.54157139e-10 2.40041423e-10 1.31926449e-10\n",
      " 1.09460331e-10 4.87665639e-11 2.93226414e-11 2.68471790e-11\n",
      " 2.21064674e-11 1.59251050e-11 1.10668124e-11 9.01912186e-12]\n"
     ]
    }
   ],
   "source": [
    "pca = PCA(n_components=20)\n",
    "pca.fit(final_df_no_extra_data, y='BuyPrice')\n",
    "print(pca.explained_variance_ratio_)"
   ],
   "metadata": {
    "collapsed": false,
    "pycharm": {
     "name": "#%%\n"
    }
   }
  },
  {
   "cell_type": "code",
   "execution_count": 146,
   "outputs": [
    {
     "name": "stdout",
     "output_type": "stream",
     "text": [
      "[9.97345079e-01 2.61402436e-03 4.08091463e-05 6.83464132e-08\n",
      " 6.28051654e-09 4.83637316e-09 2.44963217e-09 1.97893334e-09\n",
      " 1.47383450e-09 8.31428238e-10 4.92657956e-10 2.59614925e-10\n",
      " 1.80462700e-10 9.76418808e-11 5.67415203e-11 4.94570614e-11\n",
      " 4.08221711e-11 3.04142250e-11 2.02077185e-11 1.44994594e-11]\n"
     ]
    }
   ],
   "source": [
    "pca = PCA(n_components=20)\n",
    "pca.fit(final_df_with_extra_data, y='BuyPrice')\n",
    "print(pca.explained_variance_ratio_)"
   ],
   "metadata": {
    "collapsed": false,
    "pycharm": {
     "name": "#%%\n"
    }
   }
  },
  {
   "cell_type": "markdown",
   "metadata": {},
   "source": [
    "## 6. Exporting final data frame"
   ]
  },
  {
   "cell_type": "code",
   "execution_count": 149,
   "metadata": {
    "pycharm": {
     "name": "#%%\n"
    }
   },
   "outputs": [],
   "source": [
    "final_df_no_extra_data.to_csv('data\\\\final_df_no_extra_data.csv', encoding='utf-8')\n",
    "final_df_with_extra_data.to_csv('data\\\\final_df_with_extra_data.csv', encoding='utf-8')"
   ]
  }
 ],
 "metadata": {
  "interpreter": {
   "hash": "916dbcbb3f70747c44a77c7bcd40155683ae19c65e1c03b4aa3499c5328201f1"
  },
  "kernelspec": {
   "display_name": "Python 3.8.10 64-bit",
   "language": "python",
   "name": "python3"
  },
  "language_info": {
   "codemirror_mode": {
    "name": "ipython",
    "version": 3
   },
   "file_extension": ".py",
   "mimetype": "text/x-python",
   "name": "python",
   "nbconvert_exporter": "python",
   "pygments_lexer": "ipython3",
   "version": "3.8.10"
  },
  "orig_nbformat": 4
 },
 "nbformat": 4,
 "nbformat_minor": 2
}