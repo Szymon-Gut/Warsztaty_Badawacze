{
 "cells": [
  {
   "cell_type": "markdown",
   "metadata": {},
   "source": [
    "# Merging data"
   ]
  },
  {
   "cell_type": "markdown",
   "metadata": {},
   "source": [
    "Data that is going to be used in model creation is currently spread across datasets:\n",
    "- `listings_modified.csv` - main dataset, contains data about listings from cetris.ca;\n",
    "- `extra_data_modified.csv` - extra data about listings from above dataset;\n",
    "- `policeCoord.csv` & `firestations.csv` - locations of police stations and fire stations in Montréal\n",
    "- `montreal_hpi.csv`\n",
    "- `sociodemo_modified.csv` - Montréal sociodemographical data"
   ]
  },
  {
   "cell_type": "code",
   "execution_count": 1,
   "metadata": {},
   "outputs": [],
   "source": [
    "import pandas as pd\n",
    "import numpy as np\n",
    "import matplotlib.pyplot as plt\n",
    "import seaborn as sns"
   ]
  },
  {
   "cell_type": "markdown",
   "metadata": {},
   "source": [
    "## 1. Preparing listings data"
   ]
  },
  {
   "cell_type": "code",
   "execution_count": 2,
   "metadata": {},
   "outputs": [],
   "source": [
    "listings = pd.read_csv('data/listings_modified.csv')"
   ]
  },
  {
   "cell_type": "markdown",
   "metadata": {},
   "source": [
    "### 1.1. Dropping redundant columns\n",
    "\n",
    "(see EDA: `eda_merged.ipynb`)"
   ]
  },
  {
   "cell_type": "code",
   "execution_count": 3,
   "metadata": {},
   "outputs": [],
   "source": [
    "redundant_cols = [\n",
    "    '__type', 'ShortCity',\n",
    "    \n",
    "    'RevenuEffectif', 'ShortDescription', 'Langue', 'SuperficieTerrain',\n",
    "    'NbEquipements', 'NbAnimals', 'NbCultures', 'LocationPrice', 'LocationPriceDesc',\n",
    "    \n",
    "    'CatgCode', 'PhotoText', 'DiffusionWebUrl', 'PhotoUrl', 'PhotoPrintingUrl', \n",
    "    'FinancialToolUrl', 'PasserelleUrl', 'CommunityUrl', 'GoogleStreetViewUrl', \n",
    "    'WalkScoreUrl', 'ShareThisUrl', 'SummaryUrl', 'PrintingPageUrl', \n",
    "    'GoogleMapAddressLink', \n",
    "    \n",
    "    'IsFavorite', 'IsRemoved', 'IsSubject', 'IsStrictQueryMatch', 'IsFavoriteDisplayed',\n",
    "    'IsRemovedDisplayed', 'IsEmptyView', 'IsMissingView', 'IsInFavorite',\n",
    "\n",
    "    'IsNew', 'IsNewPrice'\n",
    "]\n",
    "listings.drop(redundant_cols,\n",
    "              axis=1,\n",
    "              inplace=True)"
   ]
  },
  {
   "cell_type": "markdown",
   "metadata": {},
   "source": [
    "### 1.2. Converting `VisiteVirtuelleUrl` & `OpenHouse` to boolean columns"
   ]
  },
  {
   "cell_type": "code",
   "execution_count": 4,
   "metadata": {},
   "outputs": [],
   "source": [
    "listings['OpenHouse'] = ~listings['OpenHouse'].isna()"
   ]
  },
  {
   "cell_type": "code",
   "execution_count": 5,
   "metadata": {},
   "outputs": [],
   "source": [
    "listings['VisiteVirtuelleUrl'] = ~listings['VisiteVirtuelleUrl'].isna()\n",
    "listings.rename({'VisiteVirtuelleUrl': 'VirtualTour'}, axis=1, inplace=True)"
   ]
  },
  {
   "cell_type": "markdown",
   "metadata": {},
   "source": [
    "### 1.3. `Utilisation`"
   ]
  },
  {
   "cell_type": "markdown",
   "metadata": {},
   "source": [
    "Connect \"Commercial and residential\"  and \"Residential and commercial\" into one"
   ]
  },
  {
   "cell_type": "code",
   "execution_count": 6,
   "metadata": {},
   "outputs": [
    {
     "data": {
      "text/plain": [
       "Residential only                     2299\n",
       "Commercial only                       392\n",
       "Residential and commercial            255\n",
       "Commercial and office space           139\n",
       "Commercial and residential            124\n",
       "Commercial and industrial              22\n",
       "Industrial and offices                 19\n",
       "Industrial only                        15\n",
       "Other                                  14\n",
       "Offices only                           14\n",
       "Multi-family dwelling                   5\n",
       "Retirement home                         4\n",
       "Commercial or industrial (income)       4\n",
       "Name: Utilisation, dtype: int64"
      ]
     },
     "execution_count": 6,
     "metadata": {},
     "output_type": "execute_result"
    }
   ],
   "source": [
    "listings['Utilisation'].value_counts()"
   ]
  },
  {
   "cell_type": "code",
   "execution_count": 7,
   "metadata": {},
   "outputs": [],
   "source": [
    "listings.loc[\n",
    "    listings['Utilisation'] == 'Residential and commercial', \n",
    "    'Utilisation'\n",
    "] = 'Commercial and residential'"
   ]
  },
  {
   "cell_type": "markdown",
   "metadata": {},
   "source": [
    "### 1.4. `BuyPriceDesc`"
   ]
  },
  {
   "cell_type": "code",
   "execution_count": 8,
   "metadata": {},
   "outputs": [
    {
     "data": {
      "text/plain": [
       " /square foot    20\n",
       "Name: BuyPriceDesc, dtype: int64"
      ]
     },
     "execution_count": 8,
     "metadata": {},
     "output_type": "execute_result"
    }
   ],
   "source": [
    "listings['BuyPriceDesc'].value_counts()"
   ]
  },
  {
   "cell_type": "code",
   "execution_count": 9,
   "metadata": {},
   "outputs": [
    {
     "data": {
      "text/plain": [
       "count    1.464700e+04\n",
       "mean     5.204339e+05\n",
       "std      5.965235e+05\n",
       "min      9.480320e+03\n",
       "25%      2.590000e+05\n",
       "50%      3.790000e+05\n",
       "75%      5.599000e+05\n",
       "max      1.388000e+07\n",
       "Name: BuyPrice, dtype: float64"
      ]
     },
     "execution_count": 9,
     "metadata": {},
     "output_type": "execute_result"
    }
   ],
   "source": [
    "listings.loc[listings['BuyPriceDesc'].isna(), 'BuyPrice'].describe()"
   ]
  },
  {
   "cell_type": "code",
   "execution_count": 10,
   "metadata": {},
   "outputs": [
    {
     "data": {
      "text/plain": [
       "count    2.000000e+01\n",
       "mean     8.246817e+04\n",
       "std      2.718385e+05\n",
       "min      3.130000e+00\n",
       "25%      6.725000e+01\n",
       "50%      1.556900e+02\n",
       "75%      1.580800e+02\n",
       "max      1.126332e+06\n",
       "Name: BuyPrice, dtype: float64"
      ]
     },
     "execution_count": 10,
     "metadata": {},
     "output_type": "execute_result"
    }
   ],
   "source": [
    "listings.loc[listings['BuyPriceDesc'] == ' /square foot', 'BuyPrice'].describe()"
   ]
  },
  {
   "cell_type": "code",
   "execution_count": 11,
   "metadata": {},
   "outputs": [],
   "source": [
    "# wydaje mi sie ze te co mają tu NA to są pełne ceny, a te co nie mają to są ceny za ft2\n",
    "# problem w tym ze chyba nie mamy metrażu do nich wiec nie bardzo będzie jak to przeliczyć\n",
    "# (ramke z metrażem tam niżej dołączyłem)"
   ]
  },
  {
   "cell_type": "markdown",
   "metadata": {},
   "source": [
    "### 1.5. Renaming columns with french names to english"
   ]
  },
  {
   "cell_type": "code",
   "execution_count": 12,
   "metadata": {},
   "outputs": [],
   "source": [
    "listings.rename({\n",
    "    'RevenuBrutPotentiel': 'GrossPotentialIncome',\n",
    "    'NbPieces': 'NumberOfRooms',\n",
    "    'NbChambres': 'NumberOfBedrooms',\n",
    "    'NbSallesEaux': 'NumberOfBathroomsWithShower',\n",
    "    'NbSallesBains': 'NumberOfBathroomsWithBathtub',\n",
    "    'NbFoyerPoele': 'NumberOfFireplaces',\n",
    "    'NbGarages': 'NumberOfGarages',\n",
    "    'NbStationnements': 'NumberOfParkingLots',\n",
    "    'NbPiscines': 'NumberOfPools',\n",
    "    'NbBordEaux': 'NbBordEaux',\n",
    "}, axis=1, inplace=True)"
   ]
  },
  {
   "cell_type": "code",
   "execution_count": 13,
   "metadata": {},
   "outputs": [
    {
     "name": "stdout",
     "output_type": "stream",
     "text": [
      "<class 'pandas.core.frame.DataFrame'>\n",
      "RangeIndex: 14667 entries, 0 to 14666\n",
      "Data columns (total 29 columns):\n",
      " #   Column                        Non-Null Count  Dtype  \n",
      "---  ------                        --------------  -----  \n",
      " 0   MlsNumber                     14667 non-null  int64  \n",
      " 1   CategoryCode                  14667 non-null  object \n",
      " 2   Lat                           14667 non-null  float64\n",
      " 3   Lng                           14667 non-null  float64\n",
      " 4   Address                       14667 non-null  object \n",
      " 5   City                          14667 non-null  object \n",
      " 6   Quartier                      11488 non-null  object \n",
      " 7   PostalCode                    14667 non-null  object \n",
      " 8   LongDescription               12922 non-null  object \n",
      " 9   BuyPrice                      14667 non-null  float64\n",
      " 10  BuyPriceDesc                  20 non-null     object \n",
      " 11  Category                      14667 non-null  object \n",
      " 12  Construction                  14667 non-null  int64  \n",
      " 13  OpenHouse                     14667 non-null  bool   \n",
      " 14  GenreCode                     14667 non-null  object \n",
      " 15  Utilisation                   3306 non-null   object \n",
      " 16  GrossPotentialIncome          14667 non-null  int64  \n",
      " 17  WalkScore                     14667 non-null  int64  \n",
      " 18  NumberOfRooms                 14667 non-null  int64  \n",
      " 19  NumberOfBedrooms              14667 non-null  int64  \n",
      " 20  NumberOfBathroomsWithShower   14667 non-null  int64  \n",
      " 21  NumberOfBathroomsWithBathtub  14667 non-null  int64  \n",
      " 22  NumberOfFireplaces            14667 non-null  int64  \n",
      " 23  NumberOfGarages               14667 non-null  int64  \n",
      " 24  NumberOfParkingLots           14667 non-null  int64  \n",
      " 25  NumberOfPools                 14667 non-null  int64  \n",
      " 26  NbBordEaux                    14667 non-null  int64  \n",
      " 27  VirtualTour                   14667 non-null  bool   \n",
      " 28  PageTitle                     14667 non-null  object \n",
      "dtypes: bool(2), float64(3), int64(13), object(11)\n",
      "memory usage: 3.0+ MB\n"
     ]
    }
   ],
   "source": [
    "listings.info()"
   ]
  },
  {
   "cell_type": "markdown",
   "metadata": {},
   "source": [
    "### 1.6. Columns with location data"
   ]
  },
  {
   "cell_type": "markdown",
   "metadata": {},
   "source": [
    "#### `Address`"
   ]
  },
  {
   "cell_type": "code",
   "execution_count": 14,
   "metadata": {},
   "outputs": [
    {
     "data": {
      "text/plain": [
       "Boul. Gouin O.                       13\n",
       "Rue Lakeview                          3\n",
       "50e Avenue (R.-d.-P.)                 3\n",
       "59e Avenue                            3\n",
       "Boul. Beaconsfield                    3\n",
       "                                     ..\n",
       "1321, Rue Sherbrooke O., apt. B51     1\n",
       "1625, Place Glengarry                 1\n",
       "61, Rue Montigny                      1\n",
       "9699 - 9701, Rue Jeannette            1\n",
       "1118A, Av. Laurier E.                 1\n",
       "Name: Address, Length: 14623, dtype: int64"
      ]
     },
     "execution_count": 14,
     "metadata": {},
     "output_type": "execute_result"
    }
   ],
   "source": [
    "listings['Address'].value_counts()"
   ]
  },
  {
   "cell_type": "markdown",
   "metadata": {},
   "source": [
    "`Address` column is quite specific and probably not that useful since there are `Lat` and `Lng` columns (?)"
   ]
  },
  {
   "cell_type": "markdown",
   "metadata": {},
   "source": [
    "#### `City`"
   ]
  },
  {
   "cell_type": "code",
   "execution_count": 15,
   "metadata": {},
   "outputs": [
    {
     "name": "stdout",
     "output_type": "stream",
     "text": [
      "33\n"
     ]
    },
    {
     "data": {
      "text/plain": [
       "Ville-Marie (Montréal)                                 2087\n",
       "Mercier/Hochelaga-Maisonneuve (Montréal)               1124\n",
       "Rivière-des-Prairies/Pointe-aux-Trembles (Montréal)     920\n",
       "Le Plateau-Mont-Royal (Montréal)                        871\n",
       "Le Sud-Ouest (Montréal)                                 816\n",
       "Côte-des-Neiges/Notre-Dame-de-Grâce (Montréal)          736\n",
       "Rosemont/La Petite-Patrie (Montréal)                    730\n",
       "Villeray/Saint-Michel/Parc-Extension (Montréal)         729\n",
       "Saint-Laurent (Montréal)                                704\n",
       "Ahuntsic-Cartierville (Montréal)                        696\n",
       "Verdun/Île-des-Soeurs (Montréal)                        677\n",
       "Pierrefonds-Roxboro (Montréal)                          511\n",
       "LaSalle (Montréal)                                      470\n",
       "Montréal-Nord (Montréal)                                433\n",
       "Lachine (Montréal)                                      361\n",
       "Dollard-Des Ormeaux                                     333\n",
       "Côte-Saint-Luc                                          278\n",
       "Anjou (Montréal)                                        256\n",
       "Saint-Léonard (Montréal)                                248\n",
       "Westmount                                               236\n",
       "L'Île-Bizard/Sainte-Geneviève (Montréal)                212\n",
       "Mont-Royal                                              212\n",
       "Pointe-Claire                                           177\n",
       "Outremont (Montréal)                                    158\n",
       "Beaconsfield                                            156\n",
       "Dorval                                                  129\n",
       "Kirkland                                                124\n",
       "Hampstead                                                64\n",
       "Baie-d'Urfé                                              64\n",
       "Montréal-Est                                             57\n",
       "Sainte-Anne-de-Bellevue                                  35\n",
       "Montréal-Ouest                                           35\n",
       "Senneville                                               28\n",
       "Name: City, dtype: int64"
      ]
     },
     "execution_count": 15,
     "metadata": {},
     "output_type": "execute_result"
    }
   ],
   "source": [
    "print(len(listings['City'].unique()))\n",
    "listings['City'].value_counts()"
   ]
  },
  {
   "cell_type": "markdown",
   "metadata": {},
   "source": [
    "This column will be useful later to merge this data frame with sociodemographical data."
   ]
  },
  {
   "cell_type": "markdown",
   "metadata": {},
   "source": [
    "Removing \"(Montréal)\" from the end of some records' values (also will be useful later):"
   ]
  },
  {
   "cell_type": "code",
   "execution_count": 16,
   "metadata": {},
   "outputs": [],
   "source": [
    "listings['City'] = listings['City'].apply(\n",
    "    lambda city: city[:-11] \n",
    "                 if city.endswith('(Montréal)') \n",
    "                 else city\n",
    ")"
   ]
  },
  {
   "cell_type": "markdown",
   "metadata": {},
   "source": [
    "#### `Quartier`"
   ]
  },
  {
   "cell_type": "code",
   "execution_count": 17,
   "metadata": {},
   "outputs": [
    {
     "name": "stdout",
     "output_type": "stream",
     "text": [
      "52\n"
     ]
    },
    {
     "data": {
      "text/plain": [
       "Central                           1244\n",
       "Central West                       831\n",
       "Le Plateau-Mont-Royal              735\n",
       "Mercier                            591\n",
       "Rivière-des-Prairies               504\n",
       "Hochelaga-Maisonneuve              499\n",
       "Île-des-Soeurs                     442\n",
       "Rosemont                           431\n",
       "Saint-Henri/Petite Bourgogne       428\n",
       "Pointe-aux-Trembles                416\n",
       "Côte-des-Neiges                    400\n",
       "Villeray                           342\n",
       "East                               336\n",
       "Notre-Dame-de-Grâce                336\n",
       "Saint-Michel                       302\n",
       "La Petite-Patrie                   299\n",
       "Old Montréal                       251\n",
       "Verdun                             235\n",
       "Saint-Paul/Émard                   228\n",
       "Nouveau Bordeaux                   192\n",
       "Pierrefonds/Central East           176\n",
       "L'Île-Bizard                       163\n",
       "Pointe-Saint-Charles               160\n",
       "West                               146\n",
       "Ahuntsic West                      143\n",
       "Mile-End                           136\n",
       "Ahuntsic Central                   131\n",
       "Pierrefonds/Central West           121\n",
       "South East                         119\n",
       "Pierrefonds/West                   103\n",
       "South West                         101\n",
       "Cartierville                        96\n",
       "Central East                        86\n",
       "Parc-Extension                      85\n",
       "Ahuntsic East                       79\n",
       "Pierrefonds/East                    70\n",
       "Bois de Saraguay                    55\n",
       "North                               55\n",
       "Sherwood (North West)               51\n",
       "Sainte-Geneviève                    49\n",
       "Saint-Pierre                        49\n",
       "Roxboro                             41\n",
       "North West                          37\n",
       "Central South                       35\n",
       "New Rosemont                        34\n",
       "Beaurepaire (South West)            29\n",
       "North East                          26\n",
       "Timberlea                           22\n",
       "South                               19\n",
       "Beacon Hill (North East)            15\n",
       "Forest Gardens (Central North)      14\n",
       "Name: Quartier, dtype: int64"
      ]
     },
     "execution_count": 17,
     "metadata": {},
     "output_type": "execute_result"
    }
   ],
   "source": [
    "print(len(listings['Quartier'].unique()))\n",
    "listings['Quartier'].value_counts()"
   ]
  },
  {
   "cell_type": "markdown",
   "metadata": {},
   "source": [
    "#### `PostalCode`"
   ]
  },
  {
   "cell_type": "code",
   "execution_count": 18,
   "metadata": {},
   "outputs": [
    {
     "name": "stdout",
     "output_type": "stream",
     "text": [
      "7996\n"
     ]
    },
    {
     "data": {
      "text/plain": [
       "H3B 3C3    61\n",
       "H3C 1W4    57\n",
       "H3G 2M5    52\n",
       "H3G 2H5    45\n",
       "H1V 2L1    45\n",
       "           ..\n",
       "H1W 1M3     1\n",
       "H4K 2E6     1\n",
       "H3Z 1M7     1\n",
       "H2A 2K4     1\n",
       "H2P 2J3     1\n",
       "Name: PostalCode, Length: 7996, dtype: int64"
      ]
     },
     "execution_count": 18,
     "metadata": {},
     "output_type": "execute_result"
    }
   ],
   "source": [
    "print(len(listings['PostalCode'].unique()))\n",
    "listings['PostalCode'].value_counts()"
   ]
  },
  {
   "cell_type": "code",
   "execution_count": 19,
   "metadata": {},
   "outputs": [],
   "source": [
    "# nie wiem, wywalamy te dwie ostatnie kolumny i Address jak i tak mamy lat i lng czy jakoś je kodujemy czy coś?"
   ]
  },
  {
   "cell_type": "markdown",
   "metadata": {},
   "source": [
    "### 1.7. Other columns"
   ]
  },
  {
   "cell_type": "code",
   "execution_count": 20,
   "metadata": {},
   "outputs": [
    {
     "data": {
      "text/plain": [
       "0    PRIX POUR VENTE RAPIDE. Superbe condo ensoleil...\n",
       "1    Duplex à vendre à Ahuntsic près de la rivière,...\n",
       "2    rare sur le marché! ideal pour dentiste ou med...\n",
       "3    Excellent opportunity for builder/ contractor....\n",
       "4    Beautiful condo built in 2011 still under guar...\n",
       "5    One bedroom condo in a sought out area of Ahun...\n",
       "6    Grand duplex avec garage dans un secteur très ...\n",
       "7    Hard to imagine a more inspiring space than th...\n",
       "8    You want to become a Florist  !!! So this busi...\n",
       "9    Great Deal !!! . 4plex for sale in the heart o...\n",
       "Name: LongDescription, dtype: object"
      ]
     },
     "execution_count": 20,
     "metadata": {},
     "output_type": "execute_result"
    }
   ],
   "source": [
    "listings['LongDescription'].head(n=10)"
   ]
  },
  {
   "cell_type": "code",
   "execution_count": 21,
   "metadata": {},
   "outputs": [
    {
     "data": {
      "text/plain": [
       "Condo/Loft, Apartment, Detached                       3338\n",
       "Condo/Loft, Apartment, Attached                       2255\n",
       "Condo/Loft, Apartment, Semi-detached                  1385\n",
       "Single Family, Two or more storey, Detached           1344\n",
       "Single Family, Bungalow, Detached                      647\n",
       "                                                      ... \n",
       "Revenue Property, Detached, Shopping Center              1\n",
       "Commercial, Florist                                      1\n",
       "Revenue Property, Attached, 8-Plex                       1\n",
       "Revenue Property, Detached, 42 units                     1\n",
       "Revenue Property, Detached, 28 units, 2 businesses       1\n",
       "Name: Category, Length: 408, dtype: int64"
      ]
     },
     "execution_count": 21,
     "metadata": {},
     "output_type": "execute_result"
    }
   ],
   "source": [
    "listings['Category'].value_counts()"
   ]
  },
  {
   "cell_type": "code",
   "execution_count": 22,
   "metadata": {},
   "outputs": [
    {
     "data": {
      "text/plain": [
       "COP    7698\n",
       "UNI    3522\n",
       "PPR    2587\n",
       "PCI     719\n",
       "TER     140\n",
       "FER       1\n",
       "Name: CategoryCode, dtype: int64"
      ]
     },
     "execution_count": 22,
     "metadata": {},
     "output_type": "execute_result"
    }
   ],
   "source": [
    "listings['CategoryCode'].value_counts()"
   ]
  },
  {
   "cell_type": "code",
   "execution_count": 23,
   "metadata": {},
   "outputs": [
    {
     "data": {
      "text/plain": [
       "331"
      ]
     },
     "execution_count": 23,
     "metadata": {},
     "output_type": "execute_result"
    }
   ],
   "source": [
    "all_categories = set()\n",
    "listings['Category'].apply(lambda s: all_categories.update(s.split(', ')))\n",
    "len(all_categories)"
   ]
  },
  {
   "cell_type": "code",
   "execution_count": 24,
   "metadata": {},
   "outputs": [
    {
     "data": {
      "text/plain": [
       "Condos for sale in Mercier/Hochelaga-Maisonneuve (Montréal), Montréal (Island) – 2540, Av. Bilaudeau, 17659544 | Centris                                  1\n",
       "Condos for sale in Montréal-Nord (Montréal), Montréal (Island) – 3681, Boul. Henri-Bourassa E., apt. 302, 15086430 | Centris                              1\n",
       "Condos for sale in Ville-Marie (Montréal), Montréal (Island) – 2020, Rue Falardeau, apt. 101, 28792616 | Centris                                          1\n",
       "Houses for sale in Lachine (Montréal), Montréal (Island) – 325, Tsse Louis-Basile-Pigeon, 28901276 | Centris                                              1\n",
       "Commercial building for sale in Verdun/Île-des-Soeurs (Montréal), Montréal (Island) – 3135, Rue Wellington, 28572456 | Centris                            1\n",
       "                                                                                                                                                         ..\n",
       "Condos for sale in Ville-Marie (Montréal), Montréal (Island) – 651, Rue de la Montagne, apt. 102, 12948616 | Centris                                      1\n",
       "Condos for sale in Rivière-des-Prairies/Pointe-aux-Trembles (Montréal), Montréal (Island) – 1145, Boul. du Tricentenaire, apt. 302, 23255862 | Centris    1\n",
       "Condos for sale in Le Sud-Ouest (Montréal), Montréal (Island) – 5500, Rue Hadley, 22497859 | Centris                                                      1\n",
       "Condos for sale in Ville-Marie (Montréal), Montréal (Island) – 415, Rue St-Gabriel, apt. 403, 21245079 | Centris                                          1\n",
       "Condos for sale in Rosemont/La Petite-Patrie (Montréal), Montréal (Island) – 6860, 25e Avenue, apt. 2, 9495101 | Centris                                  1\n",
       "Name: PageTitle, Length: 14667, dtype: int64"
      ]
     },
     "execution_count": 24,
     "metadata": {},
     "output_type": "execute_result"
    }
   ],
   "source": [
    "listings['PageTitle'].value_counts()"
   ]
  },
  {
   "cell_type": "code",
   "execution_count": 25,
   "metadata": {},
   "outputs": [],
   "source": [
    "# nie wiem co z tymi zrobic, intuicja mi mowi zeby to wywalic ale nwm\n",
    "# mozna niby Category jakos zakodwac\n",
    "# ale z drugiej strony mamy CategoryCode wiec nie wiem czy to jest konieczne"
   ]
  },
  {
   "cell_type": "markdown",
   "metadata": {},
   "source": [
    "## 2. Merging data frames"
   ]
  },
  {
   "cell_type": "markdown",
   "metadata": {},
   "source": [
    "### 2.1. `extra_data_modified.csv`"
   ]
  },
  {
   "cell_type": "code",
   "execution_count": 26,
   "metadata": {},
   "outputs": [],
   "source": [
    "extra_data = pd.read_csv('data/extra_data_modified.csv')"
   ]
  },
  {
   "cell_type": "code",
   "execution_count": 27,
   "metadata": {},
   "outputs": [
    {
     "data": {
      "text/plain": [
       "Index(['MlsNumber', 'LivingArea', ',Bibliotheque',\n",
       "       '.picerie distance de marche', '3min from Verdun metro', 'AIRPORT',\n",
       "       'ANGRIGNON Metro', 'AR�NA+PISCINES PUBLIC INTERIEUR',\n",
       "       'AVH German school ', 'Access to highway 20',\n",
       "       ...\n",
       "       '�cole de Musique', '�cole des Adultes.', '�cole primaire',\n",
       "       '�cole secondaire', '�coles primaires', '�picerie',\n",
       "       '�picerie Loblaws Angus', '�picerie M�tro', '�piceries',\n",
       "       '�piceries fines services'],\n",
       "      dtype='object', length=591)"
      ]
     },
     "execution_count": 27,
     "metadata": {},
     "output_type": "execute_result"
    }
   ],
   "source": [
    "extra_data.columns"
   ]
  },
  {
   "cell_type": "code",
   "execution_count": 28,
   "metadata": {},
   "outputs": [],
   "source": [
    "final_df = pd.merge(listings, extra_data, on='MlsNumber', how='left')"
   ]
  },
  {
   "cell_type": "code",
   "execution_count": 29,
   "metadata": {},
   "outputs": [
    {
     "data": {
      "text/plain": [
       "505     NaN\n",
       "519     NaN\n",
       "714     NaN\n",
       "2717    NaN\n",
       "5583    NaN\n",
       "6398    NaN\n",
       "6534    NaN\n",
       "6739    NaN\n",
       "9158    NaN\n",
       "10237   NaN\n",
       "10251   NaN\n",
       "10279   NaN\n",
       "10365   NaN\n",
       "10368   NaN\n",
       "10381   NaN\n",
       "10402   NaN\n",
       "10596   NaN\n",
       "10617   NaN\n",
       "10634   NaN\n",
       "14065   NaN\n",
       "Name: LivingArea, dtype: float64"
      ]
     },
     "execution_count": 29,
     "metadata": {},
     "output_type": "execute_result"
    }
   ],
   "source": [
    "final_df.loc[final_df['BuyPriceDesc'] == ' /square foot', 'LivingArea']"
   ]
  },
  {
   "cell_type": "code",
   "execution_count": 30,
   "metadata": {},
   "outputs": [],
   "source": [
    "# wszystkie te co mają podaną cene w /ft2 nie mają podanej powierzchni :/"
   ]
  },
  {
   "cell_type": "markdown",
   "metadata": {},
   "source": [
    "### 2.2. `policeCoord.csv` & `firestations.csv`"
   ]
  },
  {
   "cell_type": "code",
   "execution_count": 31,
   "metadata": {},
   "outputs": [],
   "source": [
    "police_coord = pd.read_csv('data/policeCoord.csv').rename({'long': 'lng'}, axis=1)\n",
    "firestations_coord = pd.read_csv('data/firestations.csv')"
   ]
  },
  {
   "cell_type": "code",
   "execution_count": 32,
   "metadata": {},
   "outputs": [
    {
     "data": {
      "text/html": [
       "<div>\n",
       "<style scoped>\n",
       "    .dataframe tbody tr th:only-of-type {\n",
       "        vertical-align: middle;\n",
       "    }\n",
       "\n",
       "    .dataframe tbody tr th {\n",
       "        vertical-align: top;\n",
       "    }\n",
       "\n",
       "    .dataframe thead th {\n",
       "        text-align: right;\n",
       "    }\n",
       "</style>\n",
       "<table border=\"1\" class=\"dataframe\">\n",
       "  <thead>\n",
       "    <tr style=\"text-align: right;\">\n",
       "      <th></th>\n",
       "      <th>lng</th>\n",
       "      <th>lat</th>\n",
       "    </tr>\n",
       "  </thead>\n",
       "  <tbody>\n",
       "    <tr>\n",
       "      <th>0</th>\n",
       "      <td>-73.542094</td>\n",
       "      <td>45.583362</td>\n",
       "    </tr>\n",
       "    <tr>\n",
       "      <th>1</th>\n",
       "      <td>-73.617431</td>\n",
       "      <td>45.577735</td>\n",
       "    </tr>\n",
       "    <tr>\n",
       "      <th>2</th>\n",
       "      <td>-73.545913</td>\n",
       "      <td>45.556857</td>\n",
       "    </tr>\n",
       "    <tr>\n",
       "      <th>3</th>\n",
       "      <td>-73.701026</td>\n",
       "      <td>45.528533</td>\n",
       "    </tr>\n",
       "    <tr>\n",
       "      <th>4</th>\n",
       "      <td>-73.593463</td>\n",
       "      <td>45.585063</td>\n",
       "    </tr>\n",
       "  </tbody>\n",
       "</table>\n",
       "</div>"
      ],
      "text/plain": [
       "         lng        lat\n",
       "0 -73.542094  45.583362\n",
       "1 -73.617431  45.577735\n",
       "2 -73.545913  45.556857\n",
       "3 -73.701026  45.528533\n",
       "4 -73.593463  45.585063"
      ]
     },
     "execution_count": 32,
     "metadata": {},
     "output_type": "execute_result"
    }
   ],
   "source": [
    "police_coord.head()"
   ]
  },
  {
   "cell_type": "code",
   "execution_count": 33,
   "metadata": {},
   "outputs": [
    {
     "data": {
      "text/html": [
       "<div>\n",
       "<style scoped>\n",
       "    .dataframe tbody tr th:only-of-type {\n",
       "        vertical-align: middle;\n",
       "    }\n",
       "\n",
       "    .dataframe tbody tr th {\n",
       "        vertical-align: top;\n",
       "    }\n",
       "\n",
       "    .dataframe thead th {\n",
       "        text-align: right;\n",
       "    }\n",
       "</style>\n",
       "<table border=\"1\" class=\"dataframe\">\n",
       "  <thead>\n",
       "    <tr style=\"text-align: right;\">\n",
       "      <th></th>\n",
       "      <th>address</th>\n",
       "      <th>lat</th>\n",
       "      <th>lng</th>\n",
       "    </tr>\n",
       "  </thead>\n",
       "  <tbody>\n",
       "    <tr>\n",
       "      <th>0</th>\n",
       "      <td>550 Blvd. St. Pierre</td>\n",
       "      <td>45.502644</td>\n",
       "      <td>-73.559248</td>\n",
       "    </tr>\n",
       "    <tr>\n",
       "      <th>1</th>\n",
       "      <td>230 Blvd.Chèvremont</td>\n",
       "      <td>45.493473</td>\n",
       "      <td>-73.876561</td>\n",
       "    </tr>\n",
       "    <tr>\n",
       "      <th>2</th>\n",
       "      <td>13795 Blvd. Pierrefonds</td>\n",
       "      <td>45.493300</td>\n",
       "      <td>-73.849787</td>\n",
       "    </tr>\n",
       "    <tr>\n",
       "      <th>3</th>\n",
       "      <td>13 rue Centre Commercial</td>\n",
       "      <td>45.509543</td>\n",
       "      <td>-73.806234</td>\n",
       "    </tr>\n",
       "    <tr>\n",
       "      <th>4</th>\n",
       "      <td>10 Sunnydale</td>\n",
       "      <td>45.493874</td>\n",
       "      <td>-73.806822</td>\n",
       "    </tr>\n",
       "  </tbody>\n",
       "</table>\n",
       "</div>"
      ],
      "text/plain": [
       "                    address        lat        lng\n",
       "0      550 Blvd. St. Pierre  45.502644 -73.559248\n",
       "1       230 Blvd.Chèvremont  45.493473 -73.876561\n",
       "2   13795 Blvd. Pierrefonds  45.493300 -73.849787\n",
       "3  13 rue Centre Commercial  45.509543 -73.806234\n",
       "4              10 Sunnydale  45.493874 -73.806822"
      ]
     },
     "execution_count": 33,
     "metadata": {},
     "output_type": "execute_result"
    }
   ],
   "source": [
    "firestations_coord.head()"
   ]
  },
  {
   "cell_type": "markdown",
   "metadata": {},
   "source": [
    "Adding distances to the closest fire station and police station to the merged data frame:"
   ]
  },
  {
   "cell_type": "code",
   "execution_count": 34,
   "metadata": {},
   "outputs": [],
   "source": [
    "def get_distance_to_closest_building(lat: float, lng: float, \n",
    "                                     buildings: pd.DataFrame) -> float:\n",
    "    \"\"\"\n",
    "    Returns distance (in kilometres) from the building at latitude lat and\n",
    "    longitude lng to the closest building from data frame passed as \n",
    "    buildings parameter\n",
    "    \"\"\"\n",
    "    buildings['distance'] = buildings.apply(\n",
    "        lambda row: np.sqrt(\n",
    "            (row['lat'] - lat)**2 + \n",
    "            (row['lng'] - lng)**2), \n",
    "        axis=1)\n",
    "    return np.min(buildings['distance']) * 111  # *111 to convert degrees to km"
   ]
  },
  {
   "cell_type": "code",
   "execution_count": 35,
   "metadata": {},
   "outputs": [],
   "source": [
    "final_df['DistanceToFireStation'] = final_df.apply(\n",
    "    lambda row: get_distance_to_closest_building(\n",
    "        row['Lat'], row['Lng'], firestations_coord),\n",
    "    axis=1)\n",
    "final_df['DistanceToPoliceStation'] = final_df.apply(\n",
    "    lambda row: get_distance_to_closest_building(\n",
    "        row['Lat'], row['Lng'], police_coord),\n",
    "    axis=1)"
   ]
  },
  {
   "cell_type": "markdown",
   "metadata": {},
   "source": [
    "### 2.3. `montreal_hpi`"
   ]
  },
  {
   "cell_type": "code",
   "execution_count": 36,
   "metadata": {},
   "outputs": [],
   "source": [
    "montreal_hpi = pd.read_csv('data/montreal_hpi.csv')"
   ]
  },
  {
   "cell_type": "markdown",
   "metadata": {},
   "source": [
    "All columns in this data frame have extremely strong correlation with each other"
   ]
  },
  {
   "cell_type": "code",
   "execution_count": 37,
   "metadata": {},
   "outputs": [
    {
     "data": {
      "text/html": [
       "<div>\n",
       "<style scoped>\n",
       "    .dataframe tbody tr th:only-of-type {\n",
       "        vertical-align: middle;\n",
       "    }\n",
       "\n",
       "    .dataframe tbody tr th {\n",
       "        vertical-align: top;\n",
       "    }\n",
       "\n",
       "    .dataframe thead th {\n",
       "        text-align: right;\n",
       "    }\n",
       "</style>\n",
       "<table border=\"1\" class=\"dataframe\">\n",
       "  <thead>\n",
       "    <tr style=\"text-align: right;\">\n",
       "      <th></th>\n",
       "      <th>Date</th>\n",
       "      <th>Composite_HPI</th>\n",
       "      <th>Single_Family_HPI</th>\n",
       "      <th>One_Storey_HPI</th>\n",
       "      <th>Two_Storey_HPI</th>\n",
       "      <th>Townhouse_HPI</th>\n",
       "      <th>Apartment_HPI</th>\n",
       "      <th>Composite_Benchmark</th>\n",
       "      <th>Single_Family_Benchmark</th>\n",
       "      <th>One_Storey_Benchmark</th>\n",
       "      <th>Two_Storey_Benchmark</th>\n",
       "      <th>Townhouse_Benchmark</th>\n",
       "      <th>Apartment_Benchmark</th>\n",
       "    </tr>\n",
       "  </thead>\n",
       "  <tbody>\n",
       "    <tr>\n",
       "      <th>0</th>\n",
       "      <td>Jan 2005</td>\n",
       "      <td>100.0</td>\n",
       "      <td>100.0</td>\n",
       "      <td>100.0</td>\n",
       "      <td>100.0</td>\n",
       "      <td>100.0</td>\n",
       "      <td>100.0</td>\n",
       "      <td>192200</td>\n",
       "      <td>200200</td>\n",
       "      <td>165400</td>\n",
       "      <td>245400</td>\n",
       "      <td>178600</td>\n",
       "      <td>163300</td>\n",
       "    </tr>\n",
       "    <tr>\n",
       "      <th>1</th>\n",
       "      <td>Feb 2005</td>\n",
       "      <td>101.3</td>\n",
       "      <td>101.3</td>\n",
       "      <td>101.6</td>\n",
       "      <td>100.9</td>\n",
       "      <td>104.8</td>\n",
       "      <td>100.9</td>\n",
       "      <td>194700</td>\n",
       "      <td>202800</td>\n",
       "      <td>168100</td>\n",
       "      <td>247600</td>\n",
       "      <td>187200</td>\n",
       "      <td>164800</td>\n",
       "    </tr>\n",
       "    <tr>\n",
       "      <th>2</th>\n",
       "      <td>Mar 2005</td>\n",
       "      <td>102.4</td>\n",
       "      <td>102.6</td>\n",
       "      <td>103.1</td>\n",
       "      <td>102.0</td>\n",
       "      <td>104.6</td>\n",
       "      <td>101.4</td>\n",
       "      <td>196800</td>\n",
       "      <td>205400</td>\n",
       "      <td>170600</td>\n",
       "      <td>250300</td>\n",
       "      <td>186800</td>\n",
       "      <td>165600</td>\n",
       "    </tr>\n",
       "    <tr>\n",
       "      <th>3</th>\n",
       "      <td>Apr 2005</td>\n",
       "      <td>103.2</td>\n",
       "      <td>103.4</td>\n",
       "      <td>104.1</td>\n",
       "      <td>102.5</td>\n",
       "      <td>105.7</td>\n",
       "      <td>102.1</td>\n",
       "      <td>198400</td>\n",
       "      <td>207000</td>\n",
       "      <td>172200</td>\n",
       "      <td>251500</td>\n",
       "      <td>188800</td>\n",
       "      <td>166800</td>\n",
       "    </tr>\n",
       "    <tr>\n",
       "      <th>4</th>\n",
       "      <td>May 2005</td>\n",
       "      <td>103.6</td>\n",
       "      <td>103.9</td>\n",
       "      <td>104.7</td>\n",
       "      <td>102.8</td>\n",
       "      <td>104.9</td>\n",
       "      <td>102.4</td>\n",
       "      <td>199100</td>\n",
       "      <td>208000</td>\n",
       "      <td>173200</td>\n",
       "      <td>252300</td>\n",
       "      <td>187400</td>\n",
       "      <td>167300</td>\n",
       "    </tr>\n",
       "  </tbody>\n",
       "</table>\n",
       "</div>"
      ],
      "text/plain": [
       "       Date  Composite_HPI  Single_Family_HPI  One_Storey_HPI  Two_Storey_HPI  \\\n",
       "0  Jan 2005          100.0              100.0           100.0           100.0   \n",
       "1  Feb 2005          101.3              101.3           101.6           100.9   \n",
       "2  Mar 2005          102.4              102.6           103.1           102.0   \n",
       "3  Apr 2005          103.2              103.4           104.1           102.5   \n",
       "4  May 2005          103.6              103.9           104.7           102.8   \n",
       "\n",
       "   Townhouse_HPI  Apartment_HPI  Composite_Benchmark  Single_Family_Benchmark  \\\n",
       "0          100.0          100.0               192200                   200200   \n",
       "1          104.8          100.9               194700                   202800   \n",
       "2          104.6          101.4               196800                   205400   \n",
       "3          105.7          102.1               198400                   207000   \n",
       "4          104.9          102.4               199100                   208000   \n",
       "\n",
       "   One_Storey_Benchmark  Two_Storey_Benchmark  Townhouse_Benchmark  \\\n",
       "0                165400                245400               178600   \n",
       "1                168100                247600               187200   \n",
       "2                170600                250300               186800   \n",
       "3                172200                251500               188800   \n",
       "4                173200                252300               187400   \n",
       "\n",
       "   Apartment_Benchmark  \n",
       "0               163300  \n",
       "1               164800  \n",
       "2               165600  \n",
       "3               166800  \n",
       "4               167300  "
      ]
     },
     "execution_count": 37,
     "metadata": {},
     "output_type": "execute_result"
    }
   ],
   "source": [
    "montreal_hpi.head()"
   ]
  },
  {
   "cell_type": "code",
   "execution_count": 38,
   "metadata": {},
   "outputs": [],
   "source": [
    "# nie bardzo wiem jak to połączyć z resztą"
   ]
  },
  {
   "cell_type": "markdown",
   "metadata": {},
   "source": [
    "### 2.4. `sociodemo_modified.csv`"
   ]
  },
  {
   "cell_type": "code",
   "execution_count": 39,
   "metadata": {},
   "outputs": [],
   "source": [
    "sociodemo = pd.read_csv('data/sociodemo_modified.csv')"
   ]
  },
  {
   "cell_type": "code",
   "execution_count": 40,
   "metadata": {},
   "outputs": [
    {
     "data": {
      "text/html": [
       "<div>\n",
       "<style scoped>\n",
       "    .dataframe tbody tr th:only-of-type {\n",
       "        vertical-align: middle;\n",
       "    }\n",
       "\n",
       "    .dataframe tbody tr th {\n",
       "        vertical-align: top;\n",
       "    }\n",
       "\n",
       "    .dataframe thead th {\n",
       "        text-align: right;\n",
       "    }\n",
       "</style>\n",
       "<table border=\"1\" class=\"dataframe\">\n",
       "  <thead>\n",
       "    <tr style=\"text-align: right;\">\n",
       "      <th></th>\n",
       "      <th>Municipality</th>\n",
       "      <th>Population</th>\n",
       "      <th>Variation</th>\n",
       "      <th>Density</th>\n",
       "      <th>avgAge</th>\n",
       "      <th>below15</th>\n",
       "      <th>below24</th>\n",
       "      <th>below44</th>\n",
       "      <th>below64</th>\n",
       "      <th>below65</th>\n",
       "      <th>...</th>\n",
       "      <th>University</th>\n",
       "      <th>College</th>\n",
       "      <th>Secondary</th>\n",
       "      <th>Apprentice</th>\n",
       "      <th>No</th>\n",
       "      <th>NonImmigrant</th>\n",
       "      <th>Immigrant</th>\n",
       "      <th>french</th>\n",
       "      <th>English</th>\n",
       "      <th>Others</th>\n",
       "    </tr>\n",
       "  </thead>\n",
       "  <tbody>\n",
       "    <tr>\n",
       "      <th>0</th>\n",
       "      <td>Ahuntsic-Cartierville</td>\n",
       "      <td>126891</td>\n",
       "      <td>2</td>\n",
       "      <td>5256</td>\n",
       "      <td>41</td>\n",
       "      <td>16</td>\n",
       "      <td>11</td>\n",
       "      <td>29</td>\n",
       "      <td>26</td>\n",
       "      <td>18</td>\n",
       "      <td>...</td>\n",
       "      <td>36</td>\n",
       "      <td>16</td>\n",
       "      <td>20</td>\n",
       "      <td>10</td>\n",
       "      <td>18</td>\n",
       "      <td>60</td>\n",
       "      <td>40</td>\n",
       "      <td>64</td>\n",
       "      <td>10</td>\n",
       "      <td>26</td>\n",
       "    </tr>\n",
       "    <tr>\n",
       "      <th>1</th>\n",
       "      <td>Anjou</td>\n",
       "      <td>41928</td>\n",
       "      <td>3</td>\n",
       "      <td>3064</td>\n",
       "      <td>43</td>\n",
       "      <td>16</td>\n",
       "      <td>10</td>\n",
       "      <td>24</td>\n",
       "      <td>28</td>\n",
       "      <td>22</td>\n",
       "      <td>...</td>\n",
       "      <td>24</td>\n",
       "      <td>15</td>\n",
       "      <td>23</td>\n",
       "      <td>15</td>\n",
       "      <td>23</td>\n",
       "      <td>71</td>\n",
       "      <td>29</td>\n",
       "      <td>76</td>\n",
       "      <td>8</td>\n",
       "      <td>16</td>\n",
       "    </tr>\n",
       "    <tr>\n",
       "      <th>2</th>\n",
       "      <td>Baie-d'Urfé</td>\n",
       "      <td>3850</td>\n",
       "      <td>-1</td>\n",
       "      <td>639</td>\n",
       "      <td>43</td>\n",
       "      <td>18</td>\n",
       "      <td>14</td>\n",
       "      <td>16</td>\n",
       "      <td>32</td>\n",
       "      <td>20</td>\n",
       "      <td>...</td>\n",
       "      <td>57</td>\n",
       "      <td>13</td>\n",
       "      <td>18</td>\n",
       "      <td>3</td>\n",
       "      <td>9</td>\n",
       "      <td>70</td>\n",
       "      <td>30</td>\n",
       "      <td>19</td>\n",
       "      <td>72</td>\n",
       "      <td>9</td>\n",
       "    </tr>\n",
       "    <tr>\n",
       "      <th>3</th>\n",
       "      <td>Beaconsfield</td>\n",
       "      <td>19505</td>\n",
       "      <td>2</td>\n",
       "      <td>1772</td>\n",
       "      <td>40</td>\n",
       "      <td>19</td>\n",
       "      <td>15</td>\n",
       "      <td>18</td>\n",
       "      <td>32</td>\n",
       "      <td>16</td>\n",
       "      <td>...</td>\n",
       "      <td>51</td>\n",
       "      <td>18</td>\n",
       "      <td>18</td>\n",
       "      <td>5</td>\n",
       "      <td>8</td>\n",
       "      <td>76</td>\n",
       "      <td>24</td>\n",
       "      <td>21</td>\n",
       "      <td>73</td>\n",
       "      <td>6</td>\n",
       "    </tr>\n",
       "    <tr>\n",
       "      <th>4</th>\n",
       "      <td>Côte-des-Neiges/Notre-Dame-de-Grâce (Montréal)</td>\n",
       "      <td>165031</td>\n",
       "      <td>0</td>\n",
       "      <td>7699</td>\n",
       "      <td>38</td>\n",
       "      <td>16</td>\n",
       "      <td>14</td>\n",
       "      <td>33</td>\n",
       "      <td>23</td>\n",
       "      <td>14</td>\n",
       "      <td>...</td>\n",
       "      <td>48</td>\n",
       "      <td>15</td>\n",
       "      <td>20</td>\n",
       "      <td>6</td>\n",
       "      <td>11</td>\n",
       "      <td>47</td>\n",
       "      <td>53</td>\n",
       "      <td>32</td>\n",
       "      <td>39</td>\n",
       "      <td>29</td>\n",
       "    </tr>\n",
       "  </tbody>\n",
       "</table>\n",
       "<p>5 rows × 55 columns</p>\n",
       "</div>"
      ],
      "text/plain": [
       "                                     Municipality  Population  Variation  \\\n",
       "0                           Ahuntsic-Cartierville      126891          2   \n",
       "1                                           Anjou       41928          3   \n",
       "2                                     Baie-d'Urfé        3850         -1   \n",
       "3                                    Beaconsfield       19505          2   \n",
       "4  Côte-des-Neiges/Notre-Dame-de-Grâce (Montréal)      165031          0   \n",
       "\n",
       "   Density  avgAge  below15  below24  below44  below64  below65  ...  \\\n",
       "0     5256      41       16       11       29       26       18  ...   \n",
       "1     3064      43       16       10       24       28       22  ...   \n",
       "2      639      43       18       14       16       32       20  ...   \n",
       "3     1772      40       19       15       18       32       16  ...   \n",
       "4     7699      38       16       14       33       23       14  ...   \n",
       "\n",
       "   University  College  Secondary  Apprentice  No  NonImmigrant  Immigrant  \\\n",
       "0          36       16         20          10  18            60         40   \n",
       "1          24       15         23          15  23            71         29   \n",
       "2          57       13         18           3   9            70         30   \n",
       "3          51       18         18           5   8            76         24   \n",
       "4          48       15         20           6  11            47         53   \n",
       "\n",
       "   french  English  Others  \n",
       "0      64       10      26  \n",
       "1      76        8      16  \n",
       "2      19       72       9  \n",
       "3      21       73       6  \n",
       "4      32       39      29  \n",
       "\n",
       "[5 rows x 55 columns]"
      ]
     },
     "execution_count": 40,
     "metadata": {},
     "output_type": "execute_result"
    }
   ],
   "source": [
    "sociodemo.head()"
   ]
  },
  {
   "cell_type": "markdown",
   "metadata": {},
   "source": [
    "Reducing number of columns:"
   ]
  },
  {
   "cell_type": "code",
   "execution_count": 41,
   "metadata": {},
   "outputs": [],
   "source": [
    "# to niżej skopiowałem z edy z tym ze zmieniłem troche zeby zostawic kolumne Municipality bo będzie potrzebna przy merge'owaniu"
   ]
  },
  {
   "cell_type": "code",
   "execution_count": 42,
   "metadata": {},
   "outputs": [],
   "source": [
    "# Get correlation matrix \n",
    "corr = sociodemo.corr()\n",
    "\n",
    "# Create a mask for values above 90% \n",
    "# But also below 100% since it variables correlated with the same one\n",
    "mask = (sociodemo.corr() > 0.9) & (sociodemo.corr() < 1.0)\n",
    "high_corr = corr[mask]\n",
    "\n",
    "# Create a new column mask using any() and ~\n",
    "col_to_filter_out = ~high_corr[mask].any()\n",
    "\n",
    "# Leave Municipality column\n",
    "cols_to_leave = list(high_corr.columns[col_to_filter_out])\n",
    "cols_to_leave.insert(0, 'Municipality')\n",
    "\n",
    "# Apply new mask\n",
    "sociodemo = sociodemo[cols_to_leave]"
   ]
  },
  {
   "cell_type": "markdown",
   "metadata": {},
   "source": [
    "Removing \"(Montréal)\" from the end of `Municipality` values:"
   ]
  },
  {
   "cell_type": "code",
   "execution_count": 43,
   "metadata": {},
   "outputs": [],
   "source": [
    "sociodemo['Municipality'] = sociodemo['Municipality'].apply(\n",
    "    lambda city: city[:-11] \n",
    "                 if city.endswith('(Montréal)') \n",
    "                 else city\n",
    ")"
   ]
  },
  {
   "cell_type": "code",
   "execution_count": 44,
   "metadata": {},
   "outputs": [
    {
     "data": {
      "text/plain": [
       "array(['Ahuntsic-Cartierville', 'Anjou', \"Baie-d'Urfé\", 'Beaconsfield',\n",
       "       'Côte-Saint-Luc', 'Côte-des-Neiges/Notre-Dame-de-Grâce',\n",
       "       'Dollard-Des Ormeaux', 'Dorval', 'Hampstead', 'Kirkland',\n",
       "       \"L'Île-Bizard/Sainte-Geneviève\", 'LaSalle', 'Lachine',\n",
       "       'Le Plateau-Mont-Royal', 'Le Sud-Ouest',\n",
       "       'Mercier/Hochelaga-Maisonneuve', 'Mont-Royal', 'Montréal-Est',\n",
       "       'Montréal-Nord', 'Montréal-Ouest', 'Outremont',\n",
       "       'Pierrefonds-Roxboro', 'Pointe-Claire',\n",
       "       'Rivière-des-Prairies/Pointe-aux-Trembles',\n",
       "       'Rosemont/La Petite-Patrie', 'Saint-Laurent', 'Saint-Léonard',\n",
       "       'Sainte-Anne-de-Bellevue', 'Senneville', 'Verdun/Île-des-Soeurs',\n",
       "       'Ville-Marie', 'Villeray/Saint-Michel/Parc-Extension', 'Westmount'],\n",
       "      dtype=object)"
      ]
     },
     "execution_count": 44,
     "metadata": {},
     "output_type": "execute_result"
    }
   ],
   "source": [
    "np.sort(sociodemo['Municipality'].unique())"
   ]
  },
  {
   "cell_type": "code",
   "execution_count": 45,
   "metadata": {},
   "outputs": [
    {
     "data": {
      "text/plain": [
       "array(['Ahuntsic-Cartierville', 'Anjou', \"Baie-d'Urfé\", 'Beaconsfield',\n",
       "       'Côte-Saint-Luc', 'Côte-des-Neiges/Notre-Dame-de-Grâce',\n",
       "       'Dollard-Des Ormeaux', 'Dorval', 'Hampstead', 'Kirkland',\n",
       "       \"L'Île-Bizard/Sainte-Geneviève\", 'LaSalle', 'Lachine',\n",
       "       'Le Plateau-Mont-Royal', 'Le Sud-Ouest',\n",
       "       'Mercier/Hochelaga-Maisonneuve', 'Mont-Royal', 'Montréal-Est',\n",
       "       'Montréal-Nord', 'Montréal-Ouest', 'Outremont',\n",
       "       'Pierrefonds-Roxboro', 'Pointe-Claire',\n",
       "       'Rivière-des-Prairies/Pointe-aux-Trembles',\n",
       "       'Rosemont/La Petite-Patrie', 'Saint-Laurent', 'Saint-Léonard',\n",
       "       'Sainte-Anne-de-Bellevue', 'Senneville', 'Verdun/Île-des-Soeurs',\n",
       "       'Ville-Marie', 'Villeray/Saint-Michel/Parc-Extension', 'Westmount'],\n",
       "      dtype=object)"
      ]
     },
     "execution_count": 45,
     "metadata": {},
     "output_type": "execute_result"
    }
   ],
   "source": [
    "np.sort(final_df['City'].unique())"
   ]
  },
  {
   "cell_type": "markdown",
   "metadata": {},
   "source": [
    "Merging both data frames:"
   ]
  },
  {
   "cell_type": "code",
   "execution_count": 46,
   "metadata": {},
   "outputs": [],
   "source": [
    "final_df = pd.merge(final_df, sociodemo, left_on='City', right_on='Municipality')"
   ]
  },
  {
   "cell_type": "markdown",
   "metadata": {},
   "source": [
    "## 3. Exporting final data frame"
   ]
  },
  {
   "cell_type": "code",
   "execution_count": 47,
   "metadata": {},
   "outputs": [
    {
     "name": "stdout",
     "output_type": "stream",
     "text": [
      "<class 'pandas.core.frame.DataFrame'>\n",
      "Int64Index: 14672 entries, 0 to 14671\n",
      "Columns: 658 entries, MlsNumber to Others\n",
      "dtypes: bool(2), float64(595), int64(49), object(12)\n",
      "memory usage: 73.6+ MB\n"
     ]
    }
   ],
   "source": [
    "# ogólnie to ma bardzo duzo kolumn teraz, pochodzą one chyba w więszkości z extra_data\n",
    "# nie wiem w sumie czy to dobrze czy źle ale na pewno warto to mieć na uwadze\n",
    "final_df.info()"
   ]
  },
  {
   "cell_type": "code",
   "execution_count": 48,
   "metadata": {},
   "outputs": [],
   "source": [
    "# na razie zakomentowałem to bo na razie jeszcze ten notebook jest niedokończony \n",
    "# final_df.to_csv('full_data.csv', encoding='utf-8')"
   ]
  }
 ],
 "metadata": {
  "interpreter": {
   "hash": "916dbcbb3f70747c44a77c7bcd40155683ae19c65e1c03b4aa3499c5328201f1"
  },
  "kernelspec": {
   "display_name": "Python 3.8.10 64-bit",
   "language": "python",
   "name": "python3"
  },
  "language_info": {
   "codemirror_mode": {
    "name": "ipython",
    "version": 3
   },
   "file_extension": ".py",
   "mimetype": "text/x-python",
   "name": "python",
   "nbconvert_exporter": "python",
   "pygments_lexer": "ipython3",
   "version": "3.8.10"
  },
  "orig_nbformat": 4
 },
 "nbformat": 4,
 "nbformat_minor": 2
}
